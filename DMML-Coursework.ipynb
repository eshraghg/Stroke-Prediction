{
 "cells": [
  {
   "cell_type": "code",
   "execution_count": 2,
   "id": "bab6b366",
   "metadata": {},
   "outputs": [],
   "source": [
    "%reset -f\n",
    "import pandas as pd\n",
    "import numpy as np\n",
    "import seaborn as sns\n",
    "import matplotlib.pyplot as plt\n",
    "from sklearn.preprocessing import OneHotEncoder\n",
    "from sklearn.feature_selection import SelectKBest, f_classif\n",
    "from sklearn.model_selection import train_test_split, cross_val_score\n",
    "from sklearn.linear_model import LogisticRegression\n",
    "from sklearn.ensemble import RandomForestClassifier\n",
    "from xgboost import XGBClassifier\n",
    "from sklearn.neighbors import KNeighborsClassifier\n",
    "from sklearn.metrics import confusion_matrix,classification_report,plot_confusion_matrix\n",
    "from sklearn import svm, tree\n",
    "from sklearn.tree import DecisionTreeClassifier\n",
    "from sklearn.ensemble import RandomForestClassifier\n",
    "from sklearn.naive_bayes import GaussianNB\n",
    "import joblib\n",
    "import warnings\n",
    "warnings.simplefilter(action='ignore', category=FutureWarning)"
   ]
  },
  {
   "cell_type": "code",
   "execution_count": 3,
   "id": "ceec11ea",
   "metadata": {
    "scrolled": false
   },
   "outputs": [
    {
     "data": {
      "text/html": [
       "<div>\n",
       "<style scoped>\n",
       "    .dataframe tbody tr th:only-of-type {\n",
       "        vertical-align: middle;\n",
       "    }\n",
       "\n",
       "    .dataframe tbody tr th {\n",
       "        vertical-align: top;\n",
       "    }\n",
       "\n",
       "    .dataframe thead th {\n",
       "        text-align: right;\n",
       "    }\n",
       "</style>\n",
       "<table border=\"1\" class=\"dataframe\">\n",
       "  <thead>\n",
       "    <tr style=\"text-align: right;\">\n",
       "      <th></th>\n",
       "      <th>Gender</th>\n",
       "      <th>Age</th>\n",
       "      <th>Hypertension</th>\n",
       "      <th>Heart_Disease</th>\n",
       "      <th>Ever_Married</th>\n",
       "      <th>Work_Type</th>\n",
       "      <th>Residence_type</th>\n",
       "      <th>AVG_Glucose_Level</th>\n",
       "      <th>BMI</th>\n",
       "      <th>Smoking Status</th>\n",
       "      <th>Age_Interval</th>\n",
       "      <th>Weight Condition</th>\n",
       "      <th>Glucose Condition</th>\n",
       "      <th>Age-Group</th>\n",
       "      <th>is_Urban</th>\n",
       "      <th>Stroke_Status</th>\n",
       "    </tr>\n",
       "  </thead>\n",
       "  <tbody>\n",
       "    <tr>\n",
       "      <th>0</th>\n",
       "      <td>Male</td>\n",
       "      <td>35.0</td>\n",
       "      <td>0</td>\n",
       "      <td>0</td>\n",
       "      <td>0</td>\n",
       "      <td>Private</td>\n",
       "      <td>Rural</td>\n",
       "      <td>85.37</td>\n",
       "      <td>33.0</td>\n",
       "      <td>never smoked</td>\n",
       "      <td>30-40</td>\n",
       "      <td>Obese</td>\n",
       "      <td>Normal</td>\n",
       "      <td>4</td>\n",
       "      <td>0</td>\n",
       "      <td>0</td>\n",
       "    </tr>\n",
       "    <tr>\n",
       "      <th>1</th>\n",
       "      <td>Male</td>\n",
       "      <td>34.0</td>\n",
       "      <td>0</td>\n",
       "      <td>0</td>\n",
       "      <td>1</td>\n",
       "      <td>Private</td>\n",
       "      <td>Urban</td>\n",
       "      <td>80.81</td>\n",
       "      <td>33.2</td>\n",
       "      <td>never smoked</td>\n",
       "      <td>30-40</td>\n",
       "      <td>Obese</td>\n",
       "      <td>Normal</td>\n",
       "      <td>4</td>\n",
       "      <td>1</td>\n",
       "      <td>0</td>\n",
       "    </tr>\n",
       "    <tr>\n",
       "      <th>2</th>\n",
       "      <td>Female</td>\n",
       "      <td>31.0</td>\n",
       "      <td>0</td>\n",
       "      <td>0</td>\n",
       "      <td>1</td>\n",
       "      <td>Private</td>\n",
       "      <td>Urban</td>\n",
       "      <td>98.99</td>\n",
       "      <td>31.2</td>\n",
       "      <td>never smoked</td>\n",
       "      <td>30-40</td>\n",
       "      <td>Obese</td>\n",
       "      <td>Normal</td>\n",
       "      <td>4</td>\n",
       "      <td>1</td>\n",
       "      <td>0</td>\n",
       "    </tr>\n",
       "  </tbody>\n",
       "</table>\n",
       "</div>"
      ],
      "text/plain": [
       "   Gender   Age  Hypertension  Heart_Disease  Ever_Married Work_Type  \\\n",
       "0    Male  35.0             0              0             0   Private   \n",
       "1    Male  34.0             0              0             1   Private   \n",
       "2  Female  31.0             0              0             1   Private   \n",
       "\n",
       "  Residence_type  AVG_Glucose_Level   BMI Smoking Status Age_Interval  \\\n",
       "0          Rural              85.37  33.0   never smoked        30-40   \n",
       "1          Urban              80.81  33.2   never smoked        30-40   \n",
       "2          Urban              98.99  31.2   never smoked        30-40   \n",
       "\n",
       "  Weight Condition Glucose Condition  Age-Group  is_Urban  Stroke_Status  \n",
       "0            Obese            Normal          4         0              0  \n",
       "1            Obese            Normal          4         1              0  \n",
       "2            Obese            Normal          4         1              0  "
      ]
     },
     "execution_count": 3,
     "metadata": {},
     "output_type": "execute_result"
    }
   ],
   "source": [
    "df = pd.read_excel('DataFromPowerBI.xlsx')\n",
    "df.head(3)"
   ]
  },
  {
   "cell_type": "code",
   "execution_count": 4,
   "id": "c7671476",
   "metadata": {},
   "outputs": [],
   "source": [
    "df = df.drop(['Age','Age_Interval','BMI','AVG_Glucose_Level','Residence_type','Gender'],axis=1)"
   ]
  },
  {
   "cell_type": "code",
   "execution_count": 5,
   "id": "6d040869",
   "metadata": {
    "scrolled": false
   },
   "outputs": [
    {
     "name": "stdout",
     "output_type": "stream",
     "text": [
      "<class 'pandas.core.frame.DataFrame'>\n",
      "RangeIndex: 5109 entries, 0 to 5108\n",
      "Data columns (total 10 columns):\n",
      " #   Column             Non-Null Count  Dtype \n",
      "---  ------             --------------  ----- \n",
      " 0   Hypertension       5109 non-null   int64 \n",
      " 1   Heart_Disease      5109 non-null   int64 \n",
      " 2   Ever_Married       5109 non-null   int64 \n",
      " 3   Work_Type          5109 non-null   object\n",
      " 4   Smoking Status     5109 non-null   object\n",
      " 5   Weight Condition   5109 non-null   object\n",
      " 6   Glucose Condition  5109 non-null   object\n",
      " 7   Age-Group          5109 non-null   int64 \n",
      " 8   is_Urban           5109 non-null   int64 \n",
      " 9   Stroke_Status      5109 non-null   int64 \n",
      "dtypes: int64(6), object(4)\n",
      "memory usage: 399.3+ KB\n"
     ]
    }
   ],
   "source": [
    "df.info()"
   ]
  },
  {
   "cell_type": "code",
   "execution_count": 6,
   "id": "bad97c8a",
   "metadata": {},
   "outputs": [
    {
     "data": {
      "text/html": [
       "<div>\n",
       "<style scoped>\n",
       "    .dataframe tbody tr th:only-of-type {\n",
       "        vertical-align: middle;\n",
       "    }\n",
       "\n",
       "    .dataframe tbody tr th {\n",
       "        vertical-align: top;\n",
       "    }\n",
       "\n",
       "    .dataframe thead th {\n",
       "        text-align: right;\n",
       "    }\n",
       "</style>\n",
       "<table border=\"1\" class=\"dataframe\">\n",
       "  <thead>\n",
       "    <tr style=\"text-align: right;\">\n",
       "      <th></th>\n",
       "      <th>count</th>\n",
       "      <th>mean</th>\n",
       "      <th>std</th>\n",
       "      <th>min</th>\n",
       "      <th>25%</th>\n",
       "      <th>50%</th>\n",
       "      <th>75%</th>\n",
       "      <th>max</th>\n",
       "    </tr>\n",
       "  </thead>\n",
       "  <tbody>\n",
       "    <tr>\n",
       "      <th>Hypertension</th>\n",
       "      <td>5109.0</td>\n",
       "      <td>0.097475</td>\n",
       "      <td>0.296633</td>\n",
       "      <td>0.0</td>\n",
       "      <td>0.0</td>\n",
       "      <td>0.0</td>\n",
       "      <td>0.0</td>\n",
       "      <td>1.0</td>\n",
       "    </tr>\n",
       "    <tr>\n",
       "      <th>Heart_Disease</th>\n",
       "      <td>5109.0</td>\n",
       "      <td>0.054022</td>\n",
       "      <td>0.226084</td>\n",
       "      <td>0.0</td>\n",
       "      <td>0.0</td>\n",
       "      <td>0.0</td>\n",
       "      <td>0.0</td>\n",
       "      <td>1.0</td>\n",
       "    </tr>\n",
       "    <tr>\n",
       "      <th>Ever_Married</th>\n",
       "      <td>5109.0</td>\n",
       "      <td>0.656293</td>\n",
       "      <td>0.474991</td>\n",
       "      <td>0.0</td>\n",
       "      <td>0.0</td>\n",
       "      <td>1.0</td>\n",
       "      <td>1.0</td>\n",
       "      <td>1.0</td>\n",
       "    </tr>\n",
       "    <tr>\n",
       "      <th>Age-Group</th>\n",
       "      <td>5109.0</td>\n",
       "      <td>4.883735</td>\n",
       "      <td>2.264384</td>\n",
       "      <td>1.0</td>\n",
       "      <td>3.0</td>\n",
       "      <td>5.0</td>\n",
       "      <td>7.0</td>\n",
       "      <td>9.0</td>\n",
       "    </tr>\n",
       "    <tr>\n",
       "      <th>is_Urban</th>\n",
       "      <td>5109.0</td>\n",
       "      <td>0.508123</td>\n",
       "      <td>0.499983</td>\n",
       "      <td>0.0</td>\n",
       "      <td>0.0</td>\n",
       "      <td>1.0</td>\n",
       "      <td>1.0</td>\n",
       "      <td>1.0</td>\n",
       "    </tr>\n",
       "    <tr>\n",
       "      <th>Stroke_Status</th>\n",
       "      <td>5109.0</td>\n",
       "      <td>0.048738</td>\n",
       "      <td>0.215340</td>\n",
       "      <td>0.0</td>\n",
       "      <td>0.0</td>\n",
       "      <td>0.0</td>\n",
       "      <td>0.0</td>\n",
       "      <td>1.0</td>\n",
       "    </tr>\n",
       "  </tbody>\n",
       "</table>\n",
       "</div>"
      ],
      "text/plain": [
       "                count      mean       std  min  25%  50%  75%  max\n",
       "Hypertension   5109.0  0.097475  0.296633  0.0  0.0  0.0  0.0  1.0\n",
       "Heart_Disease  5109.0  0.054022  0.226084  0.0  0.0  0.0  0.0  1.0\n",
       "Ever_Married   5109.0  0.656293  0.474991  0.0  0.0  1.0  1.0  1.0\n",
       "Age-Group      5109.0  4.883735  2.264384  1.0  3.0  5.0  7.0  9.0\n",
       "is_Urban       5109.0  0.508123  0.499983  0.0  0.0  1.0  1.0  1.0\n",
       "Stroke_Status  5109.0  0.048738  0.215340  0.0  0.0  0.0  0.0  1.0"
      ]
     },
     "execution_count": 6,
     "metadata": {},
     "output_type": "execute_result"
    }
   ],
   "source": [
    "df.describe().T"
   ]
  },
  {
   "cell_type": "code",
   "execution_count": 7,
   "id": "4e806404",
   "metadata": {
    "scrolled": false
   },
   "outputs": [
    {
     "data": {
      "text/html": [
       "<div>\n",
       "<style scoped>\n",
       "    .dataframe tbody tr th:only-of-type {\n",
       "        vertical-align: middle;\n",
       "    }\n",
       "\n",
       "    .dataframe tbody tr th {\n",
       "        vertical-align: top;\n",
       "    }\n",
       "\n",
       "    .dataframe thead th {\n",
       "        text-align: right;\n",
       "    }\n",
       "</style>\n",
       "<table border=\"1\" class=\"dataframe\">\n",
       "  <thead>\n",
       "    <tr style=\"text-align: right;\">\n",
       "      <th></th>\n",
       "      <th>count</th>\n",
       "      <th>unique</th>\n",
       "      <th>top</th>\n",
       "      <th>freq</th>\n",
       "    </tr>\n",
       "  </thead>\n",
       "  <tbody>\n",
       "    <tr>\n",
       "      <th>Work_Type</th>\n",
       "      <td>5109</td>\n",
       "      <td>5</td>\n",
       "      <td>Private</td>\n",
       "      <td>2924</td>\n",
       "    </tr>\n",
       "    <tr>\n",
       "      <th>Smoking Status</th>\n",
       "      <td>5109</td>\n",
       "      <td>4</td>\n",
       "      <td>never smoked</td>\n",
       "      <td>1892</td>\n",
       "    </tr>\n",
       "    <tr>\n",
       "      <th>Weight Condition</th>\n",
       "      <td>5109</td>\n",
       "      <td>5</td>\n",
       "      <td>Obese</td>\n",
       "      <td>1920</td>\n",
       "    </tr>\n",
       "    <tr>\n",
       "      <th>Glucose Condition</th>\n",
       "      <td>5109</td>\n",
       "      <td>3</td>\n",
       "      <td>Normal</td>\n",
       "      <td>3131</td>\n",
       "    </tr>\n",
       "  </tbody>\n",
       "</table>\n",
       "</div>"
      ],
      "text/plain": [
       "                  count unique           top  freq\n",
       "Work_Type          5109      5       Private  2924\n",
       "Smoking Status     5109      4  never smoked  1892\n",
       "Weight Condition   5109      5         Obese  1920\n",
       "Glucose Condition  5109      3        Normal  3131"
      ]
     },
     "execution_count": 7,
     "metadata": {},
     "output_type": "execute_result"
    }
   ],
   "source": [
    "df.describe(include = 'object').T"
   ]
  },
  {
   "cell_type": "code",
   "execution_count": 8,
   "id": "686c4095",
   "metadata": {
    "scrolled": true
   },
   "outputs": [
    {
     "data": {
      "text/plain": [
       "never smoked       1892\n",
       "Unknown            1544\n",
       "formerly smoked     884\n",
       "smokes              789\n",
       "Name: Smoking Status, dtype: int64"
      ]
     },
     "execution_count": 8,
     "metadata": {},
     "output_type": "execute_result"
    }
   ],
   "source": [
    "df['Smoking Status'].value_counts()"
   ]
  },
  {
   "cell_type": "code",
   "execution_count": 9,
   "id": "a5252842",
   "metadata": {
    "scrolled": true
   },
   "outputs": [
    {
     "data": {
      "text/plain": [
       "Obese          1920\n",
       "Overweight     1409\n",
       "Normal         1242\n",
       "Underweight     337\n",
       "Unknown         201\n",
       "Name: Weight Condition, dtype: int64"
      ]
     },
     "execution_count": 9,
     "metadata": {},
     "output_type": "execute_result"
    }
   ],
   "source": [
    "df['Weight Condition'].value_counts()"
   ]
  },
  {
   "cell_type": "markdown",
   "id": "c9d3f2b1",
   "metadata": {},
   "source": [
    "Assumption: Age group 1 has never smoked:"
   ]
  },
  {
   "cell_type": "code",
   "execution_count": 10,
   "id": "41002829",
   "metadata": {},
   "outputs": [
    {
     "data": {
      "text/plain": [
       "never smoked       2364\n",
       "Unknown            1072\n",
       "formerly smoked     884\n",
       "smokes              789\n",
       "Name: Smoking Status, dtype: int64"
      ]
     },
     "execution_count": 10,
     "metadata": {},
     "output_type": "execute_result"
    }
   ],
   "source": [
    "mask = (df['Smoking Status'] == 'Unknown') & (df['Age-Group']==1)\n",
    "df.loc[mask,'Smoking Status'] = 'never smoked'\n",
    "df['Smoking Status'].value_counts()"
   ]
  },
  {
   "cell_type": "markdown",
   "id": "7d263043",
   "metadata": {},
   "source": [
    "# Method 1: Remove rows containing missing values"
   ]
  },
  {
   "cell_type": "code",
   "execution_count": 11,
   "id": "1baac905",
   "metadata": {},
   "outputs": [],
   "source": [
    "mask = (df['Weight Condition'] =='Unknown') | (df['Smoking Status'] =='Unknown')\n",
    "df_method1 = df.drop(df[mask].index)"
   ]
  },
  {
   "cell_type": "code",
   "execution_count": 12,
   "id": "cb7fb322",
   "metadata": {
    "scrolled": false
   },
   "outputs": [],
   "source": [
    "cols=df_method1.select_dtypes(include=['object']).columns"
   ]
  },
  {
   "cell_type": "code",
   "execution_count": 13,
   "id": "56f411b2",
   "metadata": {
    "scrolled": true
   },
   "outputs": [
    {
     "data": {
      "text/html": [
       "<div>\n",
       "<style scoped>\n",
       "    .dataframe tbody tr th:only-of-type {\n",
       "        vertical-align: middle;\n",
       "    }\n",
       "\n",
       "    .dataframe tbody tr th {\n",
       "        vertical-align: top;\n",
       "    }\n",
       "\n",
       "    .dataframe thead th {\n",
       "        text-align: right;\n",
       "    }\n",
       "</style>\n",
       "<table border=\"1\" class=\"dataframe\">\n",
       "  <thead>\n",
       "    <tr style=\"text-align: right;\">\n",
       "      <th></th>\n",
       "      <th>Work_Type_Govt_job</th>\n",
       "      <th>Work_Type_Never_worked</th>\n",
       "      <th>Work_Type_Private</th>\n",
       "      <th>Work_Type_Self-employed</th>\n",
       "      <th>Work_Type_children</th>\n",
       "      <th>Smoking Status_formerly smoked</th>\n",
       "      <th>Smoking Status_never smoked</th>\n",
       "      <th>Smoking Status_smokes</th>\n",
       "      <th>Weight Condition_Normal</th>\n",
       "      <th>Weight Condition_Obese</th>\n",
       "      <th>...</th>\n",
       "      <th>Weight Condition_Underweight</th>\n",
       "      <th>Glucose Condition_Diabetes</th>\n",
       "      <th>Glucose Condition_Normal</th>\n",
       "      <th>Glucose Condition_Pre-Diabetes</th>\n",
       "      <th>Hypertension</th>\n",
       "      <th>Heart_Disease</th>\n",
       "      <th>Ever_Married</th>\n",
       "      <th>Age-Group</th>\n",
       "      <th>is_Urban</th>\n",
       "      <th>Stroke_Status</th>\n",
       "    </tr>\n",
       "  </thead>\n",
       "  <tbody>\n",
       "    <tr>\n",
       "      <th>0</th>\n",
       "      <td>0</td>\n",
       "      <td>0</td>\n",
       "      <td>1</td>\n",
       "      <td>0</td>\n",
       "      <td>0</td>\n",
       "      <td>0</td>\n",
       "      <td>1</td>\n",
       "      <td>0</td>\n",
       "      <td>0</td>\n",
       "      <td>1</td>\n",
       "      <td>...</td>\n",
       "      <td>0</td>\n",
       "      <td>0</td>\n",
       "      <td>1</td>\n",
       "      <td>0</td>\n",
       "      <td>0</td>\n",
       "      <td>0</td>\n",
       "      <td>0</td>\n",
       "      <td>4</td>\n",
       "      <td>0</td>\n",
       "      <td>0</td>\n",
       "    </tr>\n",
       "    <tr>\n",
       "      <th>1</th>\n",
       "      <td>0</td>\n",
       "      <td>0</td>\n",
       "      <td>1</td>\n",
       "      <td>0</td>\n",
       "      <td>0</td>\n",
       "      <td>0</td>\n",
       "      <td>1</td>\n",
       "      <td>0</td>\n",
       "      <td>0</td>\n",
       "      <td>1</td>\n",
       "      <td>...</td>\n",
       "      <td>0</td>\n",
       "      <td>0</td>\n",
       "      <td>1</td>\n",
       "      <td>0</td>\n",
       "      <td>0</td>\n",
       "      <td>0</td>\n",
       "      <td>1</td>\n",
       "      <td>4</td>\n",
       "      <td>1</td>\n",
       "      <td>0</td>\n",
       "    </tr>\n",
       "    <tr>\n",
       "      <th>2</th>\n",
       "      <td>0</td>\n",
       "      <td>0</td>\n",
       "      <td>1</td>\n",
       "      <td>0</td>\n",
       "      <td>0</td>\n",
       "      <td>0</td>\n",
       "      <td>1</td>\n",
       "      <td>0</td>\n",
       "      <td>0</td>\n",
       "      <td>1</td>\n",
       "      <td>...</td>\n",
       "      <td>0</td>\n",
       "      <td>0</td>\n",
       "      <td>1</td>\n",
       "      <td>0</td>\n",
       "      <td>0</td>\n",
       "      <td>0</td>\n",
       "      <td>1</td>\n",
       "      <td>4</td>\n",
       "      <td>1</td>\n",
       "      <td>0</td>\n",
       "    </tr>\n",
       "    <tr>\n",
       "      <th>3</th>\n",
       "      <td>0</td>\n",
       "      <td>0</td>\n",
       "      <td>1</td>\n",
       "      <td>0</td>\n",
       "      <td>0</td>\n",
       "      <td>0</td>\n",
       "      <td>1</td>\n",
       "      <td>0</td>\n",
       "      <td>0</td>\n",
       "      <td>1</td>\n",
       "      <td>...</td>\n",
       "      <td>0</td>\n",
       "      <td>0</td>\n",
       "      <td>1</td>\n",
       "      <td>0</td>\n",
       "      <td>0</td>\n",
       "      <td>0</td>\n",
       "      <td>1</td>\n",
       "      <td>4</td>\n",
       "      <td>0</td>\n",
       "      <td>0</td>\n",
       "    </tr>\n",
       "    <tr>\n",
       "      <th>4</th>\n",
       "      <td>0</td>\n",
       "      <td>0</td>\n",
       "      <td>1</td>\n",
       "      <td>0</td>\n",
       "      <td>0</td>\n",
       "      <td>0</td>\n",
       "      <td>1</td>\n",
       "      <td>0</td>\n",
       "      <td>0</td>\n",
       "      <td>1</td>\n",
       "      <td>...</td>\n",
       "      <td>0</td>\n",
       "      <td>0</td>\n",
       "      <td>1</td>\n",
       "      <td>0</td>\n",
       "      <td>0</td>\n",
       "      <td>0</td>\n",
       "      <td>1</td>\n",
       "      <td>4</td>\n",
       "      <td>1</td>\n",
       "      <td>0</td>\n",
       "    </tr>\n",
       "  </tbody>\n",
       "</table>\n",
       "<p>5 rows × 21 columns</p>\n",
       "</div>"
      ],
      "text/plain": [
       "   Work_Type_Govt_job  Work_Type_Never_worked  Work_Type_Private  \\\n",
       "0                   0                       0                  1   \n",
       "1                   0                       0                  1   \n",
       "2                   0                       0                  1   \n",
       "3                   0                       0                  1   \n",
       "4                   0                       0                  1   \n",
       "\n",
       "   Work_Type_Self-employed  Work_Type_children  \\\n",
       "0                        0                   0   \n",
       "1                        0                   0   \n",
       "2                        0                   0   \n",
       "3                        0                   0   \n",
       "4                        0                   0   \n",
       "\n",
       "   Smoking Status_formerly smoked  Smoking Status_never smoked  \\\n",
       "0                               0                            1   \n",
       "1                               0                            1   \n",
       "2                               0                            1   \n",
       "3                               0                            1   \n",
       "4                               0                            1   \n",
       "\n",
       "   Smoking Status_smokes  Weight Condition_Normal  Weight Condition_Obese  \\\n",
       "0                      0                        0                       1   \n",
       "1                      0                        0                       1   \n",
       "2                      0                        0                       1   \n",
       "3                      0                        0                       1   \n",
       "4                      0                        0                       1   \n",
       "\n",
       "   ...  Weight Condition_Underweight  Glucose Condition_Diabetes  \\\n",
       "0  ...                             0                           0   \n",
       "1  ...                             0                           0   \n",
       "2  ...                             0                           0   \n",
       "3  ...                             0                           0   \n",
       "4  ...                             0                           0   \n",
       "\n",
       "   Glucose Condition_Normal  Glucose Condition_Pre-Diabetes  Hypertension  \\\n",
       "0                         1                               0             0   \n",
       "1                         1                               0             0   \n",
       "2                         1                               0             0   \n",
       "3                         1                               0             0   \n",
       "4                         1                               0             0   \n",
       "\n",
       "   Heart_Disease  Ever_Married  Age-Group  is_Urban  Stroke_Status  \n",
       "0              0             0          4         0              0  \n",
       "1              0             1          4         1              0  \n",
       "2              0             1          4         1              0  \n",
       "3              0             1          4         0              0  \n",
       "4              0             1          4         1              0  \n",
       "\n",
       "[5 rows x 21 columns]"
      ]
     },
     "execution_count": 13,
     "metadata": {},
     "output_type": "execute_result"
    }
   ],
   "source": [
    "Encoded_df = pd.get_dummies(df_method1[cols])\n",
    "cols=df_method1.select_dtypes(include=['int']).columns\n",
    "Encoded_df = pd.concat([Encoded_df, df_method1[cols]], axis=1)\n",
    "Encoded_df.head()"
   ]
  },
  {
   "cell_type": "markdown",
   "id": "5c6572fc",
   "metadata": {},
   "source": [
    "To avoid dummy encoding trap, the redundant columns should be dropped:"
   ]
  },
  {
   "cell_type": "code",
   "execution_count": 14,
   "id": "546a75bc",
   "metadata": {},
   "outputs": [],
   "source": [
    "Encoded_df = Encoded_df.drop(['Work_Type_Never_worked','Smoking Status_never smoked','Weight Condition_Normal','Glucose Condition_Normal'],axis=1)"
   ]
  },
  {
   "cell_type": "code",
   "execution_count": 15,
   "id": "51334534",
   "metadata": {
    "scrolled": false
   },
   "outputs": [
    {
     "data": {
      "image/png": "[encoded data removed]",
      "text/plain": [
       "<Figure size 720x504 with 2 Axes>"
      ]
     },
     "metadata": {
      "needs_background": "light"
     },
     "output_type": "display_data"
    }
   ],
   "source": [
    "plt.figure(figsize=(10,7))\n",
    "sns.heatmap(Encoded_df.corr(),annot=False,fmt='.2');"
   ]
  },
  {
   "cell_type": "code",
   "execution_count": 16,
   "id": "315e1e86",
   "metadata": {},
   "outputs": [
    {
     "data": {
      "text/plain": [
       "Work_Type_children               -0.087152\n",
       "Weight Condition_Underweight     -0.058084\n",
       "Glucose Condition_Pre-Diabetes   -0.029367\n",
       "Work_Type_Govt_job               -0.002967\n",
       "is_Urban                          0.005031\n",
       "Smoking Status_smokes             0.015131\n",
       "Work_Type_Private                 0.017293\n",
       "Weight Condition_Overweight       0.034177\n",
       "Weight Condition_Obese            0.035909\n",
       "Smoking Status_formerly smoked    0.054402\n",
       "Work_Type_Self-employed           0.062469\n",
       "Ever_Married                      0.102949\n",
       "Glucose Condition_Diabetes        0.130013\n",
       "Heart_Disease                     0.143976\n",
       "Hypertension                      0.152148\n",
       "Age-Group                         0.235945\n",
       "Name: Stroke_Status, dtype: float64"
      ]
     },
     "execution_count": 16,
     "metadata": {},
     "output_type": "execute_result"
    }
   ],
   "source": [
    "Encoded_df.corr()['Stroke_Status'].sort_values()[:-1]"
   ]
  },
  {
   "cell_type": "markdown",
   "id": "ffb3245b",
   "metadata": {},
   "source": [
    "**Defining  Metrics**"
   ]
  },
  {
   "cell_type": "code",
   "execution_count": 17,
   "id": "5adfb4c6",
   "metadata": {},
   "outputs": [],
   "source": [
    "# Defining function for calculating Metrics\n",
    "\n",
    "def calculate_metrics(model_name,y_test, y_pred):\n",
    "    cm = confusion_matrix(y_test,y_pred)\n",
    "    TN = cm[0,0]\n",
    "    FP = cm[0,1]\n",
    "    FN = cm[1,0]\n",
    "    TP = cm[1,1]\n",
    "    \n",
    "    Sensitivity      = TP/(TP+FN)\n",
    "    Specificity      = TN/(TN+FP)\n",
    "    Precision        = TP/(TP+FP)\n",
    "    Accuracy         = (TP+TN)/(TP+FP+FN+TN)\n",
    "    F1               = (2*Sensitivity*Precision)/(Sensitivity+Precision)\n",
    "             \n",
    "    return pd.DataFrame({f'{model_name}':{\n",
    "        'Sensitivity': Sensitivity,\n",
    "        'Specificity': Specificity,\n",
    "        'Precision'  : Precision,\n",
    "        'Accuracy'   : Accuracy,\n",
    "        'F1'         : F1\n",
    "    }})"
   ]
  },
  {
   "cell_type": "markdown",
   "id": "5f7d45f4",
   "metadata": {},
   "source": [
    "**Defining Train and Test Splits**"
   ]
  },
  {
   "cell_type": "code",
   "execution_count": 18,
   "id": "9b1db523",
   "metadata": {},
   "outputs": [],
   "source": [
    "X = Encoded_df.iloc[:,0:-1]\n",
    "y = Encoded_df.iloc[:,-1]\n",
    "X_train,X_test,y_train,y_test = train_test_split(X, y, test_size=0.30 ,random_state=11)"
   ]
  },
  {
   "cell_type": "markdown",
   "id": "5950b797",
   "metadata": {},
   "source": [
    "**Scaling the data (only applicable to the age gruop)**"
   ]
  },
  {
   "cell_type": "code",
   "execution_count": 19,
   "id": "5c837bac",
   "metadata": {},
   "outputs": [],
   "source": [
    "from sklearn.preprocessing import StandardScaler\n",
    "sc=StandardScaler()\n",
    "\n",
    "X_train = sc.fit_transform(X_train)\n",
    "X_test  = sc.transform(X_test)\n",
    "X       = sc.transform(X)\n"
   ]
  },
  {
   "cell_type": "markdown",
   "id": "ea576d67",
   "metadata": {},
   "source": [
    "**Using SMOTE to upsampling the data**"
   ]
  },
  {
   "cell_type": "code",
   "execution_count": 20,
   "id": "d4126673",
   "metadata": {},
   "outputs": [],
   "source": [
    "# !pip install imblearn\n",
    "from imblearn.over_sampling import SMOTE"
   ]
  },
  {
   "cell_type": "code",
   "execution_count": 21,
   "id": "96c45c45",
   "metadata": {},
   "outputs": [],
   "source": [
    "smote=SMOTE()\n",
    "X_train,y_train = smote.fit_resample(X_train,y_train)\n",
    "X_test,y_test   = smote.fit_resample(X_test,y_test)\n",
    "X,y             = smote.fit_resample(X,y)"
   ]
  },
  {
   "cell_type": "markdown",
   "id": "9bf475ec",
   "metadata": {},
   "source": [
    "**Finding Best Hyper Parameters Before Building Models**"
   ]
  },
  {
   "cell_type": "code",
   "execution_count": 22,
   "id": "26f953c9",
   "metadata": {},
   "outputs": [],
   "source": [
    "from sklearn.model_selection import GridSearchCV\n",
    "grid_models = [(LogisticRegression(),[{'C':[0.25,0.5,0.75,1],'random_state':[0]}]), \n",
    "               (svm.SVC(),[{'C':[0.25,0.5,0.75,1,1.5,2],'kernel':['linear', 'rbf'],'random_state':[0]}]), \n",
    "               (DecisionTreeClassifier(),[{'criterion':['gini','entropy'],'random_state':[0]}]), \n",
    "               (RandomForestClassifier(),[{'n_estimators':[200,500,1000],'criterion':['gini','entropy'],'random_state':[0]}]),\n",
    "               (GaussianNB(),[{'var_smoothing': [1e-09]}]), \n",
    "               (KNeighborsClassifier(),[{'n_neighbors':[3,5,7,8,10],\n",
    "                                         'metric': ['euclidean', 'manhattan', 'chebyshev', 'minkowski']}]), \n",
    "               (XGBClassifier(), [{'learning_rate': [0.01, 0.05, 0.1], 'eval_metric': ['error']}])]"
   ]
  },
  {
   "cell_type": "code",
   "execution_count": 23,
   "id": "134ef7a2",
   "metadata": {},
   "outputs": [
    {
     "name": "stdout",
     "output_type": "stream",
     "text": [
      "LogisticRegression():\n",
      "Best Accuracy : 80.16%\n",
      "Best Parameters :  {'C': 1, 'random_state': 0}\n",
      "\n",
      "------------------------------------------------\n",
      "\n",
      "SVC():\n",
      "Best Accuracy : 91.46%\n",
      "Best Parameters :  {'C': 2, 'kernel': 'rbf', 'random_state': 0}\n",
      "\n",
      "------------------------------------------------\n",
      "\n",
      "DecisionTreeClassifier():\n",
      "Best Accuracy : 95.07%\n",
      "Best Parameters :  {'criterion': 'gini', 'random_state': 0}\n",
      "\n",
      "------------------------------------------------\n",
      "\n",
      "RandomForestClassifier():\n",
      "Best Accuracy : 96.20%\n",
      "Best Parameters :  {'criterion': 'entropy', 'n_estimators': 500, 'random_state': 0}\n",
      "\n",
      "------------------------------------------------\n",
      "\n",
      "GaussianNB():\n",
      "Best Accuracy : 73.52%\n",
      "Best Parameters :  {'var_smoothing': 1e-09}\n",
      "\n",
      "------------------------------------------------\n",
      "\n",
      "KNeighborsClassifier():\n",
      "Best Accuracy : 93.22%\n",
      "Best Parameters :  {'metric': 'manhattan', 'n_neighbors': 3}\n",
      "\n",
      "------------------------------------------------\n",
      "\n",
      "XGBClassifier(base_score=None, booster=None, callbacks=None,\n",
      "              colsample_bylevel=None, colsample_bynode=None,\n",
      "              colsample_bytree=None, early_stopping_rounds=None,\n",
      "              enable_categorical=False, eval_metric=None, gamma=None,\n",
      "              gpu_id=None, grow_policy=None, importance_type=None,\n",
      "              interaction_constraints=None, learning_rate=None, max_bin=None,\n",
      "              max_cat_to_onehot=None, max_delta_step=None, max_depth=None,\n",
      "              max_leaves=None, min_child_weight=None, missing=nan,\n",
      "              monotone_constraints=None, n_estimators=100, n_jobs=None,\n",
      "              num_parallel_tree=None, predictor=None, random_state=None,\n",
      "              reg_alpha=None, reg_lambda=None, ...):\n",
      "Best Accuracy : 96.32%\n",
      "Best Parameters :  {'eval_metric': 'error', 'learning_rate': 0.1}\n",
      "\n",
      "------------------------------------------------\n",
      "\n"
     ]
    }
   ],
   "source": [
    "for i,j in grid_models:\n",
    "    grid = GridSearchCV(estimator=i,param_grid = j, scoring = 'f1',cv = 10)\n",
    "    grid.fit(X_train, y_train)\n",
    "    best_accuracy = grid.best_score_\n",
    "    best_param = grid.best_params_\n",
    "    print('{}:\\nBest Accuracy : {:.2f}%'.format(i,best_accuracy*100))\n",
    "    print('Best Parameters : ',best_param)\n",
    "    print('')\n",
    "    print('------------------------------------------------')\n",
    "    print('')"
   ]
  },
  {
   "cell_type": "markdown",
   "id": "277da177",
   "metadata": {},
   "source": [
    "**1) Logistic Regression (Method 1)**"
   ]
  },
  {
   "cell_type": "code",
   "execution_count": 24,
   "id": "444ca1f6",
   "metadata": {
    "scrolled": false
   },
   "outputs": [
    {
     "data": {
      "text/plain": [
       "0.7358328774118247"
      ]
     },
     "execution_count": 24,
     "metadata": {},
     "output_type": "execute_result"
    }
   ],
   "source": [
    "Logistic_model = LogisticRegression(C=1)\n",
    "cross_val_score(Logistic_model, X, y, cv=10).mean()"
   ]
  },
  {
   "cell_type": "code",
   "execution_count": 25,
   "id": "c4c7c1cc",
   "metadata": {},
   "outputs": [
    {
     "data": {
      "text/html": [
       "<style>#sk-container-id-1 {color: black;background-color: white;}#sk-container-id-1 pre{padding: 0;}#sk-container-id-1 div.sk-toggleable {background-color: white;}#sk-container-id-1 label.sk-toggleable__label {cursor: pointer;display: block;width: 100%;margin-bottom: 0;padding: 0.3em;box-sizing: border-box;text-align: center;}#sk-container-id-1 label.sk-toggleable__label-arrow:before {content: \"▸\";float: left;margin-right: 0.25em;color: #696969;}#sk-container-id-1 label.sk-toggleable__label-arrow:hover:before {color: black;}#sk-container-id-1 div.sk-estimator:hover label.sk-toggleable__label-arrow:before {color: black;}#sk-container-id-1 div.sk-toggleable__content {max-height: 0;max-width: 0;overflow: hidden;text-align: left;background-color: #f0f8ff;}#sk-container-id-1 div.sk-toggleable__content pre {margin: 0.2em;color: black;border-radius: 0.25em;background-color: #f0f8ff;}#sk-container-id-1 input.sk-toggleable__control:checked~div.sk-toggleable__content {max-height: 200px;max-width: 100%;overflow: auto;}#sk-container-id-1 input.sk-toggleable__control:checked~label.sk-toggleable__label-arrow:before {content: \"▾\";}#sk-container-id-1 div.sk-estimator input.sk-toggleable__control:checked~label.sk-toggleable__label {background-color: #d4ebff;}#sk-container-id-1 div.sk-label input.sk-toggleable__control:checked~label.sk-toggleable__label {background-color: #d4ebff;}#sk-container-id-1 input.sk-hidden--visually {border: 0;clip: rect(1px 1px 1px 1px);clip: rect(1px, 1px, 1px, 1px);height: 1px;margin: -1px;overflow: hidden;padding: 0;position: absolute;width: 1px;}#sk-container-id-1 div.sk-estimator {font-family: monospace;background-color: #f0f8ff;border: 1px dotted black;border-radius: 0.25em;box-sizing: border-box;margin-bottom: 0.5em;}#sk-container-id-1 div.sk-estimator:hover {background-color: #d4ebff;}#sk-container-id-1 div.sk-parallel-item::after {content: \"\";width: 100%;border-bottom: 1px solid gray;flex-grow: 1;}#sk-container-id-1 div.sk-label:hover label.sk-toggleable__label {background-color: #d4ebff;}#sk-container-id-1 div.sk-serial::before {content: \"\";position: absolute;border-left: 1px solid gray;box-sizing: border-box;top: 0;bottom: 0;left: 50%;z-index: 0;}#sk-container-id-1 div.sk-serial {display: flex;flex-direction: column;align-items: center;background-color: white;padding-right: 0.2em;padding-left: 0.2em;position: relative;}#sk-container-id-1 div.sk-item {position: relative;z-index: 1;}#sk-container-id-1 div.sk-parallel {display: flex;align-items: stretch;justify-content: center;background-color: white;position: relative;}#sk-container-id-1 div.sk-item::before, #sk-container-id-1 div.sk-parallel-item::before {content: \"\";position: absolute;border-left: 1px solid gray;box-sizing: border-box;top: 0;bottom: 0;left: 50%;z-index: -1;}#sk-container-id-1 div.sk-parallel-item {display: flex;flex-direction: column;z-index: 1;position: relative;background-color: white;}#sk-container-id-1 div.sk-parallel-item:first-child::after {align-self: flex-end;width: 50%;}#sk-container-id-1 div.sk-parallel-item:last-child::after {align-self: flex-start;width: 50%;}#sk-container-id-1 div.sk-parallel-item:only-child::after {width: 0;}#sk-container-id-1 div.sk-dashed-wrapped {border: 1px dashed gray;margin: 0 0.4em 0.5em 0.4em;box-sizing: border-box;padding-bottom: 0.4em;background-color: white;}#sk-container-id-1 div.sk-label label {font-family: monospace;font-weight: bold;display: inline-block;line-height: 1.2em;}#sk-container-id-1 div.sk-label-container {text-align: center;}#sk-container-id-1 div.sk-container {/* jupyter's `normalize.less` sets `[hidden] { display: none; }` but bootstrap.min.css set `[hidden] { display: none !important; }` so we also need the `!important` here to be able to override the default hidden behavior on the sphinx rendered scikit-learn.org. See: https://github.com/scikit-learn/scikit-learn/issues/21755 */display: inline-block !important;position: relative;}#sk-container-id-1 div.sk-text-repr-fallback {display: none;}</style><div id=\"sk-container-id-1\" class=\"sk-top-container\"><div class=\"sk-text-repr-fallback\"><pre>LogisticRegression(C=0.5)</pre><b>In a Jupyter environment, please rerun this cell to show the HTML representation or trust the notebook. <br />On GitHub, the HTML representation is unable to render, please try loading this page with nbviewer.org.</b></div><div class=\"sk-container\" hidden><div class=\"sk-item\"><div class=\"sk-estimator sk-toggleable\"><input class=\"sk-toggleable__control sk-hidden--visually\" id=\"sk-estimator-id-1\" type=\"checkbox\" checked><label for=\"sk-estimator-id-1\" class=\"sk-toggleable__label sk-toggleable__label-arrow\">LogisticRegression</label><div class=\"sk-toggleable__content\"><pre>LogisticRegression(C=0.5)</pre></div></div></div></div></div>"
      ],
      "text/plain": [
       "LogisticRegression(C=0.5)"
      ]
     },
     "execution_count": 25,
     "metadata": {},
     "output_type": "execute_result"
    }
   ],
   "source": [
    "Logistic_model.fit(X_train,y_train)"
   ]
  },
  {
   "cell_type": "code",
   "execution_count": 26,
   "id": "e320214d",
   "metadata": {
    "scrolled": true
   },
   "outputs": [
    {
     "data": {
      "image/png": "[encoded data removed]",
      "text/plain": [
       "<Figure size 432x288 with 2 Axes>"
      ]
     },
     "metadata": {
      "needs_background": "light"
     },
     "output_type": "display_data"
    }
   ],
   "source": [
    "y_pred = Logistic_model.predict(X_test)\n",
    "plot_confusion_matrix(Logistic_model,X_test,y_test, normalize = 'all');"
   ]
  },
  {
   "cell_type": "code",
   "execution_count": 27,
   "id": "3cd72bdd",
   "metadata": {
    "scrolled": true
   },
   "outputs": [
    {
     "data": {
      "text/html": [
       "<div>\n",
       "<style scoped>\n",
       "    .dataframe tbody tr th:only-of-type {\n",
       "        vertical-align: middle;\n",
       "    }\n",
       "\n",
       "    .dataframe tbody tr th {\n",
       "        vertical-align: top;\n",
       "    }\n",
       "\n",
       "    .dataframe thead th {\n",
       "        text-align: right;\n",
       "    }\n",
       "</style>\n",
       "<table border=\"1\" class=\"dataframe\">\n",
       "  <thead>\n",
       "    <tr style=\"text-align: right;\">\n",
       "      <th></th>\n",
       "      <th>Logistic Regression</th>\n",
       "    </tr>\n",
       "  </thead>\n",
       "  <tbody>\n",
       "    <tr>\n",
       "      <th>Accuracy</th>\n",
       "      <td>0.783333</td>\n",
       "    </tr>\n",
       "    <tr>\n",
       "      <th>F1</th>\n",
       "      <td>0.790960</td>\n",
       "    </tr>\n",
       "    <tr>\n",
       "      <th>Precision</th>\n",
       "      <td>0.764064</td>\n",
       "    </tr>\n",
       "    <tr>\n",
       "      <th>Sensitivity</th>\n",
       "      <td>0.819820</td>\n",
       "    </tr>\n",
       "    <tr>\n",
       "      <th>Specificity</th>\n",
       "      <td>0.746847</td>\n",
       "    </tr>\n",
       "  </tbody>\n",
       "</table>\n",
       "</div>"
      ],
      "text/plain": [
       "             Logistic Regression\n",
       "Accuracy                0.783333\n",
       "F1                      0.790960\n",
       "Precision               0.764064\n",
       "Sensitivity             0.819820\n",
       "Specificity             0.746847"
      ]
     },
     "execution_count": 27,
     "metadata": {},
     "output_type": "execute_result"
    }
   ],
   "source": [
    "df_metrics_method_1 = calculate_metrics(\"Logistic Regression\",y_test, y_pred)\n",
    "df_metrics_method_1"
   ]
  },
  {
   "cell_type": "markdown",
   "id": "e26f0dfb",
   "metadata": {},
   "source": [
    "**-----------------------------------------------------------------------------------------------------------------------------------------------------------------------------------**"
   ]
  },
  {
   "cell_type": "markdown",
   "id": "a8459f7f",
   "metadata": {},
   "source": [
    "**2) Support Vector Machine (Method 1)**"
   ]
  },
  {
   "cell_type": "code",
   "execution_count": 28,
   "id": "5f587e3e",
   "metadata": {},
   "outputs": [
    {
     "data": {
      "text/plain": [
       "0.7713303789619579"
      ]
     },
     "execution_count": 28,
     "metadata": {},
     "output_type": "execute_result"
    }
   ],
   "source": [
    "svm_model = svm.SVC(C=2,kernel='rbf')\n",
    "cross_val_score(svm_model, X, y, cv=10).mean()"
   ]
  },
  {
   "cell_type": "code",
   "execution_count": 29,
   "id": "eeacbb01",
   "metadata": {
    "scrolled": true
   },
   "outputs": [
    {
     "data": {
      "image/png": "[encoded data removed]",
      "text/plain": [
       "<Figure size 432x288 with 2 Axes>"
      ]
     },
     "metadata": {
      "needs_background": "light"
     },
     "output_type": "display_data"
    }
   ],
   "source": [
    "svm_model.fit(X_train, y_train)\n",
    "y_pred = svm_model.predict(X_test)\n",
    "plot_confusion_matrix(svm_model,X_test,y_test, normalize='all');"
   ]
  },
  {
   "cell_type": "code",
   "execution_count": 30,
   "id": "42e4d511",
   "metadata": {},
   "outputs": [
    {
     "data": {
      "text/html": [
       "<div>\n",
       "<style scoped>\n",
       "    .dataframe tbody tr th:only-of-type {\n",
       "        vertical-align: middle;\n",
       "    }\n",
       "\n",
       "    .dataframe tbody tr th {\n",
       "        vertical-align: top;\n",
       "    }\n",
       "\n",
       "    .dataframe thead th {\n",
       "        text-align: right;\n",
       "    }\n",
       "</style>\n",
       "<table border=\"1\" class=\"dataframe\">\n",
       "  <thead>\n",
       "    <tr style=\"text-align: right;\">\n",
       "      <th></th>\n",
       "      <th>Logistic Regression</th>\n",
       "      <th>SVM</th>\n",
       "    </tr>\n",
       "  </thead>\n",
       "  <tbody>\n",
       "    <tr>\n",
       "      <th>Accuracy</th>\n",
       "      <td>0.783333</td>\n",
       "      <td>0.762162</td>\n",
       "    </tr>\n",
       "    <tr>\n",
       "      <th>F1</th>\n",
       "      <td>0.790960</td>\n",
       "      <td>0.730061</td>\n",
       "    </tr>\n",
       "    <tr>\n",
       "      <th>Precision</th>\n",
       "      <td>0.764064</td>\n",
       "      <td>0.843972</td>\n",
       "    </tr>\n",
       "    <tr>\n",
       "      <th>Sensitivity</th>\n",
       "      <td>0.819820</td>\n",
       "      <td>0.643243</td>\n",
       "    </tr>\n",
       "    <tr>\n",
       "      <th>Specificity</th>\n",
       "      <td>0.746847</td>\n",
       "      <td>0.881081</td>\n",
       "    </tr>\n",
       "  </tbody>\n",
       "</table>\n",
       "</div>"
      ],
      "text/plain": [
       "             Logistic Regression       SVM\n",
       "Accuracy                0.783333  0.762162\n",
       "F1                      0.790960  0.730061\n",
       "Precision               0.764064  0.843972\n",
       "Sensitivity             0.819820  0.643243\n",
       "Specificity             0.746847  0.881081"
      ]
     },
     "execution_count": 30,
     "metadata": {},
     "output_type": "execute_result"
    }
   ],
   "source": [
    "df_metrics_method_1 = df_metrics_method_1.merge(calculate_metrics(\"SVM\",y_test, y_pred), left_index=True, right_index=True)\n",
    "df_metrics_method_1"
   ]
  },
  {
   "cell_type": "markdown",
   "id": "ba08f800",
   "metadata": {},
   "source": [
    "**-----------------------------------------------------------------------------------------------------------------------------------------------------------------------------------**"
   ]
  },
  {
   "cell_type": "markdown",
   "id": "2c1bb8bc",
   "metadata": {},
   "source": [
    "**3) Decision Tree (Method 1)**"
   ]
  },
  {
   "cell_type": "code",
   "execution_count": 31,
   "id": "e1e032c8",
   "metadata": {},
   "outputs": [
    {
     "data": {
      "text/plain": [
       "0.8605472881788672"
      ]
     },
     "execution_count": 31,
     "metadata": {},
     "output_type": "execute_result"
    }
   ],
   "source": [
    "DT_model = DecisionTreeClassifier(criterion= 'gini')\n",
    "cross_val_score(DT_model, X, y, cv=10).mean()"
   ]
  },
  {
   "cell_type": "code",
   "execution_count": 32,
   "id": "a0b99eec",
   "metadata": {
    "scrolled": false
   },
   "outputs": [
    {
     "data": {
      "image/png": "[encoded data removed]",
      "text/plain": [
       "<Figure size 432x288 with 2 Axes>"
      ]
     },
     "metadata": {
      "needs_background": "light"
     },
     "output_type": "display_data"
    }
   ],
   "source": [
    "DT_model.fit(X_train,y_train)\n",
    "y_pred = DT_model.predict(X_test)\n",
    "plot_confusion_matrix(DT_model,X_test,y_test,normalize='all');"
   ]
  },
  {
   "cell_type": "code",
   "execution_count": 33,
   "id": "63390198",
   "metadata": {
    "scrolled": true
   },
   "outputs": [
    {
     "data": {
      "text/html": [
       "<div>\n",
       "<style scoped>\n",
       "    .dataframe tbody tr th:only-of-type {\n",
       "        vertical-align: middle;\n",
       "    }\n",
       "\n",
       "    .dataframe tbody tr th {\n",
       "        vertical-align: top;\n",
       "    }\n",
       "\n",
       "    .dataframe thead th {\n",
       "        text-align: right;\n",
       "    }\n",
       "</style>\n",
       "<table border=\"1\" class=\"dataframe\">\n",
       "  <thead>\n",
       "    <tr style=\"text-align: right;\">\n",
       "      <th></th>\n",
       "      <th>Logistic Regression</th>\n",
       "      <th>SVM</th>\n",
       "      <th>Decition Tree</th>\n",
       "    </tr>\n",
       "  </thead>\n",
       "  <tbody>\n",
       "    <tr>\n",
       "      <th>Accuracy</th>\n",
       "      <td>0.783333</td>\n",
       "      <td>0.762162</td>\n",
       "      <td>0.908559</td>\n",
       "    </tr>\n",
       "    <tr>\n",
       "      <th>F1</th>\n",
       "      <td>0.790960</td>\n",
       "      <td>0.730061</td>\n",
       "      <td>0.902451</td>\n",
       "    </tr>\n",
       "    <tr>\n",
       "      <th>Precision</th>\n",
       "      <td>0.764064</td>\n",
       "      <td>0.843972</td>\n",
       "      <td>0.967044</td>\n",
       "    </tr>\n",
       "    <tr>\n",
       "      <th>Sensitivity</th>\n",
       "      <td>0.819820</td>\n",
       "      <td>0.643243</td>\n",
       "      <td>0.845946</td>\n",
       "    </tr>\n",
       "    <tr>\n",
       "      <th>Specificity</th>\n",
       "      <td>0.746847</td>\n",
       "      <td>0.881081</td>\n",
       "      <td>0.971171</td>\n",
       "    </tr>\n",
       "  </tbody>\n",
       "</table>\n",
       "</div>"
      ],
      "text/plain": [
       "             Logistic Regression       SVM  Decition Tree\n",
       "Accuracy                0.783333  0.762162       0.908559\n",
       "F1                      0.790960  0.730061       0.902451\n",
       "Precision               0.764064  0.843972       0.967044\n",
       "Sensitivity             0.819820  0.643243       0.845946\n",
       "Specificity             0.746847  0.881081       0.971171"
      ]
     },
     "execution_count": 33,
     "metadata": {},
     "output_type": "execute_result"
    }
   ],
   "source": [
    "df_metrics_method_1 = df_metrics_method_1.merge(calculate_metrics(\"Decition Tree\",y_test, y_pred), left_index=True, right_index=True)\n",
    "df_metrics_method_1"
   ]
  },
  {
   "cell_type": "markdown",
   "id": "a81bfd83",
   "metadata": {},
   "source": [
    "**-----------------------------------------------------------------------------------------------------------------------------------------------------------------------------------**"
   ]
  },
  {
   "cell_type": "markdown",
   "id": "8b114d73",
   "metadata": {},
   "source": [
    "**4) Random Forests (Method 1)**"
   ]
  },
  {
   "cell_type": "code",
   "execution_count": 34,
   "id": "abb1657a",
   "metadata": {},
   "outputs": [
    {
     "data": {
      "text/plain": [
       "0.8583960681329103"
      ]
     },
     "execution_count": 34,
     "metadata": {},
     "output_type": "execute_result"
    }
   ],
   "source": [
    "RF_model = RandomForestClassifier(criterion='entropy', n_estimators= 500)\n",
    "cross_val_score(RF_model, X, y, cv=10).mean()"
   ]
  },
  {
   "cell_type": "code",
   "execution_count": 35,
   "id": "2f57b58f",
   "metadata": {
    "scrolled": true
   },
   "outputs": [
    {
     "data": {
      "image/png": "[encoded data removed]",
      "text/plain": [
       "<Figure size 432x288 with 2 Axes>"
      ]
     },
     "metadata": {
      "needs_background": "light"
     },
     "output_type": "display_data"
    }
   ],
   "source": [
    "RF_model.fit(X_train,y_train)\n",
    "y_pred = RF_model.predict(X_test)\n",
    "plot_confusion_matrix(RF_model,X_test,y_test,normalize='all');"
   ]
  },
  {
   "cell_type": "code",
   "execution_count": 36,
   "id": "7bdf4371",
   "metadata": {},
   "outputs": [
    {
     "data": {
      "text/html": [
       "<div>\n",
       "<style scoped>\n",
       "    .dataframe tbody tr th:only-of-type {\n",
       "        vertical-align: middle;\n",
       "    }\n",
       "\n",
       "    .dataframe tbody tr th {\n",
       "        vertical-align: top;\n",
       "    }\n",
       "\n",
       "    .dataframe thead th {\n",
       "        text-align: right;\n",
       "    }\n",
       "</style>\n",
       "<table border=\"1\" class=\"dataframe\">\n",
       "  <thead>\n",
       "    <tr style=\"text-align: right;\">\n",
       "      <th></th>\n",
       "      <th>Logistic Regression</th>\n",
       "      <th>SVM</th>\n",
       "      <th>Decition Tree</th>\n",
       "      <th>Random Forest</th>\n",
       "    </tr>\n",
       "  </thead>\n",
       "  <tbody>\n",
       "    <tr>\n",
       "      <th>Accuracy</th>\n",
       "      <td>0.783333</td>\n",
       "      <td>0.762162</td>\n",
       "      <td>0.908559</td>\n",
       "      <td>0.890090</td>\n",
       "    </tr>\n",
       "    <tr>\n",
       "      <th>F1</th>\n",
       "      <td>0.790960</td>\n",
       "      <td>0.730061</td>\n",
       "      <td>0.902451</td>\n",
       "      <td>0.878848</td>\n",
       "    </tr>\n",
       "    <tr>\n",
       "      <th>Precision</th>\n",
       "      <td>0.764064</td>\n",
       "      <td>0.843972</td>\n",
       "      <td>0.967044</td>\n",
       "      <td>0.978982</td>\n",
       "    </tr>\n",
       "    <tr>\n",
       "      <th>Sensitivity</th>\n",
       "      <td>0.819820</td>\n",
       "      <td>0.643243</td>\n",
       "      <td>0.845946</td>\n",
       "      <td>0.797297</td>\n",
       "    </tr>\n",
       "    <tr>\n",
       "      <th>Specificity</th>\n",
       "      <td>0.746847</td>\n",
       "      <td>0.881081</td>\n",
       "      <td>0.971171</td>\n",
       "      <td>0.982883</td>\n",
       "    </tr>\n",
       "  </tbody>\n",
       "</table>\n",
       "</div>"
      ],
      "text/plain": [
       "             Logistic Regression       SVM  Decition Tree  Random Forest\n",
       "Accuracy                0.783333  0.762162       0.908559       0.890090\n",
       "F1                      0.790960  0.730061       0.902451       0.878848\n",
       "Precision               0.764064  0.843972       0.967044       0.978982\n",
       "Sensitivity             0.819820  0.643243       0.845946       0.797297\n",
       "Specificity             0.746847  0.881081       0.971171       0.982883"
      ]
     },
     "execution_count": 36,
     "metadata": {},
     "output_type": "execute_result"
    }
   ],
   "source": [
    "df_metrics_method_1 = df_metrics_method_1.merge(calculate_metrics(\"Random Forest\",y_test, y_pred), left_index=True, right_index=True)\n",
    "df_metrics_method_1"
   ]
  },
  {
   "cell_type": "markdown",
   "id": "6d0a7499",
   "metadata": {},
   "source": [
    "**-----------------------------------------------------------------------------------------------------------------------------------------------------------------------------------**"
   ]
  },
  {
   "cell_type": "markdown",
   "id": "20bdc760",
   "metadata": {},
   "source": [
    "**5) Naive Bayes (Method 1)**"
   ]
  },
  {
   "cell_type": "code",
   "execution_count": 37,
   "id": "c2d4aac6",
   "metadata": {},
   "outputs": [
    {
     "data": {
      "text/plain": [
       "0.6313737826895721"
      ]
     },
     "execution_count": 37,
     "metadata": {},
     "output_type": "execute_result"
    }
   ],
   "source": [
    "NB_model = GaussianNB()\n",
    "cross_val_score(NB_model, X, y, cv=10).mean()"
   ]
  },
  {
   "cell_type": "code",
   "execution_count": 38,
   "id": "eece73f1",
   "metadata": {},
   "outputs": [
    {
     "data": {
      "image/png": "[encoded data removed]",
      "text/plain": [
       "<Figure size 432x288 with 2 Axes>"
      ]
     },
     "metadata": {
      "needs_background": "light"
     },
     "output_type": "display_data"
    }
   ],
   "source": [
    "NB_model.fit(X_train, y_train)\n",
    "y_pred = NB_model.predict(X_test)\n",
    "plot_confusion_matrix(NB_model,X_test,y_test,normalize='all');"
   ]
  },
  {
   "cell_type": "code",
   "execution_count": 39,
   "id": "e897b747",
   "metadata": {},
   "outputs": [
    {
     "data": {
      "text/html": [
       "<div>\n",
       "<style scoped>\n",
       "    .dataframe tbody tr th:only-of-type {\n",
       "        vertical-align: middle;\n",
       "    }\n",
       "\n",
       "    .dataframe tbody tr th {\n",
       "        vertical-align: top;\n",
       "    }\n",
       "\n",
       "    .dataframe thead th {\n",
       "        text-align: right;\n",
       "    }\n",
       "</style>\n",
       "<table border=\"1\" class=\"dataframe\">\n",
       "  <thead>\n",
       "    <tr style=\"text-align: right;\">\n",
       "      <th></th>\n",
       "      <th>Logistic Regression</th>\n",
       "      <th>SVM</th>\n",
       "      <th>Decition Tree</th>\n",
       "      <th>Random Forest</th>\n",
       "      <th>Naive Bays</th>\n",
       "    </tr>\n",
       "  </thead>\n",
       "  <tbody>\n",
       "    <tr>\n",
       "      <th>Accuracy</th>\n",
       "      <td>0.783333</td>\n",
       "      <td>0.762162</td>\n",
       "      <td>0.908559</td>\n",
       "      <td>0.890090</td>\n",
       "      <td>0.641441</td>\n",
       "    </tr>\n",
       "    <tr>\n",
       "      <th>F1</th>\n",
       "      <td>0.790960</td>\n",
       "      <td>0.730061</td>\n",
       "      <td>0.902451</td>\n",
       "      <td>0.878848</td>\n",
       "      <td>0.735899</td>\n",
       "    </tr>\n",
       "    <tr>\n",
       "      <th>Precision</th>\n",
       "      <td>0.764064</td>\n",
       "      <td>0.843972</td>\n",
       "      <td>0.967044</td>\n",
       "      <td>0.978982</td>\n",
       "      <td>0.582458</td>\n",
       "    </tr>\n",
       "    <tr>\n",
       "      <th>Sensitivity</th>\n",
       "      <td>0.819820</td>\n",
       "      <td>0.643243</td>\n",
       "      <td>0.845946</td>\n",
       "      <td>0.797297</td>\n",
       "      <td>0.999099</td>\n",
       "    </tr>\n",
       "    <tr>\n",
       "      <th>Specificity</th>\n",
       "      <td>0.746847</td>\n",
       "      <td>0.881081</td>\n",
       "      <td>0.971171</td>\n",
       "      <td>0.982883</td>\n",
       "      <td>0.283784</td>\n",
       "    </tr>\n",
       "  </tbody>\n",
       "</table>\n",
       "</div>"
      ],
      "text/plain": [
       "             Logistic Regression       SVM  Decition Tree  Random Forest  \\\n",
       "Accuracy                0.783333  0.762162       0.908559       0.890090   \n",
       "F1                      0.790960  0.730061       0.902451       0.878848   \n",
       "Precision               0.764064  0.843972       0.967044       0.978982   \n",
       "Sensitivity             0.819820  0.643243       0.845946       0.797297   \n",
       "Specificity             0.746847  0.881081       0.971171       0.982883   \n",
       "\n",
       "             Naive Bays  \n",
       "Accuracy       0.641441  \n",
       "F1             0.735899  \n",
       "Precision      0.582458  \n",
       "Sensitivity    0.999099  \n",
       "Specificity    0.283784  "
      ]
     },
     "execution_count": 39,
     "metadata": {},
     "output_type": "execute_result"
    }
   ],
   "source": [
    "df_metrics_method_1 = df_metrics_method_1.merge(calculate_metrics(\"Naive Bays\",y_test, y_pred), left_index=True, right_index=True)\n",
    "df_metrics_method_1"
   ]
  },
  {
   "cell_type": "markdown",
   "id": "fd9c2b50",
   "metadata": {},
   "source": [
    "**-----------------------------------------------------------------------------------------------------------------------------------------------------------------------------------**"
   ]
  },
  {
   "cell_type": "markdown",
   "id": "afbd921b",
   "metadata": {},
   "source": [
    "**6) KNN (Method 1)**"
   ]
  },
  {
   "cell_type": "code",
   "execution_count": 40,
   "id": "23a8f851",
   "metadata": {},
   "outputs": [
    {
     "data": {
      "text/plain": [
       "0.7976474450158662"
      ]
     },
     "execution_count": 40,
     "metadata": {},
     "output_type": "execute_result"
    }
   ],
   "source": [
    "KNN_model = KNeighborsClassifier(metric= 'manhattan', n_neighbors=3)\n",
    "cross_val_score(KNN_model, X, y, cv=10).mean()"
   ]
  },
  {
   "cell_type": "code",
   "execution_count": 41,
   "id": "a1edb1a0",
   "metadata": {},
   "outputs": [
    {
     "data": {
      "image/png": "[encoded data removed]",
      "text/plain": [
       "<Figure size 432x288 with 2 Axes>"
      ]
     },
     "metadata": {
      "needs_background": "light"
     },
     "output_type": "display_data"
    }
   ],
   "source": [
    "KNN_model.fit(X_train, y_train)\n",
    "y_pred = KNN_model.predict(X_test)\n",
    "plot_confusion_matrix(KNN_model,X_test,y_test,normalize='all');"
   ]
  },
  {
   "cell_type": "code",
   "execution_count": 42,
   "id": "0a6c58c2",
   "metadata": {
    "scrolled": true
   },
   "outputs": [
    {
     "data": {
      "text/html": [
       "<div>\n",
       "<style scoped>\n",
       "    .dataframe tbody tr th:only-of-type {\n",
       "        vertical-align: middle;\n",
       "    }\n",
       "\n",
       "    .dataframe tbody tr th {\n",
       "        vertical-align: top;\n",
       "    }\n",
       "\n",
       "    .dataframe thead th {\n",
       "        text-align: right;\n",
       "    }\n",
       "</style>\n",
       "<table border=\"1\" class=\"dataframe\">\n",
       "  <thead>\n",
       "    <tr style=\"text-align: right;\">\n",
       "      <th></th>\n",
       "      <th>Logistic Regression</th>\n",
       "      <th>SVM</th>\n",
       "      <th>Decition Tree</th>\n",
       "      <th>Random Forest</th>\n",
       "      <th>Naive Bays</th>\n",
       "      <th>KNN</th>\n",
       "    </tr>\n",
       "  </thead>\n",
       "  <tbody>\n",
       "    <tr>\n",
       "      <th>Accuracy</th>\n",
       "      <td>0.783333</td>\n",
       "      <td>0.762162</td>\n",
       "      <td>0.908559</td>\n",
       "      <td>0.890090</td>\n",
       "      <td>0.641441</td>\n",
       "      <td>0.641892</td>\n",
       "    </tr>\n",
       "    <tr>\n",
       "      <th>F1</th>\n",
       "      <td>0.790960</td>\n",
       "      <td>0.730061</td>\n",
       "      <td>0.902451</td>\n",
       "      <td>0.878848</td>\n",
       "      <td>0.735899</td>\n",
       "      <td>0.476629</td>\n",
       "    </tr>\n",
       "    <tr>\n",
       "      <th>Precision</th>\n",
       "      <td>0.764064</td>\n",
       "      <td>0.843972</td>\n",
       "      <td>0.967044</td>\n",
       "      <td>0.978982</td>\n",
       "      <td>0.582458</td>\n",
       "      <td>0.885086</td>\n",
       "    </tr>\n",
       "    <tr>\n",
       "      <th>Sensitivity</th>\n",
       "      <td>0.819820</td>\n",
       "      <td>0.643243</td>\n",
       "      <td>0.845946</td>\n",
       "      <td>0.797297</td>\n",
       "      <td>0.999099</td>\n",
       "      <td>0.326126</td>\n",
       "    </tr>\n",
       "    <tr>\n",
       "      <th>Specificity</th>\n",
       "      <td>0.746847</td>\n",
       "      <td>0.881081</td>\n",
       "      <td>0.971171</td>\n",
       "      <td>0.982883</td>\n",
       "      <td>0.283784</td>\n",
       "      <td>0.957658</td>\n",
       "    </tr>\n",
       "  </tbody>\n",
       "</table>\n",
       "</div>"
      ],
      "text/plain": [
       "             Logistic Regression       SVM  Decition Tree  Random Forest  \\\n",
       "Accuracy                0.783333  0.762162       0.908559       0.890090   \n",
       "F1                      0.790960  0.730061       0.902451       0.878848   \n",
       "Precision               0.764064  0.843972       0.967044       0.978982   \n",
       "Sensitivity             0.819820  0.643243       0.845946       0.797297   \n",
       "Specificity             0.746847  0.881081       0.971171       0.982883   \n",
       "\n",
       "             Naive Bays       KNN  \n",
       "Accuracy       0.641441  0.641892  \n",
       "F1             0.735899  0.476629  \n",
       "Precision      0.582458  0.885086  \n",
       "Sensitivity    0.999099  0.326126  \n",
       "Specificity    0.283784  0.957658  "
      ]
     },
     "execution_count": 42,
     "metadata": {},
     "output_type": "execute_result"
    }
   ],
   "source": [
    "df_metrics_method_1 = df_metrics_method_1.merge(calculate_metrics(\"KNN\",y_test, y_pred), left_index=True, right_index=True)\n",
    "df_metrics_method_1"
   ]
  },
  {
   "cell_type": "markdown",
   "id": "84110100",
   "metadata": {},
   "source": [
    "**-----------------------------------------------------------------------------------------------------------------------------------------------------------------------------------**"
   ]
  },
  {
   "cell_type": "markdown",
   "id": "c4a4c529",
   "metadata": {},
   "source": [
    "**7) XGBoost (Method 1)**"
   ]
  },
  {
   "cell_type": "code",
   "execution_count": 43,
   "id": "72fa9e2f",
   "metadata": {},
   "outputs": [
    {
     "data": {
      "text/plain": [
       "0.8789088886457307"
      ]
     },
     "execution_count": 43,
     "metadata": {},
     "output_type": "execute_result"
    }
   ],
   "source": [
    "XGB_model = XGBClassifier(eval_metric='error', learning_rate=0.1)\n",
    "cross_val_score(XGB_model, X, y, cv=10).mean()"
   ]
  },
  {
   "cell_type": "code",
   "execution_count": 44,
   "id": "558bd6ba",
   "metadata": {},
   "outputs": [
    {
     "data": {
      "image/png": "[encoded data removed]",
      "text/plain": [
       "<Figure size 432x288 with 2 Axes>"
      ]
     },
     "metadata": {
      "needs_background": "light"
     },
     "output_type": "display_data"
    }
   ],
   "source": [
    "XGB_model.fit(X_train,y_train)\n",
    "y_pred=XGB_model.predict(X_test)\n",
    "plot_confusion_matrix(XGB_model,X_test,y_test,normalize='all');"
   ]
  },
  {
   "cell_type": "code",
   "execution_count": 45,
   "id": "7c249322",
   "metadata": {
    "scrolled": true
   },
   "outputs": [
    {
     "data": {
      "text/html": [
       "<div>\n",
       "<style scoped>\n",
       "    .dataframe tbody tr th:only-of-type {\n",
       "        vertical-align: middle;\n",
       "    }\n",
       "\n",
       "    .dataframe tbody tr th {\n",
       "        vertical-align: top;\n",
       "    }\n",
       "\n",
       "    .dataframe thead th {\n",
       "        text-align: right;\n",
       "    }\n",
       "</style>\n",
       "<table border=\"1\" class=\"dataframe\">\n",
       "  <thead>\n",
       "    <tr style=\"text-align: right;\">\n",
       "      <th></th>\n",
       "      <th>Logistic Regression</th>\n",
       "      <th>SVM</th>\n",
       "      <th>Decition Tree</th>\n",
       "      <th>Random Forest</th>\n",
       "      <th>Naive Bays</th>\n",
       "      <th>KNN</th>\n",
       "      <th>XGBoost</th>\n",
       "    </tr>\n",
       "  </thead>\n",
       "  <tbody>\n",
       "    <tr>\n",
       "      <th>Accuracy</th>\n",
       "      <td>0.783333</td>\n",
       "      <td>0.762162</td>\n",
       "      <td>0.908559</td>\n",
       "      <td>0.890090</td>\n",
       "      <td>0.641441</td>\n",
       "      <td>0.641892</td>\n",
       "      <td>0.955856</td>\n",
       "    </tr>\n",
       "    <tr>\n",
       "      <th>F1</th>\n",
       "      <td>0.790960</td>\n",
       "      <td>0.730061</td>\n",
       "      <td>0.902451</td>\n",
       "      <td>0.878848</td>\n",
       "      <td>0.735899</td>\n",
       "      <td>0.476629</td>\n",
       "      <td>0.954419</td>\n",
       "    </tr>\n",
       "    <tr>\n",
       "      <th>Precision</th>\n",
       "      <td>0.764064</td>\n",
       "      <td>0.843972</td>\n",
       "      <td>0.967044</td>\n",
       "      <td>0.978982</td>\n",
       "      <td>0.582458</td>\n",
       "      <td>0.885086</td>\n",
       "      <td>0.986538</td>\n",
       "    </tr>\n",
       "    <tr>\n",
       "      <th>Sensitivity</th>\n",
       "      <td>0.819820</td>\n",
       "      <td>0.643243</td>\n",
       "      <td>0.845946</td>\n",
       "      <td>0.797297</td>\n",
       "      <td>0.999099</td>\n",
       "      <td>0.326126</td>\n",
       "      <td>0.924324</td>\n",
       "    </tr>\n",
       "    <tr>\n",
       "      <th>Specificity</th>\n",
       "      <td>0.746847</td>\n",
       "      <td>0.881081</td>\n",
       "      <td>0.971171</td>\n",
       "      <td>0.982883</td>\n",
       "      <td>0.283784</td>\n",
       "      <td>0.957658</td>\n",
       "      <td>0.987387</td>\n",
       "    </tr>\n",
       "  </tbody>\n",
       "</table>\n",
       "</div>"
      ],
      "text/plain": [
       "             Logistic Regression       SVM  Decition Tree  Random Forest  \\\n",
       "Accuracy                0.783333  0.762162       0.908559       0.890090   \n",
       "F1                      0.790960  0.730061       0.902451       0.878848   \n",
       "Precision               0.764064  0.843972       0.967044       0.978982   \n",
       "Sensitivity             0.819820  0.643243       0.845946       0.797297   \n",
       "Specificity             0.746847  0.881081       0.971171       0.982883   \n",
       "\n",
       "             Naive Bays       KNN   XGBoost  \n",
       "Accuracy       0.641441  0.641892  0.955856  \n",
       "F1             0.735899  0.476629  0.954419  \n",
       "Precision      0.582458  0.885086  0.986538  \n",
       "Sensitivity    0.999099  0.326126  0.924324  \n",
       "Specificity    0.283784  0.957658  0.987387  "
      ]
     },
     "execution_count": 45,
     "metadata": {},
     "output_type": "execute_result"
    }
   ],
   "source": [
    "df_metrics_method_1 = df_metrics_method_1.merge(calculate_metrics(\"XGBoost\",y_test, y_pred), left_index=True, right_index=True)\n",
    "df_metrics_method_1"
   ]
  },
  {
   "cell_type": "markdown",
   "id": "e65f34e8",
   "metadata": {},
   "source": [
    "# Method 2: Dropping the Smoking-Status column"
   ]
  },
  {
   "cell_type": "code",
   "execution_count": 46,
   "id": "07ac210b",
   "metadata": {},
   "outputs": [],
   "source": [
    "mask = (df['Weight Condition'] =='Unknown')\n",
    "df_method2 = df.drop(df[mask].index).drop('Smoking Status',axis=1)"
   ]
  },
  {
   "cell_type": "code",
   "execution_count": 47,
   "id": "62e442ee",
   "metadata": {},
   "outputs": [],
   "source": [
    "cols=df_method2.select_dtypes(include=['object']).columns\n",
    "Encoded_df = pd.get_dummies(df_method2[cols])"
   ]
  },
  {
   "cell_type": "code",
   "execution_count": 48,
   "id": "db3f03ee",
   "metadata": {},
   "outputs": [
    {
     "data": {
      "text/html": [
       "<div>\n",
       "<style scoped>\n",
       "    .dataframe tbody tr th:only-of-type {\n",
       "        vertical-align: middle;\n",
       "    }\n",
       "\n",
       "    .dataframe tbody tr th {\n",
       "        vertical-align: top;\n",
       "    }\n",
       "\n",
       "    .dataframe thead th {\n",
       "        text-align: right;\n",
       "    }\n",
       "</style>\n",
       "<table border=\"1\" class=\"dataframe\">\n",
       "  <thead>\n",
       "    <tr style=\"text-align: right;\">\n",
       "      <th></th>\n",
       "      <th>Work_Type_Govt_job</th>\n",
       "      <th>Work_Type_Never_worked</th>\n",
       "      <th>Work_Type_Private</th>\n",
       "      <th>Work_Type_Self-employed</th>\n",
       "      <th>Work_Type_children</th>\n",
       "      <th>Weight Condition_Normal</th>\n",
       "      <th>Weight Condition_Obese</th>\n",
       "      <th>Weight Condition_Overweight</th>\n",
       "      <th>Weight Condition_Underweight</th>\n",
       "      <th>Glucose Condition_Diabetes</th>\n",
       "      <th>Glucose Condition_Normal</th>\n",
       "      <th>Glucose Condition_Pre-Diabetes</th>\n",
       "      <th>Hypertension</th>\n",
       "      <th>Heart_Disease</th>\n",
       "      <th>Ever_Married</th>\n",
       "      <th>Age-Group</th>\n",
       "      <th>is_Urban</th>\n",
       "      <th>Stroke_Status</th>\n",
       "    </tr>\n",
       "  </thead>\n",
       "  <tbody>\n",
       "    <tr>\n",
       "      <th>0</th>\n",
       "      <td>0</td>\n",
       "      <td>0</td>\n",
       "      <td>1</td>\n",
       "      <td>0</td>\n",
       "      <td>0</td>\n",
       "      <td>0</td>\n",
       "      <td>1</td>\n",
       "      <td>0</td>\n",
       "      <td>0</td>\n",
       "      <td>0</td>\n",
       "      <td>1</td>\n",
       "      <td>0</td>\n",
       "      <td>0</td>\n",
       "      <td>0</td>\n",
       "      <td>0</td>\n",
       "      <td>4</td>\n",
       "      <td>0</td>\n",
       "      <td>0</td>\n",
       "    </tr>\n",
       "    <tr>\n",
       "      <th>1</th>\n",
       "      <td>0</td>\n",
       "      <td>0</td>\n",
       "      <td>1</td>\n",
       "      <td>0</td>\n",
       "      <td>0</td>\n",
       "      <td>0</td>\n",
       "      <td>1</td>\n",
       "      <td>0</td>\n",
       "      <td>0</td>\n",
       "      <td>0</td>\n",
       "      <td>1</td>\n",
       "      <td>0</td>\n",
       "      <td>0</td>\n",
       "      <td>0</td>\n",
       "      <td>1</td>\n",
       "      <td>4</td>\n",
       "      <td>1</td>\n",
       "      <td>0</td>\n",
       "    </tr>\n",
       "    <tr>\n",
       "      <th>2</th>\n",
       "      <td>0</td>\n",
       "      <td>0</td>\n",
       "      <td>1</td>\n",
       "      <td>0</td>\n",
       "      <td>0</td>\n",
       "      <td>0</td>\n",
       "      <td>1</td>\n",
       "      <td>0</td>\n",
       "      <td>0</td>\n",
       "      <td>0</td>\n",
       "      <td>1</td>\n",
       "      <td>0</td>\n",
       "      <td>0</td>\n",
       "      <td>0</td>\n",
       "      <td>1</td>\n",
       "      <td>4</td>\n",
       "      <td>1</td>\n",
       "      <td>0</td>\n",
       "    </tr>\n",
       "    <tr>\n",
       "      <th>3</th>\n",
       "      <td>0</td>\n",
       "      <td>0</td>\n",
       "      <td>1</td>\n",
       "      <td>0</td>\n",
       "      <td>0</td>\n",
       "      <td>0</td>\n",
       "      <td>1</td>\n",
       "      <td>0</td>\n",
       "      <td>0</td>\n",
       "      <td>0</td>\n",
       "      <td>1</td>\n",
       "      <td>0</td>\n",
       "      <td>0</td>\n",
       "      <td>0</td>\n",
       "      <td>1</td>\n",
       "      <td>4</td>\n",
       "      <td>0</td>\n",
       "      <td>0</td>\n",
       "    </tr>\n",
       "    <tr>\n",
       "      <th>4</th>\n",
       "      <td>0</td>\n",
       "      <td>0</td>\n",
       "      <td>1</td>\n",
       "      <td>0</td>\n",
       "      <td>0</td>\n",
       "      <td>0</td>\n",
       "      <td>1</td>\n",
       "      <td>0</td>\n",
       "      <td>0</td>\n",
       "      <td>0</td>\n",
       "      <td>1</td>\n",
       "      <td>0</td>\n",
       "      <td>0</td>\n",
       "      <td>0</td>\n",
       "      <td>1</td>\n",
       "      <td>4</td>\n",
       "      <td>1</td>\n",
       "      <td>0</td>\n",
       "    </tr>\n",
       "  </tbody>\n",
       "</table>\n",
       "</div>"
      ],
      "text/plain": [
       "   Work_Type_Govt_job  Work_Type_Never_worked  Work_Type_Private  \\\n",
       "0                   0                       0                  1   \n",
       "1                   0                       0                  1   \n",
       "2                   0                       0                  1   \n",
       "3                   0                       0                  1   \n",
       "4                   0                       0                  1   \n",
       "\n",
       "   Work_Type_Self-employed  Work_Type_children  Weight Condition_Normal  \\\n",
       "0                        0                   0                        0   \n",
       "1                        0                   0                        0   \n",
       "2                        0                   0                        0   \n",
       "3                        0                   0                        0   \n",
       "4                        0                   0                        0   \n",
       "\n",
       "   Weight Condition_Obese  Weight Condition_Overweight  \\\n",
       "0                       1                            0   \n",
       "1                       1                            0   \n",
       "2                       1                            0   \n",
       "3                       1                            0   \n",
       "4                       1                            0   \n",
       "\n",
       "   Weight Condition_Underweight  Glucose Condition_Diabetes  \\\n",
       "0                             0                           0   \n",
       "1                             0                           0   \n",
       "2                             0                           0   \n",
       "3                             0                           0   \n",
       "4                             0                           0   \n",
       "\n",
       "   Glucose Condition_Normal  Glucose Condition_Pre-Diabetes  Hypertension  \\\n",
       "0                         1                               0             0   \n",
       "1                         1                               0             0   \n",
       "2                         1                               0             0   \n",
       "3                         1                               0             0   \n",
       "4                         1                               0             0   \n",
       "\n",
       "   Heart_Disease  Ever_Married  Age-Group  is_Urban  Stroke_Status  \n",
       "0              0             0          4         0              0  \n",
       "1              0             1          4         1              0  \n",
       "2              0             1          4         1              0  \n",
       "3              0             1          4         0              0  \n",
       "4              0             1          4         1              0  "
      ]
     },
     "execution_count": 48,
     "metadata": {},
     "output_type": "execute_result"
    }
   ],
   "source": [
    "cols=df_method2.select_dtypes(include=['int']).columns\n",
    "Encoded_df = pd.concat([Encoded_df, df_method2[cols]], axis=1)\n",
    "Encoded_df.head()"
   ]
  },
  {
   "cell_type": "code",
   "execution_count": 49,
   "id": "3df35ec9",
   "metadata": {},
   "outputs": [],
   "source": [
    "X = Encoded_df.iloc[:,0:-1]\n",
    "y = Encoded_df.iloc[:,-1]\n",
    "X_train,X_test,y_train,y_test  = train_test_split(X, y, test_size=0.30 ,random_state=11)"
   ]
  },
  {
   "cell_type": "markdown",
   "id": "dafef6b7",
   "metadata": {},
   "source": [
    "**Scaling the data (only applicable to the age gruop)**"
   ]
  },
  {
   "cell_type": "code",
   "execution_count": 50,
   "id": "3fe6aff4",
   "metadata": {},
   "outputs": [],
   "source": [
    "sc=StandardScaler()\n",
    "\n",
    "X_train = sc.fit_transform(X_train)\n",
    "X_test  = sc.transform(X_test)\n",
    "X       = sc.transform(X)"
   ]
  },
  {
   "cell_type": "markdown",
   "id": "2b56f765",
   "metadata": {},
   "source": [
    "**Using SMOTE to upsampling dataset**"
   ]
  },
  {
   "cell_type": "code",
   "execution_count": 51,
   "id": "d0852d24",
   "metadata": {},
   "outputs": [],
   "source": [
    "smote=SMOTE()\n",
    "X_train,y_train   = smote.fit_resample(X_train,y_train)\n",
    "X_test,y_test     = smote.fit_resample(X_test,y_test)\n",
    "X,y               = smote.fit_resample(X,y)"
   ]
  },
  {
   "cell_type": "markdown",
   "id": "766af0c8",
   "metadata": {},
   "source": [
    "**Tuning Hyper Parameters before Building Models**"
   ]
  },
  {
   "cell_type": "code",
   "execution_count": 52,
   "id": "6a10a325",
   "metadata": {},
   "outputs": [],
   "source": [
    "grid_models = [(LogisticRegression(),[{'C':[0.25,0.5,0.75,1],'random_state':[0]}]), \n",
    "               (svm.SVC(),[{'C':[0.25,0.5,0.75,1,1.5,2],'kernel':['linear', 'rbf'],'random_state':[0]}]), \n",
    "               (DecisionTreeClassifier(),[{'criterion':['gini','entropy'],'random_state':[0]}]), \n",
    "               (RandomForestClassifier(),[{'n_estimators':[200,500,1000],'criterion':['gini','entropy'],'random_state':[0]}]),\n",
    "               (GaussianNB(),[{'var_smoothing': [1e-09]}]), \n",
    "               (KNeighborsClassifier(),[{'n_neighbors':[3,5,7], 'metric': ['euclidean', 'manhattan', 'chebyshev', 'minkowski']}]), \n",
    "               (XGBClassifier(), [{'learning_rate': [0.01, 0.05, 0.1], 'eval_metric': ['error']}])]"
   ]
  },
  {
   "cell_type": "code",
   "execution_count": 53,
   "id": "17707855",
   "metadata": {},
   "outputs": [
    {
     "name": "stdout",
     "output_type": "stream",
     "text": [
      "LogisticRegression():\n",
      "Best Accuracy : 78.25%\n",
      "Best Parameters :  {'C': 0.75, 'random_state': 0}\n",
      "\n",
      "------------------------------------------------\n",
      "\n",
      "SVC():\n",
      "Best Accuracy : 87.68%\n",
      "Best Parameters :  {'C': 2, 'kernel': 'rbf', 'random_state': 0}\n",
      "\n",
      "------------------------------------------------\n",
      "\n",
      "DecisionTreeClassifier():\n",
      "Best Accuracy : 94.79%\n",
      "Best Parameters :  {'criterion': 'gini', 'random_state': 0}\n",
      "\n",
      "------------------------------------------------\n",
      "\n",
      "RandomForestClassifier():\n",
      "Best Accuracy : 94.93%\n",
      "Best Parameters :  {'criterion': 'gini', 'n_estimators': 500, 'random_state': 0}\n",
      "\n",
      "------------------------------------------------\n",
      "\n",
      "GaussianNB():\n",
      "Best Accuracy : 70.10%\n",
      "Best Parameters :  {'var_smoothing': 1e-09}\n",
      "\n",
      "------------------------------------------------\n",
      "\n",
      "KNeighborsClassifier():\n",
      "Best Accuracy : 90.46%\n",
      "Best Parameters :  {'metric': 'manhattan', 'n_neighbors': 3}\n",
      "\n",
      "------------------------------------------------\n",
      "\n",
      "XGBClassifier(base_score=None, booster=None, callbacks=None,\n",
      "              colsample_bylevel=None, colsample_bynode=None,\n",
      "              colsample_bytree=None, early_stopping_rounds=None,\n",
      "              enable_categorical=False, eval_metric=None, gamma=None,\n",
      "              gpu_id=None, grow_policy=None, importance_type=None,\n",
      "              interaction_constraints=None, learning_rate=None, max_bin=None,\n",
      "              max_cat_to_onehot=None, max_delta_step=None, max_depth=None,\n",
      "              max_leaves=None, min_child_weight=None, missing=nan,\n",
      "              monotone_constraints=None, n_estimators=100, n_jobs=None,\n",
      "              num_parallel_tree=None, predictor=None, random_state=None,\n",
      "              reg_alpha=None, reg_lambda=None, ...):\n",
      "Best Accuracy : 95.63%\n",
      "Best Parameters :  {'eval_metric': 'error', 'learning_rate': 0.1}\n",
      "\n",
      "------------------------------------------------\n",
      "\n"
     ]
    }
   ],
   "source": [
    "for i,j in grid_models:\n",
    "    grid = GridSearchCV(estimator=i,param_grid = j, scoring = 'f1',cv = 10)\n",
    "    grid.fit(X_train, y_train)\n",
    "    best_accuracy = grid.best_score_\n",
    "    best_param = grid.best_params_\n",
    "    print('{}:\\nBest Accuracy : {:.2f}%'.format(i,best_accuracy*100))\n",
    "    print('Best Parameters : ',best_param)\n",
    "    print('')\n",
    "    print('------------------------------------------------')\n",
    "    print('')"
   ]
  },
  {
   "cell_type": "markdown",
   "id": "b4ba295a",
   "metadata": {},
   "source": [
    "**1) Logistic Regression (Method 2)**"
   ]
  },
  {
   "cell_type": "code",
   "execution_count": 57,
   "id": "5d53d491",
   "metadata": {},
   "outputs": [
    {
     "data": {
      "text/plain": [
       "0.7222870641016926"
      ]
     },
     "execution_count": 57,
     "metadata": {},
     "output_type": "execute_result"
    }
   ],
   "source": [
    "Logistic_model = LogisticRegression(C=0.75)\n",
    "cross_val_score(Logistic_model, X, y, cv=10).mean()"
   ]
  },
  {
   "cell_type": "code",
   "execution_count": 58,
   "id": "281f045f",
   "metadata": {},
   "outputs": [
    {
     "data": {
      "text/html": [
       "<style>#sk-container-id-3 {color: black;background-color: white;}#sk-container-id-3 pre{padding: 0;}#sk-container-id-3 div.sk-toggleable {background-color: white;}#sk-container-id-3 label.sk-toggleable__label {cursor: pointer;display: block;width: 100%;margin-bottom: 0;padding: 0.3em;box-sizing: border-box;text-align: center;}#sk-container-id-3 label.sk-toggleable__label-arrow:before {content: \"▸\";float: left;margin-right: 0.25em;color: #696969;}#sk-container-id-3 label.sk-toggleable__label-arrow:hover:before {color: black;}#sk-container-id-3 div.sk-estimator:hover label.sk-toggleable__label-arrow:before {color: black;}#sk-container-id-3 div.sk-toggleable__content {max-height: 0;max-width: 0;overflow: hidden;text-align: left;background-color: #f0f8ff;}#sk-container-id-3 div.sk-toggleable__content pre {margin: 0.2em;color: black;border-radius: 0.25em;background-color: #f0f8ff;}#sk-container-id-3 input.sk-toggleable__control:checked~div.sk-toggleable__content {max-height: 200px;max-width: 100%;overflow: auto;}#sk-container-id-3 input.sk-toggleable__control:checked~label.sk-toggleable__label-arrow:before {content: \"▾\";}#sk-container-id-3 div.sk-estimator input.sk-toggleable__control:checked~label.sk-toggleable__label {background-color: #d4ebff;}#sk-container-id-3 div.sk-label input.sk-toggleable__control:checked~label.sk-toggleable__label {background-color: #d4ebff;}#sk-container-id-3 input.sk-hidden--visually {border: 0;clip: rect(1px 1px 1px 1px);clip: rect(1px, 1px, 1px, 1px);height: 1px;margin: -1px;overflow: hidden;padding: 0;position: absolute;width: 1px;}#sk-container-id-3 div.sk-estimator {font-family: monospace;background-color: #f0f8ff;border: 1px dotted black;border-radius: 0.25em;box-sizing: border-box;margin-bottom: 0.5em;}#sk-container-id-3 div.sk-estimator:hover {background-color: #d4ebff;}#sk-container-id-3 div.sk-parallel-item::after {content: \"\";width: 100%;border-bottom: 1px solid gray;flex-grow: 1;}#sk-container-id-3 div.sk-label:hover label.sk-toggleable__label {background-color: #d4ebff;}#sk-container-id-3 div.sk-serial::before {content: \"\";position: absolute;border-left: 1px solid gray;box-sizing: border-box;top: 0;bottom: 0;left: 50%;z-index: 0;}#sk-container-id-3 div.sk-serial {display: flex;flex-direction: column;align-items: center;background-color: white;padding-right: 0.2em;padding-left: 0.2em;position: relative;}#sk-container-id-3 div.sk-item {position: relative;z-index: 1;}#sk-container-id-3 div.sk-parallel {display: flex;align-items: stretch;justify-content: center;background-color: white;position: relative;}#sk-container-id-3 div.sk-item::before, #sk-container-id-3 div.sk-parallel-item::before {content: \"\";position: absolute;border-left: 1px solid gray;box-sizing: border-box;top: 0;bottom: 0;left: 50%;z-index: -1;}#sk-container-id-3 div.sk-parallel-item {display: flex;flex-direction: column;z-index: 1;position: relative;background-color: white;}#sk-container-id-3 div.sk-parallel-item:first-child::after {align-self: flex-end;width: 50%;}#sk-container-id-3 div.sk-parallel-item:last-child::after {align-self: flex-start;width: 50%;}#sk-container-id-3 div.sk-parallel-item:only-child::after {width: 0;}#sk-container-id-3 div.sk-dashed-wrapped {border: 1px dashed gray;margin: 0 0.4em 0.5em 0.4em;box-sizing: border-box;padding-bottom: 0.4em;background-color: white;}#sk-container-id-3 div.sk-label label {font-family: monospace;font-weight: bold;display: inline-block;line-height: 1.2em;}#sk-container-id-3 div.sk-label-container {text-align: center;}#sk-container-id-3 div.sk-container {/* jupyter's `normalize.less` sets `[hidden] { display: none; }` but bootstrap.min.css set `[hidden] { display: none !important; }` so we also need the `!important` here to be able to override the default hidden behavior on the sphinx rendered scikit-learn.org. See: https://github.com/scikit-learn/scikit-learn/issues/21755 */display: inline-block !important;position: relative;}#sk-container-id-3 div.sk-text-repr-fallback {display: none;}</style><div id=\"sk-container-id-3\" class=\"sk-top-container\"><div class=\"sk-text-repr-fallback\"><pre>LogisticRegression(C=0.75)</pre><b>In a Jupyter environment, please rerun this cell to show the HTML representation or trust the notebook. <br />On GitHub, the HTML representation is unable to render, please try loading this page with nbviewer.org.</b></div><div class=\"sk-container\" hidden><div class=\"sk-item\"><div class=\"sk-estimator sk-toggleable\"><input class=\"sk-toggleable__control sk-hidden--visually\" id=\"sk-estimator-id-3\" type=\"checkbox\" checked><label for=\"sk-estimator-id-3\" class=\"sk-toggleable__label sk-toggleable__label-arrow\">LogisticRegression</label><div class=\"sk-toggleable__content\"><pre>LogisticRegression(C=0.75)</pre></div></div></div></div></div>"
      ],
      "text/plain": [
       "LogisticRegression(C=0.75)"
      ]
     },
     "execution_count": 58,
     "metadata": {},
     "output_type": "execute_result"
    }
   ],
   "source": [
    "Logistic_model.fit(X_train,y_train)"
   ]
  },
  {
   "cell_type": "code",
   "execution_count": 59,
   "id": "613f6df3",
   "metadata": {},
   "outputs": [
    {
     "data": {
      "image/png": "[encoded data removed]",
      "text/plain": [
       "<Figure size 432x288 with 2 Axes>"
      ]
     },
     "metadata": {
      "needs_background": "light"
     },
     "output_type": "display_data"
    }
   ],
   "source": [
    "y_pred = Logistic_model.predict(X_test)\n",
    "plot_confusion_matrix(Logistic_model,X_test,y_test, normalize = 'all');"
   ]
  },
  {
   "cell_type": "code",
   "execution_count": 60,
   "id": "12196d74",
   "metadata": {},
   "outputs": [
    {
     "data": {
      "text/html": [
       "<div>\n",
       "<style scoped>\n",
       "    .dataframe tbody tr th:only-of-type {\n",
       "        vertical-align: middle;\n",
       "    }\n",
       "\n",
       "    .dataframe tbody tr th {\n",
       "        vertical-align: top;\n",
       "    }\n",
       "\n",
       "    .dataframe thead th {\n",
       "        text-align: right;\n",
       "    }\n",
       "</style>\n",
       "<table border=\"1\" class=\"dataframe\">\n",
       "  <thead>\n",
       "    <tr style=\"text-align: right;\">\n",
       "      <th></th>\n",
       "      <th>Logistic Regression</th>\n",
       "    </tr>\n",
       "  </thead>\n",
       "  <tbody>\n",
       "    <tr>\n",
       "      <th>Accuracy</th>\n",
       "      <td>0.799788</td>\n",
       "    </tr>\n",
       "    <tr>\n",
       "      <th>F1</th>\n",
       "      <td>0.806683</td>\n",
       "    </tr>\n",
       "    <tr>\n",
       "      <th>Precision</th>\n",
       "      <td>0.779829</td>\n",
       "    </tr>\n",
       "    <tr>\n",
       "      <th>Sensitivity</th>\n",
       "      <td>0.835452</td>\n",
       "    </tr>\n",
       "    <tr>\n",
       "      <th>Specificity</th>\n",
       "      <td>0.764124</td>\n",
       "    </tr>\n",
       "  </tbody>\n",
       "</table>\n",
       "</div>"
      ],
      "text/plain": [
       "             Logistic Regression\n",
       "Accuracy                0.799788\n",
       "F1                      0.806683\n",
       "Precision               0.779829\n",
       "Sensitivity             0.835452\n",
       "Specificity             0.764124"
      ]
     },
     "execution_count": 60,
     "metadata": {},
     "output_type": "execute_result"
    }
   ],
   "source": [
    "df_metrics_method_2 = calculate_metrics(\"Logistic Regression\",y_test, y_pred)\n",
    "df_metrics_method_2"
   ]
  },
  {
   "cell_type": "markdown",
   "id": "3a71f1ac",
   "metadata": {},
   "source": [
    "**-----------------------------------------------------------------------------------------------------------------------------------------------------------------------------------**"
   ]
  },
  {
   "cell_type": "markdown",
   "id": "719290d7",
   "metadata": {},
   "source": [
    "**2) Support Vector Machine (Method 2)**"
   ]
  },
  {
   "cell_type": "code",
   "execution_count": 61,
   "id": "5babf691",
   "metadata": {},
   "outputs": [
    {
     "data": {
      "text/plain": [
       "0.6898393492397978"
      ]
     },
     "execution_count": 61,
     "metadata": {},
     "output_type": "execute_result"
    }
   ],
   "source": [
    "svm_model = svm.SVC(kernel='rbf',C=2)\n",
    "cross_val_score(svm_model, X, y, cv=10).mean()"
   ]
  },
  {
   "cell_type": "code",
   "execution_count": 62,
   "id": "5a90be36",
   "metadata": {},
   "outputs": [
    {
     "data": {
      "image/png": "[encoded data removed]",
      "text/plain": [
       "<Figure size 432x288 with 2 Axes>"
      ]
     },
     "metadata": {
      "needs_background": "light"
     },
     "output_type": "display_data"
    }
   ],
   "source": [
    "svm_model.fit(X_train, y_train)\n",
    "y_pred = svm_model.predict(X_test)\n",
    "plot_confusion_matrix(svm_model,X_test,y_test, normalize='all');"
   ]
  },
  {
   "cell_type": "code",
   "execution_count": 63,
   "id": "144f6d42",
   "metadata": {},
   "outputs": [
    {
     "data": {
      "text/html": [
       "<div>\n",
       "<style scoped>\n",
       "    .dataframe tbody tr th:only-of-type {\n",
       "        vertical-align: middle;\n",
       "    }\n",
       "\n",
       "    .dataframe tbody tr th {\n",
       "        vertical-align: top;\n",
       "    }\n",
       "\n",
       "    .dataframe thead th {\n",
       "        text-align: right;\n",
       "    }\n",
       "</style>\n",
       "<table border=\"1\" class=\"dataframe\">\n",
       "  <thead>\n",
       "    <tr style=\"text-align: right;\">\n",
       "      <th></th>\n",
       "      <th>Logistic Regression</th>\n",
       "      <th>SVM</th>\n",
       "    </tr>\n",
       "  </thead>\n",
       "  <tbody>\n",
       "    <tr>\n",
       "      <th>Accuracy</th>\n",
       "      <td>0.799788</td>\n",
       "      <td>0.789901</td>\n",
       "    </tr>\n",
       "    <tr>\n",
       "      <th>F1</th>\n",
       "      <td>0.806683</td>\n",
       "      <td>0.779711</td>\n",
       "    </tr>\n",
       "    <tr>\n",
       "      <th>Precision</th>\n",
       "      <td>0.779829</td>\n",
       "      <td>0.819455</td>\n",
       "    </tr>\n",
       "    <tr>\n",
       "      <th>Sensitivity</th>\n",
       "      <td>0.835452</td>\n",
       "      <td>0.743644</td>\n",
       "    </tr>\n",
       "    <tr>\n",
       "      <th>Specificity</th>\n",
       "      <td>0.764124</td>\n",
       "      <td>0.836158</td>\n",
       "    </tr>\n",
       "  </tbody>\n",
       "</table>\n",
       "</div>"
      ],
      "text/plain": [
       "             Logistic Regression       SVM\n",
       "Accuracy                0.799788  0.789901\n",
       "F1                      0.806683  0.779711\n",
       "Precision               0.779829  0.819455\n",
       "Sensitivity             0.835452  0.743644\n",
       "Specificity             0.764124  0.836158"
      ]
     },
     "execution_count": 63,
     "metadata": {},
     "output_type": "execute_result"
    }
   ],
   "source": [
    "df_metrics_method_2 = df_metrics_method_2.merge(calculate_metrics(\"SVM\",y_test, y_pred), left_index=True, right_index=True)\n",
    "df_metrics_method_2"
   ]
  },
  {
   "cell_type": "markdown",
   "id": "10fc091a",
   "metadata": {},
   "source": [
    "**-----------------------------------------------------------------------------------------------------------------------------------------------------------------------------------**"
   ]
  },
  {
   "cell_type": "markdown",
   "id": "655410d4",
   "metadata": {},
   "source": [
    "**3) Decision Tree (Method 2)**"
   ]
  },
  {
   "cell_type": "code",
   "execution_count": 64,
   "id": "74b36f42",
   "metadata": {},
   "outputs": [
    {
     "data": {
      "text/plain": [
       "0.8271999410871684"
      ]
     },
     "execution_count": 64,
     "metadata": {},
     "output_type": "execute_result"
    }
   ],
   "source": [
    "DT_model = DecisionTreeClassifier(criterion='gini')\n",
    "cross_val_score(DT_model, X, y, cv=10).mean()"
   ]
  },
  {
   "cell_type": "code",
   "execution_count": 65,
   "id": "aaa05d83",
   "metadata": {},
   "outputs": [
    {
     "data": {
      "image/png": "[encoded data removed]",
      "text/plain": [
       "<Figure size 432x288 with 2 Axes>"
      ]
     },
     "metadata": {
      "needs_background": "light"
     },
     "output_type": "display_data"
    }
   ],
   "source": [
    "DT_model.fit(X_train,y_train)\n",
    "y_pred = DT_model.predict(X_test)\n",
    "plot_confusion_matrix(DT_model,X_test,y_test,normalize='all');"
   ]
  },
  {
   "cell_type": "code",
   "execution_count": 66,
   "id": "ac35d82b",
   "metadata": {},
   "outputs": [
    {
     "data": {
      "text/html": [
       "<div>\n",
       "<style scoped>\n",
       "    .dataframe tbody tr th:only-of-type {\n",
       "        vertical-align: middle;\n",
       "    }\n",
       "\n",
       "    .dataframe tbody tr th {\n",
       "        vertical-align: top;\n",
       "    }\n",
       "\n",
       "    .dataframe thead th {\n",
       "        text-align: right;\n",
       "    }\n",
       "</style>\n",
       "<table border=\"1\" class=\"dataframe\">\n",
       "  <thead>\n",
       "    <tr style=\"text-align: right;\">\n",
       "      <th></th>\n",
       "      <th>Logistic Regression</th>\n",
       "      <th>SVM</th>\n",
       "      <th>Decition Tree</th>\n",
       "    </tr>\n",
       "  </thead>\n",
       "  <tbody>\n",
       "    <tr>\n",
       "      <th>Accuracy</th>\n",
       "      <td>0.799788</td>\n",
       "      <td>0.789901</td>\n",
       "      <td>0.886653</td>\n",
       "    </tr>\n",
       "    <tr>\n",
       "      <th>F1</th>\n",
       "      <td>0.806683</td>\n",
       "      <td>0.779711</td>\n",
       "      <td>0.874658</td>\n",
       "    </tr>\n",
       "    <tr>\n",
       "      <th>Precision</th>\n",
       "      <td>0.779829</td>\n",
       "      <td>0.819455</td>\n",
       "      <td>0.978166</td>\n",
       "    </tr>\n",
       "    <tr>\n",
       "      <th>Sensitivity</th>\n",
       "      <td>0.835452</td>\n",
       "      <td>0.743644</td>\n",
       "      <td>0.790960</td>\n",
       "    </tr>\n",
       "    <tr>\n",
       "      <th>Specificity</th>\n",
       "      <td>0.764124</td>\n",
       "      <td>0.836158</td>\n",
       "      <td>0.982345</td>\n",
       "    </tr>\n",
       "  </tbody>\n",
       "</table>\n",
       "</div>"
      ],
      "text/plain": [
       "             Logistic Regression       SVM  Decition Tree\n",
       "Accuracy                0.799788  0.789901       0.886653\n",
       "F1                      0.806683  0.779711       0.874658\n",
       "Precision               0.779829  0.819455       0.978166\n",
       "Sensitivity             0.835452  0.743644       0.790960\n",
       "Specificity             0.764124  0.836158       0.982345"
      ]
     },
     "execution_count": 66,
     "metadata": {},
     "output_type": "execute_result"
    }
   ],
   "source": [
    "df_metrics_method_2 = df_metrics_method_2.merge(calculate_metrics(\"Decition Tree\",y_test, y_pred), left_index=True, right_index=True)\n",
    "df_metrics_method_2"
   ]
  },
  {
   "cell_type": "markdown",
   "id": "2ce0e9da",
   "metadata": {},
   "source": [
    "**-----------------------------------------------------------------------------------------------------------------------------------------------------------------------------------**"
   ]
  },
  {
   "cell_type": "markdown",
   "id": "2694310a",
   "metadata": {},
   "source": [
    "**4) Random Forests (Method 2)**"
   ]
  },
  {
   "cell_type": "code",
   "execution_count": 67,
   "id": "9781c577",
   "metadata": {},
   "outputs": [
    {
     "data": {
      "text/plain": [
       "0.7970808691908549"
      ]
     },
     "execution_count": 67,
     "metadata": {},
     "output_type": "execute_result"
    }
   ],
   "source": [
    "RF_model = RandomForestClassifier(criterion='gini', n_estimators=500)\n",
    "cross_val_score(RF_model, X, y, cv=10).mean()"
   ]
  },
  {
   "cell_type": "code",
   "execution_count": 68,
   "id": "a48c43cc",
   "metadata": {},
   "outputs": [
    {
     "data": {
      "image/png": "[encoded data removed]",
      "text/plain": [
       "<Figure size 432x288 with 2 Axes>"
      ]
     },
     "metadata": {
      "needs_background": "light"
     },
     "output_type": "display_data"
    }
   ],
   "source": [
    "RF_model.fit(X_train,y_train)\n",
    "y_pred = RF_model.predict(X_test)\n",
    "plot_confusion_matrix(RF_model,X_test,y_test,normalize='all');"
   ]
  },
  {
   "cell_type": "code",
   "execution_count": 69,
   "id": "fb693be9",
   "metadata": {},
   "outputs": [
    {
     "data": {
      "text/html": [
       "<div>\n",
       "<style scoped>\n",
       "    .dataframe tbody tr th:only-of-type {\n",
       "        vertical-align: middle;\n",
       "    }\n",
       "\n",
       "    .dataframe tbody tr th {\n",
       "        vertical-align: top;\n",
       "    }\n",
       "\n",
       "    .dataframe thead th {\n",
       "        text-align: right;\n",
       "    }\n",
       "</style>\n",
       "<table border=\"1\" class=\"dataframe\">\n",
       "  <thead>\n",
       "    <tr style=\"text-align: right;\">\n",
       "      <th></th>\n",
       "      <th>Logistic Regression</th>\n",
       "      <th>SVM</th>\n",
       "      <th>Decition Tree</th>\n",
       "      <th>Random Forest</th>\n",
       "    </tr>\n",
       "  </thead>\n",
       "  <tbody>\n",
       "    <tr>\n",
       "      <th>Accuracy</th>\n",
       "      <td>0.799788</td>\n",
       "      <td>0.789901</td>\n",
       "      <td>0.886653</td>\n",
       "      <td>0.903602</td>\n",
       "    </tr>\n",
       "    <tr>\n",
       "      <th>F1</th>\n",
       "      <td>0.806683</td>\n",
       "      <td>0.779711</td>\n",
       "      <td>0.874658</td>\n",
       "      <td>0.895602</td>\n",
       "    </tr>\n",
       "    <tr>\n",
       "      <th>Precision</th>\n",
       "      <td>0.779829</td>\n",
       "      <td>0.819455</td>\n",
       "      <td>0.978166</td>\n",
       "      <td>0.976647</td>\n",
       "    </tr>\n",
       "    <tr>\n",
       "      <th>Sensitivity</th>\n",
       "      <td>0.835452</td>\n",
       "      <td>0.743644</td>\n",
       "      <td>0.790960</td>\n",
       "      <td>0.826977</td>\n",
       "    </tr>\n",
       "    <tr>\n",
       "      <th>Specificity</th>\n",
       "      <td>0.764124</td>\n",
       "      <td>0.836158</td>\n",
       "      <td>0.982345</td>\n",
       "      <td>0.980226</td>\n",
       "    </tr>\n",
       "  </tbody>\n",
       "</table>\n",
       "</div>"
      ],
      "text/plain": [
       "             Logistic Regression       SVM  Decition Tree  Random Forest\n",
       "Accuracy                0.799788  0.789901       0.886653       0.903602\n",
       "F1                      0.806683  0.779711       0.874658       0.895602\n",
       "Precision               0.779829  0.819455       0.978166       0.976647\n",
       "Sensitivity             0.835452  0.743644       0.790960       0.826977\n",
       "Specificity             0.764124  0.836158       0.982345       0.980226"
      ]
     },
     "execution_count": 69,
     "metadata": {},
     "output_type": "execute_result"
    }
   ],
   "source": [
    "df_metrics_method_2 = df_metrics_method_2.merge(calculate_metrics(\"Random Forest\",y_test, y_pred), left_index=True, right_index=True)\n",
    "df_metrics_method_2"
   ]
  },
  {
   "cell_type": "markdown",
   "id": "b3e52be0",
   "metadata": {},
   "source": [
    "**-----------------------------------------------------------------------------------------------------------------------------------------------------------------------------------**"
   ]
  },
  {
   "cell_type": "markdown",
   "id": "f931bd7c",
   "metadata": {},
   "source": [
    "**5) Naive Bayes (Method 2)**"
   ]
  },
  {
   "cell_type": "code",
   "execution_count": 70,
   "id": "679ba2c0",
   "metadata": {},
   "outputs": [
    {
     "data": {
      "text/plain": [
       "0.6140930822740354"
      ]
     },
     "execution_count": 70,
     "metadata": {},
     "output_type": "execute_result"
    }
   ],
   "source": [
    "NB_model = GaussianNB()\n",
    "cross_val_score(NB_model, X, y, cv=10).mean()"
   ]
  },
  {
   "cell_type": "code",
   "execution_count": 71,
   "id": "bbf29a08",
   "metadata": {},
   "outputs": [
    {
     "data": {
      "image/png": "[encoded data removed]",
      "text/plain": [
       "<Figure size 432x288 with 2 Axes>"
      ]
     },
     "metadata": {
      "needs_background": "light"
     },
     "output_type": "display_data"
    }
   ],
   "source": [
    "NB_model.fit(X_train, y_train)\n",
    "y_pred = NB_model.predict(X_test)\n",
    "plot_confusion_matrix(NB_model,X_test,y_test,normalize='all');"
   ]
  },
  {
   "cell_type": "code",
   "execution_count": 72,
   "id": "4b06f0a9",
   "metadata": {},
   "outputs": [
    {
     "data": {
      "text/html": [
       "<div>\n",
       "<style scoped>\n",
       "    .dataframe tbody tr th:only-of-type {\n",
       "        vertical-align: middle;\n",
       "    }\n",
       "\n",
       "    .dataframe tbody tr th {\n",
       "        vertical-align: top;\n",
       "    }\n",
       "\n",
       "    .dataframe thead th {\n",
       "        text-align: right;\n",
       "    }\n",
       "</style>\n",
       "<table border=\"1\" class=\"dataframe\">\n",
       "  <thead>\n",
       "    <tr style=\"text-align: right;\">\n",
       "      <th></th>\n",
       "      <th>Logistic Regression</th>\n",
       "      <th>SVM</th>\n",
       "      <th>Decition Tree</th>\n",
       "      <th>Random Forest</th>\n",
       "      <th>Naive Bays</th>\n",
       "    </tr>\n",
       "  </thead>\n",
       "  <tbody>\n",
       "    <tr>\n",
       "      <th>Accuracy</th>\n",
       "      <td>0.799788</td>\n",
       "      <td>0.789901</td>\n",
       "      <td>0.886653</td>\n",
       "      <td>0.903602</td>\n",
       "      <td>0.569562</td>\n",
       "    </tr>\n",
       "    <tr>\n",
       "      <th>F1</th>\n",
       "      <td>0.806683</td>\n",
       "      <td>0.779711</td>\n",
       "      <td>0.874658</td>\n",
       "      <td>0.895602</td>\n",
       "      <td>0.694869</td>\n",
       "    </tr>\n",
       "    <tr>\n",
       "      <th>Precision</th>\n",
       "      <td>0.779829</td>\n",
       "      <td>0.819455</td>\n",
       "      <td>0.978166</td>\n",
       "      <td>0.976647</td>\n",
       "      <td>0.538193</td>\n",
       "    </tr>\n",
       "    <tr>\n",
       "      <th>Sensitivity</th>\n",
       "      <td>0.835452</td>\n",
       "      <td>0.743644</td>\n",
       "      <td>0.790960</td>\n",
       "      <td>0.826977</td>\n",
       "      <td>0.980226</td>\n",
       "    </tr>\n",
       "    <tr>\n",
       "      <th>Specificity</th>\n",
       "      <td>0.764124</td>\n",
       "      <td>0.836158</td>\n",
       "      <td>0.982345</td>\n",
       "      <td>0.980226</td>\n",
       "      <td>0.158898</td>\n",
       "    </tr>\n",
       "  </tbody>\n",
       "</table>\n",
       "</div>"
      ],
      "text/plain": [
       "             Logistic Regression       SVM  Decition Tree  Random Forest  \\\n",
       "Accuracy                0.799788  0.789901       0.886653       0.903602   \n",
       "F1                      0.806683  0.779711       0.874658       0.895602   \n",
       "Precision               0.779829  0.819455       0.978166       0.976647   \n",
       "Sensitivity             0.835452  0.743644       0.790960       0.826977   \n",
       "Specificity             0.764124  0.836158       0.982345       0.980226   \n",
       "\n",
       "             Naive Bays  \n",
       "Accuracy       0.569562  \n",
       "F1             0.694869  \n",
       "Precision      0.538193  \n",
       "Sensitivity    0.980226  \n",
       "Specificity    0.158898  "
      ]
     },
     "execution_count": 72,
     "metadata": {},
     "output_type": "execute_result"
    }
   ],
   "source": [
    "df_metrics_method_2 = df_metrics_method_2.merge(calculate_metrics(\"Naive Bays\",y_test, y_pred), left_index=True, right_index=True)\n",
    "df_metrics_method_2"
   ]
  },
  {
   "cell_type": "markdown",
   "id": "e311d19d",
   "metadata": {},
   "source": [
    "**-----------------------------------------------------------------------------------------------------------------------------------------------------------------------------------**"
   ]
  },
  {
   "cell_type": "markdown",
   "id": "faf79481",
   "metadata": {},
   "source": [
    "**6) KNN (Method 2)**"
   ]
  },
  {
   "cell_type": "code",
   "execution_count": 73,
   "id": "251efc47",
   "metadata": {},
   "outputs": [
    {
     "data": {
      "text/plain": [
       "0.7012192690277116"
      ]
     },
     "execution_count": 73,
     "metadata": {},
     "output_type": "execute_result"
    }
   ],
   "source": [
    "KNN_model = KNeighborsClassifier(metric='manhattan',n_neighbors=3)\n",
    "cross_val_score(KNN_model, X, y, cv=10).mean()"
   ]
  },
  {
   "cell_type": "code",
   "execution_count": 74,
   "id": "b7876430",
   "metadata": {},
   "outputs": [
    {
     "data": {
      "image/png": "[encoded data removed]",
      "text/plain": [
       "<Figure size 432x288 with 2 Axes>"
      ]
     },
     "metadata": {
      "needs_background": "light"
     },
     "output_type": "display_data"
    }
   ],
   "source": [
    "KNN_model.fit(X_train, y_train)\n",
    "y_pred = KNN_model.predict(X_test)\n",
    "plot_confusion_matrix(KNN_model,X_test,y_test,normalize='all');"
   ]
  },
  {
   "cell_type": "code",
   "execution_count": 75,
   "id": "2aa54b36",
   "metadata": {
    "scrolled": true
   },
   "outputs": [
    {
     "data": {
      "text/html": [
       "<div>\n",
       "<style scoped>\n",
       "    .dataframe tbody tr th:only-of-type {\n",
       "        vertical-align: middle;\n",
       "    }\n",
       "\n",
       "    .dataframe tbody tr th {\n",
       "        vertical-align: top;\n",
       "    }\n",
       "\n",
       "    .dataframe thead th {\n",
       "        text-align: right;\n",
       "    }\n",
       "</style>\n",
       "<table border=\"1\" class=\"dataframe\">\n",
       "  <thead>\n",
       "    <tr style=\"text-align: right;\">\n",
       "      <th></th>\n",
       "      <th>Logistic Regression</th>\n",
       "      <th>SVM</th>\n",
       "      <th>Decition Tree</th>\n",
       "      <th>Random Forest</th>\n",
       "      <th>Naive Bays</th>\n",
       "      <th>KNN</th>\n",
       "    </tr>\n",
       "  </thead>\n",
       "  <tbody>\n",
       "    <tr>\n",
       "      <th>Accuracy</th>\n",
       "      <td>0.799788</td>\n",
       "      <td>0.789901</td>\n",
       "      <td>0.886653</td>\n",
       "      <td>0.903602</td>\n",
       "      <td>0.569562</td>\n",
       "      <td>0.680438</td>\n",
       "    </tr>\n",
       "    <tr>\n",
       "      <th>F1</th>\n",
       "      <td>0.806683</td>\n",
       "      <td>0.779711</td>\n",
       "      <td>0.874658</td>\n",
       "      <td>0.895602</td>\n",
       "      <td>0.694869</td>\n",
       "      <td>0.545455</td>\n",
       "    </tr>\n",
       "    <tr>\n",
       "      <th>Precision</th>\n",
       "      <td>0.779829</td>\n",
       "      <td>0.819455</td>\n",
       "      <td>0.978166</td>\n",
       "      <td>0.976647</td>\n",
       "      <td>0.538193</td>\n",
       "      <td>0.944348</td>\n",
       "    </tr>\n",
       "    <tr>\n",
       "      <th>Sensitivity</th>\n",
       "      <td>0.835452</td>\n",
       "      <td>0.743644</td>\n",
       "      <td>0.790960</td>\n",
       "      <td>0.826977</td>\n",
       "      <td>0.980226</td>\n",
       "      <td>0.383475</td>\n",
       "    </tr>\n",
       "    <tr>\n",
       "      <th>Specificity</th>\n",
       "      <td>0.764124</td>\n",
       "      <td>0.836158</td>\n",
       "      <td>0.982345</td>\n",
       "      <td>0.980226</td>\n",
       "      <td>0.158898</td>\n",
       "      <td>0.977401</td>\n",
       "    </tr>\n",
       "  </tbody>\n",
       "</table>\n",
       "</div>"
      ],
      "text/plain": [
       "             Logistic Regression       SVM  Decition Tree  Random Forest  \\\n",
       "Accuracy                0.799788  0.789901       0.886653       0.903602   \n",
       "F1                      0.806683  0.779711       0.874658       0.895602   \n",
       "Precision               0.779829  0.819455       0.978166       0.976647   \n",
       "Sensitivity             0.835452  0.743644       0.790960       0.826977   \n",
       "Specificity             0.764124  0.836158       0.982345       0.980226   \n",
       "\n",
       "             Naive Bays       KNN  \n",
       "Accuracy       0.569562  0.680438  \n",
       "F1             0.694869  0.545455  \n",
       "Precision      0.538193  0.944348  \n",
       "Sensitivity    0.980226  0.383475  \n",
       "Specificity    0.158898  0.977401  "
      ]
     },
     "execution_count": 75,
     "metadata": {},
     "output_type": "execute_result"
    }
   ],
   "source": [
    "df_metrics_method_2 = df_metrics_method_2.merge(calculate_metrics(\"KNN\",y_test, y_pred), left_index=True, right_index=True)\n",
    "df_metrics_method_2"
   ]
  },
  {
   "cell_type": "markdown",
   "id": "a332280b",
   "metadata": {},
   "source": [
    "**-----------------------------------------------------------------------------------------------------------------------------------------------------------------------------------**"
   ]
  },
  {
   "cell_type": "markdown",
   "id": "1bdd2eb4",
   "metadata": {},
   "source": [
    "**7) XGBoost (Method 2)**"
   ]
  },
  {
   "cell_type": "code",
   "execution_count": 76,
   "id": "3c308a9f",
   "metadata": {},
   "outputs": [
    {
     "data": {
      "text/plain": [
       "0.8185761221761492"
      ]
     },
     "execution_count": 76,
     "metadata": {},
     "output_type": "execute_result"
    }
   ],
   "source": [
    "XGB_model = XGBClassifier(eval_metric='error', learning_rate= 0.1)\n",
    "cross_val_score(XGB_model, X, y, cv=10).mean()"
   ]
  },
  {
   "cell_type": "code",
   "execution_count": 77,
   "id": "7faf25e2",
   "metadata": {},
   "outputs": [
    {
     "data": {
      "image/png": "[encoded data removed]",
      "text/plain": [
       "<Figure size 432x288 with 2 Axes>"
      ]
     },
     "metadata": {
      "needs_background": "light"
     },
     "output_type": "display_data"
    }
   ],
   "source": [
    "XGB_model.fit(X_train,y_train)\n",
    "y_pred=XGB_model.predict(X_test)\n",
    "plot_confusion_matrix(XGB_model,X_test,y_test,normalize='all');"
   ]
  },
  {
   "cell_type": "code",
   "execution_count": 78,
   "id": "3daf88ef",
   "metadata": {},
   "outputs": [
    {
     "data": {
      "text/html": [
       "<div>\n",
       "<style scoped>\n",
       "    .dataframe tbody tr th:only-of-type {\n",
       "        vertical-align: middle;\n",
       "    }\n",
       "\n",
       "    .dataframe tbody tr th {\n",
       "        vertical-align: top;\n",
       "    }\n",
       "\n",
       "    .dataframe thead th {\n",
       "        text-align: right;\n",
       "    }\n",
       "</style>\n",
       "<table border=\"1\" class=\"dataframe\">\n",
       "  <thead>\n",
       "    <tr style=\"text-align: right;\">\n",
       "      <th></th>\n",
       "      <th>Logistic Regression</th>\n",
       "      <th>SVM</th>\n",
       "      <th>Decition Tree</th>\n",
       "      <th>Random Forest</th>\n",
       "      <th>Naive Bays</th>\n",
       "      <th>KNN</th>\n",
       "      <th>XGBoost</th>\n",
       "    </tr>\n",
       "  </thead>\n",
       "  <tbody>\n",
       "    <tr>\n",
       "      <th>Accuracy</th>\n",
       "      <td>0.799788</td>\n",
       "      <td>0.789901</td>\n",
       "      <td>0.886653</td>\n",
       "      <td>0.903602</td>\n",
       "      <td>0.569562</td>\n",
       "      <td>0.680438</td>\n",
       "      <td>0.948446</td>\n",
       "    </tr>\n",
       "    <tr>\n",
       "      <th>F1</th>\n",
       "      <td>0.806683</td>\n",
       "      <td>0.779711</td>\n",
       "      <td>0.874658</td>\n",
       "      <td>0.895602</td>\n",
       "      <td>0.694869</td>\n",
       "      <td>0.545455</td>\n",
       "      <td>0.946793</td>\n",
       "    </tr>\n",
       "    <tr>\n",
       "      <th>Precision</th>\n",
       "      <td>0.779829</td>\n",
       "      <td>0.819455</td>\n",
       "      <td>0.978166</td>\n",
       "      <td>0.976647</td>\n",
       "      <td>0.538193</td>\n",
       "      <td>0.944348</td>\n",
       "      <td>0.978163</td>\n",
       "    </tr>\n",
       "    <tr>\n",
       "      <th>Sensitivity</th>\n",
       "      <td>0.835452</td>\n",
       "      <td>0.743644</td>\n",
       "      <td>0.790960</td>\n",
       "      <td>0.826977</td>\n",
       "      <td>0.980226</td>\n",
       "      <td>0.383475</td>\n",
       "      <td>0.917373</td>\n",
       "    </tr>\n",
       "    <tr>\n",
       "      <th>Specificity</th>\n",
       "      <td>0.764124</td>\n",
       "      <td>0.836158</td>\n",
       "      <td>0.982345</td>\n",
       "      <td>0.980226</td>\n",
       "      <td>0.158898</td>\n",
       "      <td>0.977401</td>\n",
       "      <td>0.979520</td>\n",
       "    </tr>\n",
       "  </tbody>\n",
       "</table>\n",
       "</div>"
      ],
      "text/plain": [
       "             Logistic Regression       SVM  Decition Tree  Random Forest  \\\n",
       "Accuracy                0.799788  0.789901       0.886653       0.903602   \n",
       "F1                      0.806683  0.779711       0.874658       0.895602   \n",
       "Precision               0.779829  0.819455       0.978166       0.976647   \n",
       "Sensitivity             0.835452  0.743644       0.790960       0.826977   \n",
       "Specificity             0.764124  0.836158       0.982345       0.980226   \n",
       "\n",
       "             Naive Bays       KNN   XGBoost  \n",
       "Accuracy       0.569562  0.680438  0.948446  \n",
       "F1             0.694869  0.545455  0.946793  \n",
       "Precision      0.538193  0.944348  0.978163  \n",
       "Sensitivity    0.980226  0.383475  0.917373  \n",
       "Specificity    0.158898  0.977401  0.979520  "
      ]
     },
     "execution_count": 78,
     "metadata": {},
     "output_type": "execute_result"
    }
   ],
   "source": [
    "df_metrics_method_2 = df_metrics_method_2.merge(calculate_metrics(\"XGBoost\",y_test, y_pred), left_index=True, right_index=True)\n",
    "df_metrics_method_2"
   ]
  },
  {
   "cell_type": "markdown",
   "id": "62807efe",
   "metadata": {},
   "source": [
    "**Difference between Method 1 and 2:**"
   ]
  },
  {
   "cell_type": "code",
   "execution_count": 79,
   "id": "ba7ff10a",
   "metadata": {},
   "outputs": [
    {
     "data": {
      "text/html": [
       "<div>\n",
       "<style scoped>\n",
       "    .dataframe tbody tr th:only-of-type {\n",
       "        vertical-align: middle;\n",
       "    }\n",
       "\n",
       "    .dataframe tbody tr th {\n",
       "        vertical-align: top;\n",
       "    }\n",
       "\n",
       "    .dataframe thead th {\n",
       "        text-align: right;\n",
       "    }\n",
       "</style>\n",
       "<table border=\"1\" class=\"dataframe\">\n",
       "  <thead>\n",
       "    <tr style=\"text-align: right;\">\n",
       "      <th></th>\n",
       "      <th>Logistic Regression</th>\n",
       "      <th>SVM</th>\n",
       "      <th>Decition Tree</th>\n",
       "      <th>Random Forest</th>\n",
       "      <th>Naive Bays</th>\n",
       "      <th>KNN</th>\n",
       "      <th>XGBoost</th>\n",
       "    </tr>\n",
       "  </thead>\n",
       "  <tbody>\n",
       "    <tr>\n",
       "      <th>Accuracy</th>\n",
       "      <td>0.016455</td>\n",
       "      <td>0.027739</td>\n",
       "      <td>-0.021906</td>\n",
       "      <td>0.013512</td>\n",
       "      <td>-0.071879</td>\n",
       "      <td>0.038546</td>\n",
       "      <td>-0.007410</td>\n",
       "    </tr>\n",
       "    <tr>\n",
       "      <th>F1</th>\n",
       "      <td>0.015722</td>\n",
       "      <td>0.049650</td>\n",
       "      <td>-0.027792</td>\n",
       "      <td>0.016754</td>\n",
       "      <td>-0.041031</td>\n",
       "      <td>0.068825</td>\n",
       "      <td>-0.007626</td>\n",
       "    </tr>\n",
       "    <tr>\n",
       "      <th>Precision</th>\n",
       "      <td>0.015765</td>\n",
       "      <td>-0.024516</td>\n",
       "      <td>0.011122</td>\n",
       "      <td>-0.002335</td>\n",
       "      <td>-0.044265</td>\n",
       "      <td>0.059262</td>\n",
       "      <td>-0.008376</td>\n",
       "    </tr>\n",
       "    <tr>\n",
       "      <th>Sensitivity</th>\n",
       "      <td>0.015632</td>\n",
       "      <td>0.100401</td>\n",
       "      <td>-0.054985</td>\n",
       "      <td>0.029680</td>\n",
       "      <td>-0.018873</td>\n",
       "      <td>0.057348</td>\n",
       "      <td>-0.006951</td>\n",
       "    </tr>\n",
       "    <tr>\n",
       "      <th>Specificity</th>\n",
       "      <td>0.017277</td>\n",
       "      <td>-0.044923</td>\n",
       "      <td>0.011173</td>\n",
       "      <td>-0.002657</td>\n",
       "      <td>-0.124885</td>\n",
       "      <td>0.019743</td>\n",
       "      <td>-0.007868</td>\n",
       "    </tr>\n",
       "  </tbody>\n",
       "</table>\n",
       "</div>"
      ],
      "text/plain": [
       "             Logistic Regression       SVM  Decition Tree  Random Forest  \\\n",
       "Accuracy                0.016455  0.027739      -0.021906       0.013512   \n",
       "F1                      0.015722  0.049650      -0.027792       0.016754   \n",
       "Precision               0.015765 -0.024516       0.011122      -0.002335   \n",
       "Sensitivity             0.015632  0.100401      -0.054985       0.029680   \n",
       "Specificity             0.017277 -0.044923       0.011173      -0.002657   \n",
       "\n",
       "             Naive Bays       KNN   XGBoost  \n",
       "Accuracy      -0.071879  0.038546 -0.007410  \n",
       "F1            -0.041031  0.068825 -0.007626  \n",
       "Precision     -0.044265  0.059262 -0.008376  \n",
       "Sensitivity   -0.018873  0.057348 -0.006951  \n",
       "Specificity   -0.124885  0.019743 -0.007868  "
      ]
     },
     "execution_count": 79,
     "metadata": {},
     "output_type": "execute_result"
    }
   ],
   "source": [
    "difference = df_metrics_method_2 - df_metrics_method_1\n",
    "difference"
   ]
  },
  {
   "cell_type": "markdown",
   "id": "08dcdc6d",
   "metadata": {},
   "source": [
    "# Bonus: Effect of Glucose"
   ]
  },
  {
   "cell_type": "code",
   "execution_count": 80,
   "id": "f9f9f9d6",
   "metadata": {},
   "outputs": [],
   "source": [
    "df_b = pd.read_excel('DataFromPowerBI.xlsx')"
   ]
  },
  {
   "cell_type": "code",
   "execution_count": 81,
   "id": "5f025676",
   "metadata": {},
   "outputs": [],
   "source": [
    "df_b = df_b.drop(['Age','Age_Interval','BMI','Residence_type','Gender','Glucose Condition'],axis=1)"
   ]
  },
  {
   "cell_type": "code",
   "execution_count": 82,
   "id": "7a665360",
   "metadata": {},
   "outputs": [],
   "source": [
    "df_b['Glucose'] = pd.cut(df_b['AVG_Glucose_Level'],25)\n",
    "df_b['Glucose'] = df_b['Glucose'].astype('object')"
   ]
  },
  {
   "cell_type": "code",
   "execution_count": 83,
   "id": "572062dc",
   "metadata": {},
   "outputs": [],
   "source": [
    "# mask = (df_b['Weight Condition'] =='Unknown')\n",
    "# df_b = df_b.drop(df_b[mask].index).drop('Smoking Status',axis=1)"
   ]
  },
  {
   "cell_type": "code",
   "execution_count": 84,
   "id": "1eed7ab4",
   "metadata": {},
   "outputs": [],
   "source": [
    "cols=df_b.select_dtypes(include=['object']).columns\n",
    "Encoded_df_b = pd.get_dummies(df_b[cols])"
   ]
  },
  {
   "cell_type": "code",
   "execution_count": 85,
   "id": "38bb89e3",
   "metadata": {
    "scrolled": true
   },
   "outputs": [],
   "source": [
    "cols=df_b.select_dtypes(include=['int']).columns\n",
    "Encoded_df_b = pd.concat([Encoded_df_b, df_b[cols]], axis=1)\n",
    "Encoded_df_b = Encoded_df_b.drop(['Work_Type_Never_worked','Weight Condition_Normal'],axis=1)"
   ]
  },
  {
   "cell_type": "code",
   "execution_count": 86,
   "id": "b06041cb",
   "metadata": {},
   "outputs": [
    {
     "data": {
      "text/plain": [
       "Glucose_(81.114, 89.779]     -0.038214\n",
       "Glucose_(89.779, 98.444]     -0.023912\n",
       "Glucose_(107.109, 115.774]   -0.019125\n",
       "Glucose_(63.785, 72.45]      -0.018418\n",
       "Glucose_(115.774, 124.438]   -0.014622\n",
       "Glucose_(150.433, 159.098]   -0.014203\n",
       "Glucose_(141.768, 150.433]   -0.012796\n",
       "Glucose_(72.45, 81.114]      -0.012581\n",
       "Glucose_(98.444, 107.109]    -0.012146\n",
       "Glucose_(54.903, 63.785]     -0.011978\n",
       "Glucose_(124.438, 133.103]   -0.011830\n",
       "Glucose_(254.41, 263.075]     0.014026\n",
       "Glucose_(176.427, 185.092]    0.023551\n",
       "Glucose_(167.762, 176.427]    0.025284\n",
       "Glucose_(159.098, 167.762]    0.028900\n",
       "Glucose_(219.751, 228.416]    0.037350\n",
       "Glucose_(202.422, 211.086]    0.039179\n",
       "Glucose_(263.075, 271.74]     0.040766\n",
       "Glucose_(228.416, 237.081]    0.042073\n",
       "Glucose_(245.746, 254.41]     0.042290\n",
       "Glucose_(237.081, 245.746]    0.046138\n",
       "Glucose_(185.092, 193.757]    0.046858\n",
       "Glucose_(211.086, 219.751]    0.051992\n",
       "Glucose_(193.757, 202.422]    0.067757\n",
       "Name: Stroke_Status, dtype: float64"
      ]
     },
     "execution_count": 86,
     "metadata": {},
     "output_type": "execute_result"
    }
   ],
   "source": [
    "mask = (Encoded_df_b.corr().index.str.startswith('Glucose_')) & (abs(Encoded_df_b.corr()['Stroke_Status'])>0.01)\n",
    "Encoded_df_b.corr()['Stroke_Status'].loc[mask].sort_values()\n"
   ]
  },
  {
   "cell_type": "markdown",
   "id": "3912228b",
   "metadata": {},
   "source": [
    "# Association Rules"
   ]
  },
  {
   "cell_type": "markdown",
   "id": "1b7e17e4",
   "metadata": {},
   "source": [
    "**Apriori Algorithm**"
   ]
  },
  {
   "cell_type": "code",
   "execution_count": 87,
   "id": "209db6e7",
   "metadata": {},
   "outputs": [],
   "source": [
    "# !pip install mlxtend\n",
    "from mlxtend.frequent_patterns import apriori, association_rules"
   ]
  },
  {
   "cell_type": "code",
   "execution_count": 88,
   "id": "7a8280b2",
   "metadata": {},
   "outputs": [],
   "source": [
    "mask = (df_method1['Weight Condition'] =='Unknown')\n",
    "cols = ['Hypertension', 'Heart_Disease', 'Smoking Status', 'Weight Condition', 'Glucose Condition','Stroke_Status']\n",
    "df_ap = df_method1.drop(df_method1[mask].index).loc[:,cols]"
   ]
  },
  {
   "cell_type": "code",
   "execution_count": 89,
   "id": "72c567ae",
   "metadata": {},
   "outputs": [],
   "source": [
    "Encoded_df_ap = pd.get_dummies(df_ap)"
   ]
  },
  {
   "cell_type": "code",
   "execution_count": 90,
   "id": "3c4c9508",
   "metadata": {},
   "outputs": [
    {
     "name": "stdout",
     "output_type": "stream",
     "text": [
      "\r",
      "Processing 156 combinations | Sampling itemset size 2\r",
      "Processing 213 combinations | Sampling itemset size 3\r",
      "Processing 4 combinations | Sampling itemset size 4\n"
     ]
    }
   ],
   "source": [
    "ap = apriori(Encoded_df_ap, min_support = 0.04, use_colnames = True, verbose = 1)"
   ]
  },
  {
   "cell_type": "code",
   "execution_count": 91,
   "id": "de3333cb",
   "metadata": {},
   "outputs": [],
   "source": [
    "df_ap_rules = association_rules(ap, metric = \"confidence\", min_threshold = 0.60)"
   ]
  },
  {
   "cell_type": "code",
   "execution_count": 92,
   "id": "f8c85392",
   "metadata": {},
   "outputs": [],
   "source": [
    "pd. set_option('display.max_columns', None) # or 1000.\n",
    "pd. set_option('display.max_rows', None) # or 1000.\n",
    "pd. set_option('display.max_colwidth', 199) # or 199."
   ]
  },
  {
   "cell_type": "code",
   "execution_count": 93,
   "id": "8ee871e4",
   "metadata": {
    "scrolled": true
   },
   "outputs": [
    {
     "data": {
      "text/html": [
       "<div>\n",
       "<style scoped>\n",
       "    .dataframe tbody tr th:only-of-type {\n",
       "        vertical-align: middle;\n",
       "    }\n",
       "\n",
       "    .dataframe tbody tr th {\n",
       "        vertical-align: top;\n",
       "    }\n",
       "\n",
       "    .dataframe thead th {\n",
       "        text-align: right;\n",
       "    }\n",
       "</style>\n",
       "<table border=\"1\" class=\"dataframe\">\n",
       "  <thead>\n",
       "    <tr style=\"text-align: right;\">\n",
       "      <th></th>\n",
       "      <th>antecedents</th>\n",
       "      <th>consequents</th>\n",
       "      <th>support</th>\n",
       "      <th>confidence</th>\n",
       "      <th>lift</th>\n",
       "    </tr>\n",
       "  </thead>\n",
       "  <tbody>\n",
       "    <tr>\n",
       "      <th>13</th>\n",
       "      <td>(Weight Condition_Underweight, Glucose Condition_Normal)</td>\n",
       "      <td>(Smoking Status_never smoked)</td>\n",
       "      <td>0.048661</td>\n",
       "      <td>0.964286</td>\n",
       "      <td>1.620634</td>\n",
       "    </tr>\n",
       "    <tr>\n",
       "      <th>2</th>\n",
       "      <td>(Weight Condition_Underweight)</td>\n",
       "      <td>(Smoking Status_never smoked)</td>\n",
       "      <td>0.071061</td>\n",
       "      <td>0.948454</td>\n",
       "      <td>1.594026</td>\n",
       "    </tr>\n",
       "    <tr>\n",
       "      <th>14</th>\n",
       "      <td>(Weight Condition_Underweight, Smoking Status_never smoked)</td>\n",
       "      <td>(Glucose Condition_Normal)</td>\n",
       "      <td>0.048661</td>\n",
       "      <td>0.684783</td>\n",
       "      <td>1.126035</td>\n",
       "    </tr>\n",
       "    <tr>\n",
       "      <th>16</th>\n",
       "      <td>(Weight Condition_Overweight, Smoking Status_smokes)</td>\n",
       "      <td>(Glucose Condition_Normal)</td>\n",
       "      <td>0.042225</td>\n",
       "      <td>0.674897</td>\n",
       "      <td>1.109780</td>\n",
       "    </tr>\n",
       "    <tr>\n",
       "      <th>8</th>\n",
       "      <td>(Weight Condition_Underweight)</td>\n",
       "      <td>(Glucose Condition_Normal)</td>\n",
       "      <td>0.050463</td>\n",
       "      <td>0.673540</td>\n",
       "      <td>1.107548</td>\n",
       "    </tr>\n",
       "    <tr>\n",
       "      <th>1</th>\n",
       "      <td>(Weight Condition_Normal)</td>\n",
       "      <td>(Smoking Status_never smoked)</td>\n",
       "      <td>0.161946</td>\n",
       "      <td>0.670576</td>\n",
       "      <td>1.127008</td>\n",
       "    </tr>\n",
       "    <tr>\n",
       "      <th>10</th>\n",
       "      <td>(Glucose Condition_Normal, Weight Condition_Normal)</td>\n",
       "      <td>(Smoking Status_never smoked)</td>\n",
       "      <td>0.103759</td>\n",
       "      <td>0.660656</td>\n",
       "      <td>1.110336</td>\n",
       "    </tr>\n",
       "    <tr>\n",
       "      <th>6</th>\n",
       "      <td>(Weight Condition_Normal)</td>\n",
       "      <td>(Glucose Condition_Normal)</td>\n",
       "      <td>0.157055</td>\n",
       "      <td>0.650320</td>\n",
       "      <td>1.069366</td>\n",
       "    </tr>\n",
       "    <tr>\n",
       "      <th>15</th>\n",
       "      <td>(Weight Condition_Underweight)</td>\n",
       "      <td>(Glucose Condition_Normal, Smoking Status_never smoked)</td>\n",
       "      <td>0.048661</td>\n",
       "      <td>0.649485</td>\n",
       "      <td>1.762822</td>\n",
       "    </tr>\n",
       "    <tr>\n",
       "      <th>11</th>\n",
       "      <td>(Smoking Status_never smoked, Weight Condition_Normal)</td>\n",
       "      <td>(Glucose Condition_Normal)</td>\n",
       "      <td>0.103759</td>\n",
       "      <td>0.640700</td>\n",
       "      <td>1.053547</td>\n",
       "    </tr>\n",
       "    <tr>\n",
       "      <th>0</th>\n",
       "      <td>(Hypertension)</td>\n",
       "      <td>(Weight Condition_Obese)</td>\n",
       "      <td>0.064624</td>\n",
       "      <td>0.615196</td>\n",
       "      <td>1.545551</td>\n",
       "    </tr>\n",
       "  </tbody>\n",
       "</table>\n",
       "</div>"
      ],
      "text/plain": [
       "                                                    antecedents  \\\n",
       "13     (Weight Condition_Underweight, Glucose Condition_Normal)   \n",
       "2                                (Weight Condition_Underweight)   \n",
       "14  (Weight Condition_Underweight, Smoking Status_never smoked)   \n",
       "16         (Weight Condition_Overweight, Smoking Status_smokes)   \n",
       "8                                (Weight Condition_Underweight)   \n",
       "1                                     (Weight Condition_Normal)   \n",
       "10          (Glucose Condition_Normal, Weight Condition_Normal)   \n",
       "6                                     (Weight Condition_Normal)   \n",
       "15                               (Weight Condition_Underweight)   \n",
       "11       (Smoking Status_never smoked, Weight Condition_Normal)   \n",
       "0                                                (Hypertension)   \n",
       "\n",
       "                                                consequents   support  \\\n",
       "13                            (Smoking Status_never smoked)  0.048661   \n",
       "2                             (Smoking Status_never smoked)  0.071061   \n",
       "14                               (Glucose Condition_Normal)  0.048661   \n",
       "16                               (Glucose Condition_Normal)  0.042225   \n",
       "8                                (Glucose Condition_Normal)  0.050463   \n",
       "1                             (Smoking Status_never smoked)  0.161946   \n",
       "10                            (Smoking Status_never smoked)  0.103759   \n",
       "6                                (Glucose Condition_Normal)  0.157055   \n",
       "15  (Glucose Condition_Normal, Smoking Status_never smoked)  0.048661   \n",
       "11                               (Glucose Condition_Normal)  0.103759   \n",
       "0                                  (Weight Condition_Obese)  0.064624   \n",
       "\n",
       "    confidence      lift  \n",
       "13    0.964286  1.620634  \n",
       "2     0.948454  1.594026  \n",
       "14    0.684783  1.126035  \n",
       "16    0.674897  1.109780  \n",
       "8     0.673540  1.107548  \n",
       "1     0.670576  1.127008  \n",
       "10    0.660656  1.110336  \n",
       "6     0.650320  1.069366  \n",
       "15    0.649485  1.762822  \n",
       "11    0.640700  1.053547  \n",
       "0     0.615196  1.545551  "
      ]
     },
     "execution_count": 93,
     "metadata": {},
     "output_type": "execute_result"
    }
   ],
   "source": [
    "df_ap_rules.sort_values(by='confidence', ascending=False).query(' lift > 1.05')[['antecedents','consequents','support','confidence','lift']]"
   ]
  },
  {
   "cell_type": "markdown",
   "id": "f48cf432",
   "metadata": {},
   "source": [
    "**Apriori as Classifier**"
   ]
  },
  {
   "cell_type": "code",
   "execution_count": 156,
   "id": "dc956568",
   "metadata": {},
   "outputs": [
    {
     "name": "stdout",
     "output_type": "stream",
     "text": [
      "\r",
      "Processing 156 combinations | Sampling itemset size 2\r",
      "Processing 696 combinations | Sampling itemset size 3\r",
      "Processing 1400 combinations | Sampling itemset size 4\r",
      "Processing 995 combinations | Sampling itemset size 5\r",
      "Processing 54 combinations | Sampling itemset size 6\n"
     ]
    }
   ],
   "source": [
    "mask = (df_method1['Weight Condition'] =='Unknown')\n",
    "cols = ['Hypertension', 'Heart_Disease', 'Smoking Status', 'Weight Condition', 'Glucose Condition','Stroke_Status']\n",
    "df_ap = df_method1.drop(df_method1[mask].index).loc[:,cols]\n",
    "Encoded_df_ap = pd.get_dummies(df_ap)\n",
    "ap = apriori(Encoded_df_ap, min_support = 0.001, use_colnames = True, verbose = 1)\n",
    "df_ap_rules = association_rules(ap, metric = \"confidence\", min_threshold = 0.35)"
   ]
  },
  {
   "cell_type": "code",
   "execution_count": 157,
   "id": "a0e3feb6",
   "metadata": {},
   "outputs": [],
   "source": [
    "rules_df = df_ap_rules.sort_values(by='confidence', ascending=False).query(' lift > 1.01')[['antecedents','consequents','support','confidence','lift']]"
   ]
  },
  {
   "cell_type": "code",
   "execution_count": 158,
   "id": "5873a4cf",
   "metadata": {},
   "outputs": [
    {
     "data": {
      "text/html": [
       "<div>\n",
       "<style scoped>\n",
       "    .dataframe tbody tr th:only-of-type {\n",
       "        vertical-align: middle;\n",
       "    }\n",
       "\n",
       "    .dataframe tbody tr th {\n",
       "        vertical-align: top;\n",
       "    }\n",
       "\n",
       "    .dataframe thead th {\n",
       "        text-align: right;\n",
       "    }\n",
       "</style>\n",
       "<table border=\"1\" class=\"dataframe\">\n",
       "  <thead>\n",
       "    <tr style=\"text-align: right;\">\n",
       "      <th></th>\n",
       "      <th>antecedents</th>\n",
       "      <th>consequents</th>\n",
       "      <th>support</th>\n",
       "      <th>confidence</th>\n",
       "      <th>lift</th>\n",
       "    </tr>\n",
       "  </thead>\n",
       "  <tbody>\n",
       "    <tr>\n",
       "      <th>268</th>\n",
       "      <td>(Heart_Disease, Glucose Condition_Diabetes, Smoking Status_smokes)</td>\n",
       "      <td>(Stroke_Status)</td>\n",
       "      <td>0.002060</td>\n",
       "      <td>0.421053</td>\n",
       "      <td>9.085380</td>\n",
       "    </tr>\n",
       "    <tr>\n",
       "      <th>395</th>\n",
       "      <td>(Glucose Condition_Diabetes, Heart_Disease, Weight Condition_Obese, Smoking Status_smokes)</td>\n",
       "      <td>(Stroke_Status)</td>\n",
       "      <td>0.001287</td>\n",
       "      <td>0.416667</td>\n",
       "      <td>8.990741</td>\n",
       "    </tr>\n",
       "    <tr>\n",
       "      <th>388</th>\n",
       "      <td>(Glucose Condition_Diabetes, Heart_Disease, Smoking Status_never smoked, Weight Condition_Overweight)</td>\n",
       "      <td>(Stroke_Status)</td>\n",
       "      <td>0.001287</td>\n",
       "      <td>0.384615</td>\n",
       "      <td>8.299145</td>\n",
       "    </tr>\n",
       "    <tr>\n",
       "      <th>346</th>\n",
       "      <td>(Glucose Condition_Diabetes, Heart_Disease, Hypertension, Weight Condition_Obese)</td>\n",
       "      <td>(Stroke_Status)</td>\n",
       "      <td>0.001287</td>\n",
       "      <td>0.357143</td>\n",
       "      <td>7.706349</td>\n",
       "    </tr>\n",
       "  </tbody>\n",
       "</table>\n",
       "</div>"
      ],
      "text/plain": [
       "                                                                                               antecedents  \\\n",
       "268                                     (Heart_Disease, Glucose Condition_Diabetes, Smoking Status_smokes)   \n",
       "395             (Glucose Condition_Diabetes, Heart_Disease, Weight Condition_Obese, Smoking Status_smokes)   \n",
       "388  (Glucose Condition_Diabetes, Heart_Disease, Smoking Status_never smoked, Weight Condition_Overweight)   \n",
       "346                      (Glucose Condition_Diabetes, Heart_Disease, Hypertension, Weight Condition_Obese)   \n",
       "\n",
       "         consequents   support  confidence      lift  \n",
       "268  (Stroke_Status)  0.002060    0.421053  9.085380  \n",
       "395  (Stroke_Status)  0.001287    0.416667  8.990741  \n",
       "388  (Stroke_Status)  0.001287    0.384615  8.299145  \n",
       "346  (Stroke_Status)  0.001287    0.357143  7.706349  "
      ]
     },
     "execution_count": 158,
     "metadata": {},
     "output_type": "execute_result"
    }
   ],
   "source": [
    "rules_df[rules_df[\"consequents\"].apply(lambda x: 'Stroke' in str(x))]"
   ]
  },
  {
   "cell_type": "markdown",
   "id": "4782b3c4",
   "metadata": {},
   "source": [
    "# Neural Network"
   ]
  },
  {
   "cell_type": "code",
   "execution_count": 96,
   "id": "b34ff110",
   "metadata": {},
   "outputs": [],
   "source": [
    "from keras.wrappers.scikit_learn import KerasClassifier\n",
    "from keras.utils import np_utils\n",
    "from keras.models import Sequential\n",
    "from keras.layers import Dense, Dropout\n",
    "from keras.callbacks import EarlyStopping"
   ]
  },
  {
   "cell_type": "code",
   "execution_count": 97,
   "id": "7f4a7ff6",
   "metadata": {
    "scrolled": true
   },
   "outputs": [
    {
     "name": "stdout",
     "output_type": "stream",
     "text": [
      "Epoch 1/30\n",
      "158/158 [==============================] - 3s 5ms/step - loss: 2.4476 - accuracy: 0.1703 - val_loss: 0.2372 - val_accuracy: 1.0000\n",
      "Epoch 2/30\n",
      "158/158 [==============================] - 1s 3ms/step - loss: 1.6314 - accuracy: 0.3922 - val_loss: 0.1463 - val_accuracy: 0.9947\n",
      "Epoch 3/30\n",
      "158/158 [==============================] - 1s 3ms/step - loss: 1.4996 - accuracy: 0.4623 - val_loss: 0.1574 - val_accuracy: 0.9897\n",
      "Epoch 4/30\n",
      "158/158 [==============================] - 1s 4ms/step - loss: 1.4320 - accuracy: 0.5080 - val_loss: 0.1345 - val_accuracy: 0.9859\n",
      "Epoch 5/30\n",
      "158/158 [==============================] - 1s 4ms/step - loss: 1.4002 - accuracy: 0.5341 - val_loss: 0.1538 - val_accuracy: 0.9802\n",
      "Epoch 6/30\n",
      "158/158 [==============================] - 1s 6ms/step - loss: 1.3821 - accuracy: 0.5542 - val_loss: 0.1487 - val_accuracy: 0.9798\n",
      "Epoch 7/30\n",
      "158/158 [==============================] - 1s 5ms/step - loss: 1.3713 - accuracy: 0.5598 - val_loss: 0.1316 - val_accuracy: 0.9821\n",
      "Epoch 8/30\n",
      "158/158 [==============================] - 1s 6ms/step - loss: 1.3607 - accuracy: 0.5600 - val_loss: 0.1363 - val_accuracy: 0.9813\n",
      "Epoch 9/30\n",
      "158/158 [==============================] - 1s 5ms/step - loss: 1.3518 - accuracy: 0.5651 - val_loss: 0.1357 - val_accuracy: 0.9833\n",
      "Epoch 10/30\n",
      "158/158 [==============================] - 1s 5ms/step - loss: 1.3417 - accuracy: 0.5679 - val_loss: 0.1400 - val_accuracy: 0.9825\n",
      "Epoch 11/30\n",
      "158/158 [==============================] - 1s 4ms/step - loss: 1.3329 - accuracy: 0.5753 - val_loss: 0.1325 - val_accuracy: 0.9817\n",
      "Epoch 12/30\n",
      "158/158 [==============================] - 1s 5ms/step - loss: 1.3255 - accuracy: 0.5771 - val_loss: 0.1411 - val_accuracy: 0.9810\n",
      "Epoch 13/30\n",
      "158/158 [==============================] - 1s 4ms/step - loss: 1.3234 - accuracy: 0.5829 - val_loss: 0.1505 - val_accuracy: 0.9798\n",
      "Epoch 14/30\n",
      "158/158 [==============================] - 1s 4ms/step - loss: 1.3191 - accuracy: 0.5923 - val_loss: 0.1322 - val_accuracy: 0.9825\n",
      "Epoch 15/30\n",
      "158/158 [==============================] - 1s 4ms/step - loss: 1.3174 - accuracy: 0.5910 - val_loss: 0.1283 - val_accuracy: 0.9836\n",
      "Epoch 16/30\n",
      "158/158 [==============================] - 1s 4ms/step - loss: 1.3114 - accuracy: 0.5953 - val_loss: 0.1390 - val_accuracy: 0.9802\n",
      "Epoch 17/30\n",
      "158/158 [==============================] - 1s 3ms/step - loss: 1.3102 - accuracy: 0.5946 - val_loss: 0.1334 - val_accuracy: 0.9817\n",
      "Epoch 18/30\n",
      "158/158 [==============================] - 1s 4ms/step - loss: 1.3071 - accuracy: 0.5842 - val_loss: 0.1356 - val_accuracy: 0.9813\n",
      "Epoch 19/30\n",
      "158/158 [==============================] - 1s 4ms/step - loss: 1.3040 - accuracy: 0.5941 - val_loss: 0.1431 - val_accuracy: 0.9798\n",
      "Epoch 20/30\n",
      "158/158 [==============================] - 1s 4ms/step - loss: 1.3038 - accuracy: 0.5986 - val_loss: 0.1227 - val_accuracy: 0.9840\n",
      "Epoch 21/30\n",
      "158/158 [==============================] - 1s 4ms/step - loss: 1.3007 - accuracy: 0.5925 - val_loss: 0.1240 - val_accuracy: 0.9833\n",
      "Epoch 22/30\n",
      "158/158 [==============================] - 1s 3ms/step - loss: 1.2978 - accuracy: 0.5936 - val_loss: 0.1408 - val_accuracy: 0.9817\n",
      "Epoch 23/30\n",
      "158/158 [==============================] - 1s 3ms/step - loss: 1.2951 - accuracy: 0.5969 - val_loss: 0.1262 - val_accuracy: 0.9829\n",
      "Epoch 24/30\n",
      "158/158 [==============================] - 1s 3ms/step - loss: 1.2946 - accuracy: 0.5994 - val_loss: 0.1250 - val_accuracy: 0.9821\n",
      "Epoch 25/30\n",
      "158/158 [==============================] - 1s 3ms/step - loss: 1.2889 - accuracy: 0.6080 - val_loss: 0.1091 - val_accuracy: 0.9859\n",
      "Epoch 26/30\n",
      "158/158 [==============================] - 1s 3ms/step - loss: 1.2907 - accuracy: 0.6045 - val_loss: 0.1212 - val_accuracy: 0.9836\n",
      "Epoch 27/30\n",
      "158/158 [==============================] - 1s 4ms/step - loss: 1.2879 - accuracy: 0.5989 - val_loss: 0.1343 - val_accuracy: 0.9817\n",
      "Epoch 28/30\n",
      "158/158 [==============================] - 1s 5ms/step - loss: 1.2838 - accuracy: 0.6035 - val_loss: 0.1354 - val_accuracy: 0.9810\n",
      "Epoch 29/30\n",
      "158/158 [==============================] - 1s 4ms/step - loss: 1.2841 - accuracy: 0.6068 - val_loss: 0.1244 - val_accuracy: 0.9829\n",
      "Epoch 30/30\n",
      "158/158 [==============================] - 1s 5ms/step - loss: 1.2823 - accuracy: 0.6065 - val_loss: 0.1272 - val_accuracy: 0.9833\n"
     ]
    }
   ],
   "source": [
    "# build Sequential ANN model\n",
    "Neurons_Trial=8\n",
    "Optimizer_Trial='adam'\n",
    "\n",
    "# Creating the classifier ANN model\n",
    "ANN_model = Sequential()\n",
    "ANN_model.add(Dense(units=Neurons_Trial, input_dim=17, kernel_initializer='uniform', activation='relu'))\n",
    "ANN_model.add(Dense(units=Neurons_Trial, kernel_initializer='uniform', activation='relu'))\n",
    "ANN_model.add(Dense(units=1, kernel_initializer='uniform', activation='sigmoid'))\n",
    "ANN_model.compile(optimizer=Optimizer_Trial, loss='binary_crossentropy', metrics=['accuracy'])\n",
    "    \n",
    "\n",
    "# model fit \n",
    "weights = {0:1, 1:20}\n",
    "history = ANN_model.fit(X_train,\n",
    "                    y_train,\n",
    "                    class_weight=weights,\n",
    "                    epochs=30, \n",
    "                    batch_size=25,\n",
    "                    validation_split=0.4,\n",
    "                    shuffle=True,\n",
    "                    verbose=1)"
   ]
  },
  {
   "cell_type": "code",
   "execution_count": 98,
   "id": "eb8ed3f8",
   "metadata": {
    "scrolled": true
   },
   "outputs": [
    {
     "data": {
      "image/png": "[encoded data removed]",
      "text/plain": [
       "<Figure size 432x288 with 1 Axes>"
      ]
     },
     "metadata": {
      "needs_background": "light"
     },
     "output_type": "display_data"
    }
   ],
   "source": [
    "# Learning Curve\n",
    "history_dict = history.history\n",
    "\n",
    "# loss\n",
    "loss_values = history_dict['loss'] \n",
    "val_loss_values = history_dict['val_loss'] \n",
    "\n",
    "# No. of epochs\n",
    "epochs = range(1, len(loss_values) + 1) \n",
    "\n",
    "\n",
    "plt.plot(epochs, loss_values, 'bo', label='Training loss')\n",
    "plt.plot(epochs, val_loss_values, 'orange', label='Validation loss')\n",
    "plt.title('Training and validation loss')\n",
    "plt.xlabel('Epochs')\n",
    "plt.ylabel('Loss')\n",
    "plt.legend()\n",
    "plt.show()"
   ]
  },
  {
   "cell_type": "code",
   "execution_count": 99,
   "id": "8e085522",
   "metadata": {},
   "outputs": [
    {
     "data": {
      "text/html": [
       "<div>\n",
       "<style scoped>\n",
       "    .dataframe tbody tr th:only-of-type {\n",
       "        vertical-align: middle;\n",
       "    }\n",
       "\n",
       "    .dataframe tbody tr th {\n",
       "        vertical-align: top;\n",
       "    }\n",
       "\n",
       "    .dataframe thead th {\n",
       "        text-align: right;\n",
       "    }\n",
       "</style>\n",
       "<table border=\"1\" class=\"dataframe\">\n",
       "  <thead>\n",
       "    <tr style=\"text-align: right;\">\n",
       "      <th></th>\n",
       "      <th>ANN</th>\n",
       "    </tr>\n",
       "  </thead>\n",
       "  <tbody>\n",
       "    <tr>\n",
       "      <th>Accuracy</th>\n",
       "      <td>0.765184</td>\n",
       "    </tr>\n",
       "    <tr>\n",
       "      <th>F1</th>\n",
       "      <td>0.805612</td>\n",
       "    </tr>\n",
       "    <tr>\n",
       "      <th>Precision</th>\n",
       "      <td>0.687282</td>\n",
       "    </tr>\n",
       "    <tr>\n",
       "      <th>Sensitivity</th>\n",
       "      <td>0.973164</td>\n",
       "    </tr>\n",
       "    <tr>\n",
       "      <th>Specificity</th>\n",
       "      <td>0.557203</td>\n",
       "    </tr>\n",
       "  </tbody>\n",
       "</table>\n",
       "</div>"
      ],
      "text/plain": [
       "                  ANN\n",
       "Accuracy     0.765184\n",
       "F1           0.805612\n",
       "Precision    0.687282\n",
       "Sensitivity  0.973164\n",
       "Specificity  0.557203"
      ]
     },
     "execution_count": 99,
     "metadata": {},
     "output_type": "execute_result"
    }
   ],
   "source": [
    "y_pred = ANN_model.predict(X_test)\n",
    "for i,item in enumerate(y_pred):\n",
    "    if item < 0.5:\n",
    "        y_pred[i]=0\n",
    "    else:\n",
    "        y_pred[i]=1\n",
    "        \n",
    "calculate_metrics(\"ANN\",y_test, y_pred)"
   ]
  },
  {
   "cell_type": "markdown",
   "id": "82af161a",
   "metadata": {},
   "source": [
    "# Confidence Interval"
   ]
  },
  {
   "cell_type": "code",
   "execution_count": 100,
   "id": "82d1bc99",
   "metadata": {},
   "outputs": [],
   "source": [
    "import scipy.stats as stats\n",
    "from scipy.optimize import fsolve"
   ]
  },
  {
   "cell_type": "code",
   "execution_count": 101,
   "id": "f2de68f5",
   "metadata": {},
   "outputs": [
    {
     "data": {
      "text/plain": [
       "1.96"
      ]
     },
     "execution_count": 101,
     "metadata": {},
     "output_type": "execute_result"
    }
   ],
   "source": [
    "# Z for 95% confidence:\n",
    "z_critical = stats.norm.ppf(q = 0.975)\n",
    "round(z_critical,2)"
   ]
  },
  {
   "cell_type": "code",
   "execution_count": 159,
   "id": "4338b7cc",
   "metadata": {
    "scrolled": false
   },
   "outputs": [
    {
     "name": "stdout",
     "output_type": "stream",
     "text": [
      "Model Accuracy (95% Confidence Interval): [91.88, 92.95]\n"
     ]
    }
   ],
   "source": [
    "N = len(X)      # number of Samples\n",
    "f = 0.924324    # XGboost Recall (Sensitivity)\n",
    "x0 = 0.95       # initial guess\n",
    "\n",
    "def g1(P):\n",
    "    return ((f-P)/((P*(1-P)/N) )**0.5)-z_critical\n",
    "def g2(P):\n",
    "    return ((f-P)/((P*(1-P)/N) )**0.5)+z_critical\n",
    "\n",
    "lower_limit = round(float(fsolve(g1,x0)),4)*100\n",
    "upper_limit = round(float(fsolve(g2,x0)),4)*100\n",
    "\n",
    "print(\"Model Accuracy (95% Confidence Interval):\",[lower_limit,upper_limit])"
   ]
  }
 ],
 "metadata": {
  "kernelspec": {
   "display_name": "Python 3 (ipykernel)",
   "language": "python",
   "name": "python3"
  },
  "language_info": {
   "codemirror_mode": {
    "name": "ipython",
    "version": 3
   },
   "file_extension": ".py",
   "mimetype": "text/x-python",
   "name": "python",
   "nbconvert_exporter": "python",
   "pygments_lexer": "ipython3",
   "version": "3.9.7"
  }
 },
 "nbformat": 4,
 "nbformat_minor": 5
}
