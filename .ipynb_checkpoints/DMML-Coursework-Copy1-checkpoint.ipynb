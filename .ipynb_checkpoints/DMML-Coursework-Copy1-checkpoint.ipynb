{
 "cells": [
  {
   "cell_type": "code",
   "execution_count": 1,
   "id": "bab6b366",
   "metadata": {},
   "outputs": [],
   "source": [
    "%reset -f\n",
    "import pandas as pd\n",
    "import numpy as np\n",
    "import seaborn as sns\n",
    "import matplotlib.pyplot as plt\n",
    "from sklearn.preprocessing import OneHotEncoder\n",
    "from sklearn.feature_selection import SelectKBest, f_classif\n",
    "from sklearn.model_selection import train_test_split, cross_val_score\n",
    "# from imblearn.over_sampling import SMOTE\n",
    "from sklearn.linear_model import LogisticRegressionCV\n",
    "from sklearn.ensemble import RandomForestClassifier\n",
    "# from xgboost import XGBClassifier\n",
    "\n",
    "from sklearn.metrics import confusion_matrix,classification_report,plot_confusion_matrix\n",
    "from sklearn import svm, tree\n",
    "from sklearn.tree import DecisionTreeClassifier\n",
    "from sklearn.ensemble import RandomForestClassifier\n",
    "from sklearn.naive_bayes import GaussianNB\n",
    "import joblib"
   ]
  },
  {
   "cell_type": "code",
   "execution_count": 2,
   "id": "ceec11ea",
   "metadata": {
    "scrolled": false
   },
   "outputs": [
    {
     "data": {
      "text/html": [
       "<div>\n",
       "<style scoped>\n",
       "    .dataframe tbody tr th:only-of-type {\n",
       "        vertical-align: middle;\n",
       "    }\n",
       "\n",
       "    .dataframe tbody tr th {\n",
       "        vertical-align: top;\n",
       "    }\n",
       "\n",
       "    .dataframe thead th {\n",
       "        text-align: right;\n",
       "    }\n",
       "</style>\n",
       "<table border=\"1\" class=\"dataframe\">\n",
       "  <thead>\n",
       "    <tr style=\"text-align: right;\">\n",
       "      <th></th>\n",
       "      <th>Gender</th>\n",
       "      <th>Age</th>\n",
       "      <th>Hypertension</th>\n",
       "      <th>Heart_Disease</th>\n",
       "      <th>Ever_Married</th>\n",
       "      <th>Work_Type</th>\n",
       "      <th>Residence_type</th>\n",
       "      <th>AVG_Glucose_Level</th>\n",
       "      <th>BMI</th>\n",
       "      <th>Smoking Status</th>\n",
       "      <th>Age_Interval</th>\n",
       "      <th>Weight Condition</th>\n",
       "      <th>Glucose Condition</th>\n",
       "      <th>Age-Group</th>\n",
       "      <th>is_Urban</th>\n",
       "      <th>Stroke_Status</th>\n",
       "    </tr>\n",
       "  </thead>\n",
       "  <tbody>\n",
       "    <tr>\n",
       "      <th>0</th>\n",
       "      <td>Male</td>\n",
       "      <td>35.0</td>\n",
       "      <td>0</td>\n",
       "      <td>0</td>\n",
       "      <td>0</td>\n",
       "      <td>Private</td>\n",
       "      <td>Rural</td>\n",
       "      <td>85.37</td>\n",
       "      <td>33.0</td>\n",
       "      <td>never smoked</td>\n",
       "      <td>30-40</td>\n",
       "      <td>Obese</td>\n",
       "      <td>Normal</td>\n",
       "      <td>4</td>\n",
       "      <td>0</td>\n",
       "      <td>0</td>\n",
       "    </tr>\n",
       "    <tr>\n",
       "      <th>1</th>\n",
       "      <td>Male</td>\n",
       "      <td>34.0</td>\n",
       "      <td>0</td>\n",
       "      <td>0</td>\n",
       "      <td>1</td>\n",
       "      <td>Private</td>\n",
       "      <td>Urban</td>\n",
       "      <td>80.81</td>\n",
       "      <td>33.2</td>\n",
       "      <td>never smoked</td>\n",
       "      <td>30-40</td>\n",
       "      <td>Obese</td>\n",
       "      <td>Normal</td>\n",
       "      <td>4</td>\n",
       "      <td>1</td>\n",
       "      <td>0</td>\n",
       "    </tr>\n",
       "    <tr>\n",
       "      <th>2</th>\n",
       "      <td>Female</td>\n",
       "      <td>31.0</td>\n",
       "      <td>0</td>\n",
       "      <td>0</td>\n",
       "      <td>1</td>\n",
       "      <td>Private</td>\n",
       "      <td>Urban</td>\n",
       "      <td>98.99</td>\n",
       "      <td>31.2</td>\n",
       "      <td>never smoked</td>\n",
       "      <td>30-40</td>\n",
       "      <td>Obese</td>\n",
       "      <td>Normal</td>\n",
       "      <td>4</td>\n",
       "      <td>1</td>\n",
       "      <td>0</td>\n",
       "    </tr>\n",
       "  </tbody>\n",
       "</table>\n",
       "</div>"
      ],
      "text/plain": [
       "   Gender   Age  Hypertension  Heart_Disease  Ever_Married Work_Type  \\\n",
       "0    Male  35.0             0              0             0   Private   \n",
       "1    Male  34.0             0              0             1   Private   \n",
       "2  Female  31.0             0              0             1   Private   \n",
       "\n",
       "  Residence_type  AVG_Glucose_Level   BMI Smoking Status Age_Interval  \\\n",
       "0          Rural              85.37  33.0   never smoked        30-40   \n",
       "1          Urban              80.81  33.2   never smoked        30-40   \n",
       "2          Urban              98.99  31.2   never smoked        30-40   \n",
       "\n",
       "  Weight Condition Glucose Condition  Age-Group  is_Urban  Stroke_Status  \n",
       "0            Obese            Normal          4         0              0  \n",
       "1            Obese            Normal          4         1              0  \n",
       "2            Obese            Normal          4         1              0  "
      ]
     },
     "execution_count": 2,
     "metadata": {},
     "output_type": "execute_result"
    }
   ],
   "source": [
    "df = pd.read_excel('DataFromPowerBI.xlsx')\n",
    "df.head(3)"
   ]
  },
  {
   "cell_type": "code",
   "execution_count": 3,
   "id": "c7671476",
   "metadata": {},
   "outputs": [],
   "source": [
    "df = df.drop(['Age','Age_Interval','BMI','AVG_Glucose_Level','Residence_type','Gender'],axis=1)"
   ]
  },
  {
   "cell_type": "code",
   "execution_count": 4,
   "id": "6d040869",
   "metadata": {
    "scrolled": false
   },
   "outputs": [
    {
     "name": "stdout",
     "output_type": "stream",
     "text": [
      "<class 'pandas.core.frame.DataFrame'>\n",
      "RangeIndex: 5109 entries, 0 to 5108\n",
      "Data columns (total 10 columns):\n",
      " #   Column             Non-Null Count  Dtype \n",
      "---  ------             --------------  ----- \n",
      " 0   Hypertension       5109 non-null   int64 \n",
      " 1   Heart_Disease      5109 non-null   int64 \n",
      " 2   Ever_Married       5109 non-null   int64 \n",
      " 3   Work_Type          5109 non-null   object\n",
      " 4   Smoking Status     5109 non-null   object\n",
      " 5   Weight Condition   5109 non-null   object\n",
      " 6   Glucose Condition  5109 non-null   object\n",
      " 7   Age-Group          5109 non-null   int64 \n",
      " 8   is_Urban           5109 non-null   int64 \n",
      " 9   Stroke_Status      5109 non-null   int64 \n",
      "dtypes: int64(6), object(4)\n",
      "memory usage: 399.3+ KB\n"
     ]
    }
   ],
   "source": [
    "df.info()"
   ]
  },
  {
   "cell_type": "code",
   "execution_count": 5,
   "id": "bad97c8a",
   "metadata": {},
   "outputs": [
    {
     "data": {
      "text/html": [
       "<div>\n",
       "<style scoped>\n",
       "    .dataframe tbody tr th:only-of-type {\n",
       "        vertical-align: middle;\n",
       "    }\n",
       "\n",
       "    .dataframe tbody tr th {\n",
       "        vertical-align: top;\n",
       "    }\n",
       "\n",
       "    .dataframe thead th {\n",
       "        text-align: right;\n",
       "    }\n",
       "</style>\n",
       "<table border=\"1\" class=\"dataframe\">\n",
       "  <thead>\n",
       "    <tr style=\"text-align: right;\">\n",
       "      <th></th>\n",
       "      <th>count</th>\n",
       "      <th>mean</th>\n",
       "      <th>std</th>\n",
       "      <th>min</th>\n",
       "      <th>25%</th>\n",
       "      <th>50%</th>\n",
       "      <th>75%</th>\n",
       "      <th>max</th>\n",
       "    </tr>\n",
       "  </thead>\n",
       "  <tbody>\n",
       "    <tr>\n",
       "      <th>Hypertension</th>\n",
       "      <td>5109.0</td>\n",
       "      <td>0.097475</td>\n",
       "      <td>0.296633</td>\n",
       "      <td>0.0</td>\n",
       "      <td>0.0</td>\n",
       "      <td>0.0</td>\n",
       "      <td>0.0</td>\n",
       "      <td>1.0</td>\n",
       "    </tr>\n",
       "    <tr>\n",
       "      <th>Heart_Disease</th>\n",
       "      <td>5109.0</td>\n",
       "      <td>0.054022</td>\n",
       "      <td>0.226084</td>\n",
       "      <td>0.0</td>\n",
       "      <td>0.0</td>\n",
       "      <td>0.0</td>\n",
       "      <td>0.0</td>\n",
       "      <td>1.0</td>\n",
       "    </tr>\n",
       "    <tr>\n",
       "      <th>Ever_Married</th>\n",
       "      <td>5109.0</td>\n",
       "      <td>0.656293</td>\n",
       "      <td>0.474991</td>\n",
       "      <td>0.0</td>\n",
       "      <td>0.0</td>\n",
       "      <td>1.0</td>\n",
       "      <td>1.0</td>\n",
       "      <td>1.0</td>\n",
       "    </tr>\n",
       "    <tr>\n",
       "      <th>Age-Group</th>\n",
       "      <td>5109.0</td>\n",
       "      <td>4.883735</td>\n",
       "      <td>2.264384</td>\n",
       "      <td>1.0</td>\n",
       "      <td>3.0</td>\n",
       "      <td>5.0</td>\n",
       "      <td>7.0</td>\n",
       "      <td>9.0</td>\n",
       "    </tr>\n",
       "    <tr>\n",
       "      <th>is_Urban</th>\n",
       "      <td>5109.0</td>\n",
       "      <td>0.508123</td>\n",
       "      <td>0.499983</td>\n",
       "      <td>0.0</td>\n",
       "      <td>0.0</td>\n",
       "      <td>1.0</td>\n",
       "      <td>1.0</td>\n",
       "      <td>1.0</td>\n",
       "    </tr>\n",
       "    <tr>\n",
       "      <th>Stroke_Status</th>\n",
       "      <td>5109.0</td>\n",
       "      <td>0.048738</td>\n",
       "      <td>0.215340</td>\n",
       "      <td>0.0</td>\n",
       "      <td>0.0</td>\n",
       "      <td>0.0</td>\n",
       "      <td>0.0</td>\n",
       "      <td>1.0</td>\n",
       "    </tr>\n",
       "  </tbody>\n",
       "</table>\n",
       "</div>"
      ],
      "text/plain": [
       "                count      mean       std  min  25%  50%  75%  max\n",
       "Hypertension   5109.0  0.097475  0.296633  0.0  0.0  0.0  0.0  1.0\n",
       "Heart_Disease  5109.0  0.054022  0.226084  0.0  0.0  0.0  0.0  1.0\n",
       "Ever_Married   5109.0  0.656293  0.474991  0.0  0.0  1.0  1.0  1.0\n",
       "Age-Group      5109.0  4.883735  2.264384  1.0  3.0  5.0  7.0  9.0\n",
       "is_Urban       5109.0  0.508123  0.499983  0.0  0.0  1.0  1.0  1.0\n",
       "Stroke_Status  5109.0  0.048738  0.215340  0.0  0.0  0.0  0.0  1.0"
      ]
     },
     "execution_count": 5,
     "metadata": {},
     "output_type": "execute_result"
    }
   ],
   "source": [
    "df.describe().T"
   ]
  },
  {
   "cell_type": "code",
   "execution_count": 6,
   "id": "4e806404",
   "metadata": {
    "scrolled": false
   },
   "outputs": [
    {
     "data": {
      "text/html": [
       "<div>\n",
       "<style scoped>\n",
       "    .dataframe tbody tr th:only-of-type {\n",
       "        vertical-align: middle;\n",
       "    }\n",
       "\n",
       "    .dataframe tbody tr th {\n",
       "        vertical-align: top;\n",
       "    }\n",
       "\n",
       "    .dataframe thead th {\n",
       "        text-align: right;\n",
       "    }\n",
       "</style>\n",
       "<table border=\"1\" class=\"dataframe\">\n",
       "  <thead>\n",
       "    <tr style=\"text-align: right;\">\n",
       "      <th></th>\n",
       "      <th>count</th>\n",
       "      <th>unique</th>\n",
       "      <th>top</th>\n",
       "      <th>freq</th>\n",
       "    </tr>\n",
       "  </thead>\n",
       "  <tbody>\n",
       "    <tr>\n",
       "      <th>Work_Type</th>\n",
       "      <td>5109</td>\n",
       "      <td>5</td>\n",
       "      <td>Private</td>\n",
       "      <td>2924</td>\n",
       "    </tr>\n",
       "    <tr>\n",
       "      <th>Smoking Status</th>\n",
       "      <td>5109</td>\n",
       "      <td>4</td>\n",
       "      <td>never smoked</td>\n",
       "      <td>1892</td>\n",
       "    </tr>\n",
       "    <tr>\n",
       "      <th>Weight Condition</th>\n",
       "      <td>5109</td>\n",
       "      <td>5</td>\n",
       "      <td>Obese</td>\n",
       "      <td>1920</td>\n",
       "    </tr>\n",
       "    <tr>\n",
       "      <th>Glucose Condition</th>\n",
       "      <td>5109</td>\n",
       "      <td>3</td>\n",
       "      <td>Normal</td>\n",
       "      <td>3131</td>\n",
       "    </tr>\n",
       "  </tbody>\n",
       "</table>\n",
       "</div>"
      ],
      "text/plain": [
       "                  count unique           top  freq\n",
       "Work_Type          5109      5       Private  2924\n",
       "Smoking Status     5109      4  never smoked  1892\n",
       "Weight Condition   5109      5         Obese  1920\n",
       "Glucose Condition  5109      3        Normal  3131"
      ]
     },
     "execution_count": 6,
     "metadata": {},
     "output_type": "execute_result"
    }
   ],
   "source": [
    "df.describe(include = 'object').T"
   ]
  },
  {
   "cell_type": "code",
   "execution_count": 7,
   "id": "686c4095",
   "metadata": {
    "scrolled": true
   },
   "outputs": [
    {
     "data": {
      "text/plain": [
       "never smoked       1892\n",
       "Unknown            1544\n",
       "formerly smoked     884\n",
       "smokes              789\n",
       "Name: Smoking Status, dtype: int64"
      ]
     },
     "execution_count": 7,
     "metadata": {},
     "output_type": "execute_result"
    }
   ],
   "source": [
    "df['Smoking Status'].value_counts()"
   ]
  },
  {
   "cell_type": "code",
   "execution_count": 8,
   "id": "a5252842",
   "metadata": {
    "scrolled": true
   },
   "outputs": [
    {
     "data": {
      "text/plain": [
       "Obese          1920\n",
       "Overweight     1409\n",
       "Normal         1242\n",
       "Underweight     337\n",
       "Unknown         201\n",
       "Name: Weight Condition, dtype: int64"
      ]
     },
     "execution_count": 8,
     "metadata": {},
     "output_type": "execute_result"
    }
   ],
   "source": [
    "df['Weight Condition'].value_counts()"
   ]
  },
  {
   "cell_type": "markdown",
   "id": "7d263043",
   "metadata": {},
   "source": [
    "# Method 1: Remove rows containing missing values"
   ]
  },
  {
   "cell_type": "code",
   "execution_count": 9,
   "id": "1baac905",
   "metadata": {},
   "outputs": [],
   "source": [
    "mask = (df['Weight Condition'] =='Unknown') | (df['Smoking Status'] =='Unknown')\n",
    "df_method1 = df.drop(df[mask].index)"
   ]
  },
  {
   "cell_type": "code",
   "execution_count": 10,
   "id": "cb7fb322",
   "metadata": {
    "scrolled": false
   },
   "outputs": [],
   "source": [
    "cols=df_method1.select_dtypes(include=['object']).columns"
   ]
  },
  {
   "cell_type": "code",
   "execution_count": 11,
   "id": "56f411b2",
   "metadata": {
    "scrolled": true
   },
   "outputs": [
    {
     "data": {
      "text/html": [
       "<div>\n",
       "<style scoped>\n",
       "    .dataframe tbody tr th:only-of-type {\n",
       "        vertical-align: middle;\n",
       "    }\n",
       "\n",
       "    .dataframe tbody tr th {\n",
       "        vertical-align: top;\n",
       "    }\n",
       "\n",
       "    .dataframe thead th {\n",
       "        text-align: right;\n",
       "    }\n",
       "</style>\n",
       "<table border=\"1\" class=\"dataframe\">\n",
       "  <thead>\n",
       "    <tr style=\"text-align: right;\">\n",
       "      <th></th>\n",
       "      <th>Work_Type_Govt_job</th>\n",
       "      <th>Work_Type_Never_worked</th>\n",
       "      <th>Work_Type_Private</th>\n",
       "      <th>Work_Type_Self-employed</th>\n",
       "      <th>Work_Type_children</th>\n",
       "      <th>Smoking Status_formerly smoked</th>\n",
       "      <th>Smoking Status_never smoked</th>\n",
       "      <th>Smoking Status_smokes</th>\n",
       "      <th>Weight Condition_Normal</th>\n",
       "      <th>Weight Condition_Obese</th>\n",
       "      <th>...</th>\n",
       "      <th>Weight Condition_Underweight</th>\n",
       "      <th>Glucose Condition_Diabetes</th>\n",
       "      <th>Glucose Condition_Normal</th>\n",
       "      <th>Glucose Condition_Pre-Diabetes</th>\n",
       "      <th>Hypertension</th>\n",
       "      <th>Heart_Disease</th>\n",
       "      <th>Ever_Married</th>\n",
       "      <th>Age-Group</th>\n",
       "      <th>is_Urban</th>\n",
       "      <th>Stroke_Status</th>\n",
       "    </tr>\n",
       "  </thead>\n",
       "  <tbody>\n",
       "    <tr>\n",
       "      <th>0</th>\n",
       "      <td>0</td>\n",
       "      <td>0</td>\n",
       "      <td>1</td>\n",
       "      <td>0</td>\n",
       "      <td>0</td>\n",
       "      <td>0</td>\n",
       "      <td>1</td>\n",
       "      <td>0</td>\n",
       "      <td>0</td>\n",
       "      <td>1</td>\n",
       "      <td>...</td>\n",
       "      <td>0</td>\n",
       "      <td>0</td>\n",
       "      <td>1</td>\n",
       "      <td>0</td>\n",
       "      <td>0</td>\n",
       "      <td>0</td>\n",
       "      <td>0</td>\n",
       "      <td>4</td>\n",
       "      <td>0</td>\n",
       "      <td>0</td>\n",
       "    </tr>\n",
       "    <tr>\n",
       "      <th>1</th>\n",
       "      <td>0</td>\n",
       "      <td>0</td>\n",
       "      <td>1</td>\n",
       "      <td>0</td>\n",
       "      <td>0</td>\n",
       "      <td>0</td>\n",
       "      <td>1</td>\n",
       "      <td>0</td>\n",
       "      <td>0</td>\n",
       "      <td>1</td>\n",
       "      <td>...</td>\n",
       "      <td>0</td>\n",
       "      <td>0</td>\n",
       "      <td>1</td>\n",
       "      <td>0</td>\n",
       "      <td>0</td>\n",
       "      <td>0</td>\n",
       "      <td>1</td>\n",
       "      <td>4</td>\n",
       "      <td>1</td>\n",
       "      <td>0</td>\n",
       "    </tr>\n",
       "    <tr>\n",
       "      <th>2</th>\n",
       "      <td>0</td>\n",
       "      <td>0</td>\n",
       "      <td>1</td>\n",
       "      <td>0</td>\n",
       "      <td>0</td>\n",
       "      <td>0</td>\n",
       "      <td>1</td>\n",
       "      <td>0</td>\n",
       "      <td>0</td>\n",
       "      <td>1</td>\n",
       "      <td>...</td>\n",
       "      <td>0</td>\n",
       "      <td>0</td>\n",
       "      <td>1</td>\n",
       "      <td>0</td>\n",
       "      <td>0</td>\n",
       "      <td>0</td>\n",
       "      <td>1</td>\n",
       "      <td>4</td>\n",
       "      <td>1</td>\n",
       "      <td>0</td>\n",
       "    </tr>\n",
       "    <tr>\n",
       "      <th>3</th>\n",
       "      <td>0</td>\n",
       "      <td>0</td>\n",
       "      <td>1</td>\n",
       "      <td>0</td>\n",
       "      <td>0</td>\n",
       "      <td>0</td>\n",
       "      <td>1</td>\n",
       "      <td>0</td>\n",
       "      <td>0</td>\n",
       "      <td>1</td>\n",
       "      <td>...</td>\n",
       "      <td>0</td>\n",
       "      <td>0</td>\n",
       "      <td>1</td>\n",
       "      <td>0</td>\n",
       "      <td>0</td>\n",
       "      <td>0</td>\n",
       "      <td>1</td>\n",
       "      <td>4</td>\n",
       "      <td>0</td>\n",
       "      <td>0</td>\n",
       "    </tr>\n",
       "    <tr>\n",
       "      <th>4</th>\n",
       "      <td>0</td>\n",
       "      <td>0</td>\n",
       "      <td>1</td>\n",
       "      <td>0</td>\n",
       "      <td>0</td>\n",
       "      <td>0</td>\n",
       "      <td>1</td>\n",
       "      <td>0</td>\n",
       "      <td>0</td>\n",
       "      <td>1</td>\n",
       "      <td>...</td>\n",
       "      <td>0</td>\n",
       "      <td>0</td>\n",
       "      <td>1</td>\n",
       "      <td>0</td>\n",
       "      <td>0</td>\n",
       "      <td>0</td>\n",
       "      <td>1</td>\n",
       "      <td>4</td>\n",
       "      <td>1</td>\n",
       "      <td>0</td>\n",
       "    </tr>\n",
       "  </tbody>\n",
       "</table>\n",
       "<p>5 rows × 21 columns</p>\n",
       "</div>"
      ],
      "text/plain": [
       "   Work_Type_Govt_job  Work_Type_Never_worked  Work_Type_Private  \\\n",
       "0                   0                       0                  1   \n",
       "1                   0                       0                  1   \n",
       "2                   0                       0                  1   \n",
       "3                   0                       0                  1   \n",
       "4                   0                       0                  1   \n",
       "\n",
       "   Work_Type_Self-employed  Work_Type_children  \\\n",
       "0                        0                   0   \n",
       "1                        0                   0   \n",
       "2                        0                   0   \n",
       "3                        0                   0   \n",
       "4                        0                   0   \n",
       "\n",
       "   Smoking Status_formerly smoked  Smoking Status_never smoked  \\\n",
       "0                               0                            1   \n",
       "1                               0                            1   \n",
       "2                               0                            1   \n",
       "3                               0                            1   \n",
       "4                               0                            1   \n",
       "\n",
       "   Smoking Status_smokes  Weight Condition_Normal  Weight Condition_Obese  \\\n",
       "0                      0                        0                       1   \n",
       "1                      0                        0                       1   \n",
       "2                      0                        0                       1   \n",
       "3                      0                        0                       1   \n",
       "4                      0                        0                       1   \n",
       "\n",
       "   ...  Weight Condition_Underweight  Glucose Condition_Diabetes  \\\n",
       "0  ...                             0                           0   \n",
       "1  ...                             0                           0   \n",
       "2  ...                             0                           0   \n",
       "3  ...                             0                           0   \n",
       "4  ...                             0                           0   \n",
       "\n",
       "   Glucose Condition_Normal  Glucose Condition_Pre-Diabetes  Hypertension  \\\n",
       "0                         1                               0             0   \n",
       "1                         1                               0             0   \n",
       "2                         1                               0             0   \n",
       "3                         1                               0             0   \n",
       "4                         1                               0             0   \n",
       "\n",
       "   Heart_Disease  Ever_Married  Age-Group  is_Urban  Stroke_Status  \n",
       "0              0             0          4         0              0  \n",
       "1              0             1          4         1              0  \n",
       "2              0             1          4         1              0  \n",
       "3              0             1          4         0              0  \n",
       "4              0             1          4         1              0  \n",
       "\n",
       "[5 rows x 21 columns]"
      ]
     },
     "execution_count": 11,
     "metadata": {},
     "output_type": "execute_result"
    }
   ],
   "source": [
    "Encoded_df = pd.get_dummies(df_method1[cols])\n",
    "cols=df_method1.select_dtypes(include=['int']).columns\n",
    "Encoded_df = pd.concat([Encoded_df, df_method1[cols]], axis=1)\n",
    "Encoded_df.head()"
   ]
  },
  {
   "cell_type": "markdown",
   "id": "5c6572fc",
   "metadata": {},
   "source": [
    "To avoid dummy encoding trap, the redundant columns should be dropped:"
   ]
  },
  {
   "cell_type": "code",
   "execution_count": 12,
   "id": "ada7a212",
   "metadata": {},
   "outputs": [
    {
     "data": {
      "text/plain": [
       "Index(['Work_Type_Govt_job', 'Work_Type_Never_worked', 'Work_Type_Private',\n",
       "       'Work_Type_Self-employed', 'Work_Type_children',\n",
       "       'Smoking Status_formerly smoked', 'Smoking Status_never smoked',\n",
       "       'Smoking Status_smokes', 'Weight Condition_Normal',\n",
       "       'Weight Condition_Obese', 'Weight Condition_Overweight',\n",
       "       'Weight Condition_Underweight', 'Glucose Condition_Diabetes',\n",
       "       'Glucose Condition_Normal', 'Glucose Condition_Pre-Diabetes',\n",
       "       'Hypertension', 'Heart_Disease', 'Ever_Married', 'Age-Group',\n",
       "       'is_Urban', 'Stroke_Status'],\n",
       "      dtype='object')"
      ]
     },
     "execution_count": 12,
     "metadata": {},
     "output_type": "execute_result"
    }
   ],
   "source": [
    "Encoded_df.columns"
   ]
  },
  {
   "cell_type": "code",
   "execution_count": 13,
   "id": "546a75bc",
   "metadata": {},
   "outputs": [],
   "source": [
    "Encoded_df = Encoded_df.drop(['Work_Type_Never_worked','Smoking Status_never smoked','Weight Condition_Normal','Glucose Condition_Normal'],axis=1)"
   ]
  },
  {
   "cell_type": "code",
   "execution_count": 14,
   "id": "51334534",
   "metadata": {
    "scrolled": false
   },
   "outputs": [
    {
     "data": {
      "image/png": "[encoded data removed]",
      "text/plain": [
       "<Figure size 720x504 with 2 Axes>"
      ]
     },
     "metadata": {
      "needs_background": "light"
     },
     "output_type": "display_data"
    }
   ],
   "source": [
    "plt.figure(figsize=(10,7))\n",
    "sns.heatmap(Encoded_df.corr(),annot=True,fmt='.2');"
   ]
  },
  {
   "cell_type": "code",
   "execution_count": 15,
   "id": "315e1e86",
   "metadata": {},
   "outputs": [
    {
     "data": {
      "text/plain": [
       "Work_Type_children               -0.033520\n",
       "Glucose Condition_Pre-Diabetes   -0.027548\n",
       "Work_Type_Private                -0.018073\n",
       "Weight Condition_Underweight     -0.017356\n",
       "Work_Type_Govt_job               -0.014703\n",
       "Smoking Status_smokes             0.000851\n",
       "is_Urban                          0.005999\n",
       "Weight Condition_Obese            0.013741\n",
       "Weight Condition_Overweight       0.018407\n",
       "Smoking Status_formerly smoked    0.039795\n",
       "Work_Type_Self-employed           0.050497\n",
       "Ever_Married                      0.071603\n",
       "Glucose Condition_Diabetes        0.126921\n",
       "Heart_Disease                     0.138538\n",
       "Hypertension                      0.143626\n",
       "Age-Group                         0.238347\n",
       "Stroke_Status                     1.000000\n",
       "Name: Stroke_Status, dtype: float64"
      ]
     },
     "execution_count": 15,
     "metadata": {},
     "output_type": "execute_result"
    }
   ],
   "source": [
    "Encoded_df.corr()['Stroke_Status'].sort_values()"
   ]
  },
  {
   "cell_type": "code",
   "execution_count": 16,
   "id": "a1d520b0",
   "metadata": {
    "scrolled": false
   },
   "outputs": [
    {
     "data": {
      "text/html": [
       "<div>\n",
       "<style scoped>\n",
       "    .dataframe tbody tr th:only-of-type {\n",
       "        vertical-align: middle;\n",
       "    }\n",
       "\n",
       "    .dataframe tbody tr th {\n",
       "        vertical-align: top;\n",
       "    }\n",
       "\n",
       "    .dataframe thead th {\n",
       "        text-align: right;\n",
       "    }\n",
       "</style>\n",
       "<table border=\"1\" class=\"dataframe\">\n",
       "  <thead>\n",
       "    <tr style=\"text-align: right;\">\n",
       "      <th></th>\n",
       "      <th>Attribute</th>\n",
       "      <th>Score</th>\n",
       "    </tr>\n",
       "  </thead>\n",
       "  <tbody>\n",
       "    <tr>\n",
       "      <th>14</th>\n",
       "      <td>Age-Group</td>\n",
       "      <td>206.170669</td>\n",
       "    </tr>\n",
       "    <tr>\n",
       "      <th>11</th>\n",
       "      <td>Hypertension</td>\n",
       "      <td>72.098180</td>\n",
       "    </tr>\n",
       "    <tr>\n",
       "      <th>12</th>\n",
       "      <td>Heart_Disease</td>\n",
       "      <td>66.982898</td>\n",
       "    </tr>\n",
       "    <tr>\n",
       "      <th>9</th>\n",
       "      <td>Glucose Condition_Diabetes</td>\n",
       "      <td>56.043558</td>\n",
       "    </tr>\n",
       "    <tr>\n",
       "      <th>13</th>\n",
       "      <td>Ever_Married</td>\n",
       "      <td>17.639968</td>\n",
       "    </tr>\n",
       "    <tr>\n",
       "      <th>2</th>\n",
       "      <td>Work_Type_Self-employed</td>\n",
       "      <td>8.750669</td>\n",
       "    </tr>\n",
       "    <tr>\n",
       "      <th>4</th>\n",
       "      <td>Smoking Status_formerly smoked</td>\n",
       "      <td>5.429486</td>\n",
       "    </tr>\n",
       "    <tr>\n",
       "      <th>3</th>\n",
       "      <td>Work_Type_children</td>\n",
       "      <td>3.850441</td>\n",
       "    </tr>\n",
       "    <tr>\n",
       "      <th>10</th>\n",
       "      <td>Glucose Condition_Pre-Diabetes</td>\n",
       "      <td>2.599751</td>\n",
       "    </tr>\n",
       "    <tr>\n",
       "      <th>7</th>\n",
       "      <td>Weight Condition_Overweight</td>\n",
       "      <td>1.160213</td>\n",
       "    </tr>\n",
       "    <tr>\n",
       "      <th>1</th>\n",
       "      <td>Work_Type_Private</td>\n",
       "      <td>1.118401</td>\n",
       "    </tr>\n",
       "    <tr>\n",
       "      <th>8</th>\n",
       "      <td>Weight Condition_Underweight</td>\n",
       "      <td>1.031418</td>\n",
       "    </tr>\n",
       "    <tr>\n",
       "      <th>0</th>\n",
       "      <td>Work_Type_Govt_job</td>\n",
       "      <td>0.740113</td>\n",
       "    </tr>\n",
       "    <tr>\n",
       "      <th>6</th>\n",
       "      <td>Weight Condition_Obese</td>\n",
       "      <td>0.646467</td>\n",
       "    </tr>\n",
       "    <tr>\n",
       "      <th>15</th>\n",
       "      <td>is_Urban</td>\n",
       "      <td>0.123188</td>\n",
       "    </tr>\n",
       "    <tr>\n",
       "      <th>5</th>\n",
       "      <td>Smoking Status_smokes</td>\n",
       "      <td>0.002477</td>\n",
       "    </tr>\n",
       "  </tbody>\n",
       "</table>\n",
       "</div>"
      ],
      "text/plain": [
       "                         Attribute       Score\n",
       "14                       Age-Group  206.170669\n",
       "11                    Hypertension   72.098180\n",
       "12                   Heart_Disease   66.982898\n",
       "9       Glucose Condition_Diabetes   56.043558\n",
       "13                    Ever_Married   17.639968\n",
       "2          Work_Type_Self-employed    8.750669\n",
       "4   Smoking Status_formerly smoked    5.429486\n",
       "3               Work_Type_children    3.850441\n",
       "10  Glucose Condition_Pre-Diabetes    2.599751\n",
       "7      Weight Condition_Overweight    1.160213\n",
       "1                Work_Type_Private    1.118401\n",
       "8     Weight Condition_Underweight    1.031418\n",
       "0               Work_Type_Govt_job    0.740113\n",
       "6           Weight Condition_Obese    0.646467\n",
       "15                        is_Urban    0.123188\n",
       "5            Smoking Status_smokes    0.002477"
      ]
     },
     "execution_count": 16,
     "metadata": {},
     "output_type": "execute_result"
    }
   ],
   "source": [
    "classifier = SelectKBest(score_func=f_classif,k=5)\n",
    "fits = classifier.fit(Encoded_df.drop('Stroke_Status',axis=1),Encoded_df['Stroke_Status'])\n",
    "x=pd.DataFrame(fits.scores_)\n",
    "columns = pd.DataFrame(Encoded_df.drop('Stroke_Status',axis=1).columns)\n",
    "fscores = pd.concat([columns,x],axis=1)\n",
    "fscores.columns = ['Attribute','Score']\n",
    "fscores.sort_values(by='Score',ascending=False)"
   ]
  },
  {
   "cell_type": "code",
   "execution_count": 17,
   "id": "9420af61",
   "metadata": {},
   "outputs": [],
   "source": [
    "# train_x,test_x,train_y,test_y=train_test_split(df[cols],df['stroke'],random_state=1255,test_size=0.25)\n",
    "# #Splitting data\n"
   ]
  },
  {
   "cell_type": "code",
   "execution_count": 18,
   "id": "f18f2381",
   "metadata": {},
   "outputs": [],
   "source": [
    "# smote=SMOTE()\n",
    "# train_x,train_y=smote.fit_resample(train_x,train_y)\n",
    "# test_x,test_y=smote.fit_resample(test_x,test_y)"
   ]
  },
  {
   "cell_type": "code",
   "execution_count": 19,
   "id": "83eba1e5",
   "metadata": {},
   "outputs": [],
   "source": [
    "# xgc=XGBClassifier(objective='binary:logistic',n_estimators=100000,max_depth=5,learning_rate=0.001,n_jobs=-1)\n",
    "# xgc.fit(train_x,train_y)\n",
    "# predict=xgc.predict(test_x)\n",
    "# print('Accuracy --> ',accuracy_score(predict,test_y))\n",
    "# print('F1 Score --> ',f1_score(predict,test_y))\n",
    "# print('Classification Report  --> \\n',classification_report(predict,test_y))"
   ]
  },
  {
   "cell_type": "markdown",
   "id": "ef469de0",
   "metadata": {},
   "source": [
    "It seemed like both BMI and Age were positively correlated, though the association was not strong.\n",
    "Older patient was more likely to suffer a stroke than a younger patient.\n",
    "Higher BMI does not increase the stroke risk.\n",
    "Diabetes is one of the risk factors for stroke occurrence and prediabetes patients have an increased risk of stroke.\n",
    "Higher proportion of patients who suffered from hypertension or heart disease experienced a stroke, all else being equal.\n",
    "Regardless of patient’s gender, and where they stayed, they have the same likelihood to experience stroke\n",
    "Work type variable was highly associated with age.\n",
    "Marital status variable was highly associated with age"
   ]
  },
  {
   "cell_type": "markdown",
   "id": "ffb3245b",
   "metadata": {},
   "source": [
    "**Defining  Metrics**"
   ]
  },
  {
   "cell_type": "code",
   "execution_count": 20,
   "id": "5adfb4c6",
   "metadata": {},
   "outputs": [],
   "source": [
    "# Defining function for calculating Metrics\n",
    "\n",
    "def calculate_metrics(model_name,y_test, y_pred):\n",
    "    cm = confusion_matrix(y_test,y_pred)\n",
    "    TP = cm[0,0]\n",
    "    FP = cm[0,1]\n",
    "    FN = cm[1,0]\n",
    "    TN = cm[1,1]\n",
    "    \n",
    "    Sensitivity      = round(TP/(TP+FN),2)\n",
    "    Specificity      = round(TN/(TN+FP),2)\n",
    "    Precision        = round(TP/(TP+FP),2)\n",
    "    Accuracy         = round((TP+TN)/(TP+FP+FN+TN),2)\n",
    "    F1               = (2*Sensitivity*Precision)/(Sensitivity+Precision)\n",
    "             \n",
    "    return pd.DataFrame({f'{model_name}':{\n",
    "        'Sensitivity': Sensitivity,\n",
    "        'Specificity': Specificity,\n",
    "        'Precision'  : Precision,\n",
    "        'Accuracy'   : Accuracy,\n",
    "        'F1'         : F1\n",
    "    }})"
   ]
  },
  {
   "cell_type": "markdown",
   "id": "5f7d45f4",
   "metadata": {},
   "source": [
    "**Defining Train and Test Splits**"
   ]
  },
  {
   "cell_type": "code",
   "execution_count": 21,
   "id": "9b1db523",
   "metadata": {},
   "outputs": [],
   "source": [
    "X = Encoded_df.iloc[:,0:-1]\n",
    "y = Encoded_df.iloc[:,-1]\n",
    "X_train,X_test,y_train,y_test  = train_test_split(X, y, test_size=0.50 ,random_state=1)"
   ]
  },
  {
   "cell_type": "markdown",
   "id": "277da177",
   "metadata": {},
   "source": [
    "**1) Logistic Regression with Cross-Validation**"
   ]
  },
  {
   "cell_type": "code",
   "execution_count": 22,
   "id": "444ca1f6",
   "metadata": {
    "scrolled": false
   },
   "outputs": [
    {
     "data": {
      "image/png": "[encoded data removed]",
      "text/plain": [
       "<Figure size 720x288 with 1 Axes>"
      ]
     },
     "metadata": {
      "needs_background": "light"
     },
     "output_type": "display_data"
    }
   ],
   "source": [
    "Logistic_CV_model = LogisticRegressionCV(max_iter=5000)\n",
    "Logistic_CV_model.fit(X_train,y_train)\n",
    "coefs = pd.Series(index=X.columns,data=Logistic_CV_model.coef_[0])\n",
    "coefs = coefs.sort_values()\n",
    "plt.figure(figsize=(10,4))\n",
    "sns.barplot(x=coefs.index,y=coefs.values,palette='coolwarm')\n",
    "plt.xticks(rotation=90);"
   ]
  },
  {
   "cell_type": "markdown",
   "id": "417ed60b",
   "metadata": {},
   "source": [
    "BONUS: CHECK CONDITION BOUNDARY FOR POSITIVE EFFECT ON STROKE"
   ]
  },
  {
   "cell_type": "code",
   "execution_count": 23,
   "id": "e320214d",
   "metadata": {},
   "outputs": [
    {
     "data": {
      "image/png": "[encoded data removed]",
      "text/plain": [
       "<Figure size 432x288 with 2 Axes>"
      ]
     },
     "metadata": {
      "needs_background": "light"
     },
     "output_type": "display_data"
    }
   ],
   "source": [
    "y_pred = Logistic_CV_model.predict(X_test)\n",
    "plot_confusion_matrix(Logistic_CV_model,X_test,y_test, normalize = 'all');"
   ]
  },
  {
   "cell_type": "code",
   "execution_count": 24,
   "id": "14e85cfd",
   "metadata": {},
   "outputs": [
    {
     "data": {
      "text/plain": [
       "0.9474451434709221"
      ]
     },
     "execution_count": 24,
     "metadata": {},
     "output_type": "execute_result"
    }
   ],
   "source": [
    "cross_val_score(Logistic_CV_model, X, y, cv=10).mean()"
   ]
  },
  {
   "cell_type": "code",
   "execution_count": 25,
   "id": "3cd72bdd",
   "metadata": {},
   "outputs": [
    {
     "data": {
      "text/html": [
       "<div>\n",
       "<style scoped>\n",
       "    .dataframe tbody tr th:only-of-type {\n",
       "        vertical-align: middle;\n",
       "    }\n",
       "\n",
       "    .dataframe tbody tr th {\n",
       "        vertical-align: top;\n",
       "    }\n",
       "\n",
       "    .dataframe thead th {\n",
       "        text-align: right;\n",
       "    }\n",
       "</style>\n",
       "<table border=\"1\" class=\"dataframe\">\n",
       "  <thead>\n",
       "    <tr style=\"text-align: right;\">\n",
       "      <th></th>\n",
       "      <th>Logistic Regression</th>\n",
       "    </tr>\n",
       "  </thead>\n",
       "  <tbody>\n",
       "    <tr>\n",
       "      <th>Accuracy</th>\n",
       "      <td>0.950000</td>\n",
       "    </tr>\n",
       "    <tr>\n",
       "      <th>F1</th>\n",
       "      <td>0.974359</td>\n",
       "    </tr>\n",
       "    <tr>\n",
       "      <th>Precision</th>\n",
       "      <td>1.000000</td>\n",
       "    </tr>\n",
       "    <tr>\n",
       "      <th>Sensitivity</th>\n",
       "      <td>0.950000</td>\n",
       "    </tr>\n",
       "    <tr>\n",
       "      <th>Specificity</th>\n",
       "      <td>0.170000</td>\n",
       "    </tr>\n",
       "  </tbody>\n",
       "</table>\n",
       "</div>"
      ],
      "text/plain": [
       "             Logistic Regression\n",
       "Accuracy                0.950000\n",
       "F1                      0.974359\n",
       "Precision               1.000000\n",
       "Sensitivity             0.950000\n",
       "Specificity             0.170000"
      ]
     },
     "execution_count": 25,
     "metadata": {},
     "output_type": "execute_result"
    }
   ],
   "source": [
    "df_metrics_method_1 = calculate_metrics(\"Logistic Regression\",y_test, y_pred)\n",
    "df_metrics_method_1"
   ]
  },
  {
   "cell_type": "markdown",
   "id": "e26f0dfb",
   "metadata": {},
   "source": [
    "**-----------------------------------------------------------------------------------------------------------------------------------------------------------------------------------**"
   ]
  },
  {
   "cell_type": "markdown",
   "id": "a8459f7f",
   "metadata": {},
   "source": [
    "**2) Support Vector Machine**"
   ]
  },
  {
   "cell_type": "code",
   "execution_count": 26,
   "id": "eeacbb01",
   "metadata": {
    "scrolled": true
   },
   "outputs": [
    {
     "data": {
      "image/png": "[encoded data removed]",
      "text/plain": [
       "<Figure size 432x288 with 2 Axes>"
      ]
     },
     "metadata": {
      "needs_background": "light"
     },
     "output_type": "display_data"
    }
   ],
   "source": [
    "svm_model = svm.SVC(kernel='linear')\n",
    "svm_model.fit(X_train, y_train)\n",
    "y_pred = svm_model.predict(X_test)\n",
    "plot_confusion_matrix(svm_model,X_test,y_test, normalize='all');"
   ]
  },
  {
   "cell_type": "code",
   "execution_count": 27,
   "id": "49d1df67",
   "metadata": {},
   "outputs": [
    {
     "data": {
      "text/plain": [
       "0.9474451434709221"
      ]
     },
     "execution_count": 27,
     "metadata": {},
     "output_type": "execute_result"
    }
   ],
   "source": [
    "cross_val_score(svm_model, X, y, cv=10).mean()"
   ]
  },
  {
   "cell_type": "code",
   "execution_count": 28,
   "id": "42e4d511",
   "metadata": {},
   "outputs": [
    {
     "name": "stderr",
     "output_type": "stream",
     "text": [
      "C:\\Users\\Admin\\AppData\\Local\\Temp/ipykernel_6116/313925009.py:11: RuntimeWarning: invalid value encountered in longlong_scalars\n",
      "  Specificity      = round(TN/(TN+FP),2)\n"
     ]
    },
    {
     "data": {
      "text/html": [
       "<div>\n",
       "<style scoped>\n",
       "    .dataframe tbody tr th:only-of-type {\n",
       "        vertical-align: middle;\n",
       "    }\n",
       "\n",
       "    .dataframe tbody tr th {\n",
       "        vertical-align: top;\n",
       "    }\n",
       "\n",
       "    .dataframe thead th {\n",
       "        text-align: right;\n",
       "    }\n",
       "</style>\n",
       "<table border=\"1\" class=\"dataframe\">\n",
       "  <thead>\n",
       "    <tr style=\"text-align: right;\">\n",
       "      <th></th>\n",
       "      <th>Logistic Regression</th>\n",
       "      <th>SVM</th>\n",
       "    </tr>\n",
       "  </thead>\n",
       "  <tbody>\n",
       "    <tr>\n",
       "      <th>Accuracy</th>\n",
       "      <td>0.950000</td>\n",
       "      <td>0.950000</td>\n",
       "    </tr>\n",
       "    <tr>\n",
       "      <th>F1</th>\n",
       "      <td>0.974359</td>\n",
       "      <td>0.974359</td>\n",
       "    </tr>\n",
       "    <tr>\n",
       "      <th>Precision</th>\n",
       "      <td>1.000000</td>\n",
       "      <td>1.000000</td>\n",
       "    </tr>\n",
       "    <tr>\n",
       "      <th>Sensitivity</th>\n",
       "      <td>0.950000</td>\n",
       "      <td>0.950000</td>\n",
       "    </tr>\n",
       "    <tr>\n",
       "      <th>Specificity</th>\n",
       "      <td>0.170000</td>\n",
       "      <td>NaN</td>\n",
       "    </tr>\n",
       "  </tbody>\n",
       "</table>\n",
       "</div>"
      ],
      "text/plain": [
       "             Logistic Regression       SVM\n",
       "Accuracy                0.950000  0.950000\n",
       "F1                      0.974359  0.974359\n",
       "Precision               1.000000  1.000000\n",
       "Sensitivity             0.950000  0.950000\n",
       "Specificity             0.170000       NaN"
      ]
     },
     "execution_count": 28,
     "metadata": {},
     "output_type": "execute_result"
    }
   ],
   "source": [
    "df_metrics_method_1 = df_metrics_method_1.merge(calculate_metrics(\"SVM\",y_test, y_pred), left_index=True, right_index=True)\n",
    "df_metrics_method_1"
   ]
  },
  {
   "cell_type": "markdown",
   "id": "ba08f800",
   "metadata": {},
   "source": [
    "**-----------------------------------------------------------------------------------------------------------------------------------------------------------------------------------**"
   ]
  },
  {
   "cell_type": "markdown",
   "id": "2c1bb8bc",
   "metadata": {},
   "source": [
    "**3) Decision Tree**"
   ]
  },
  {
   "cell_type": "code",
   "execution_count": 29,
   "id": "a0b99eec",
   "metadata": {
    "scrolled": false
   },
   "outputs": [
    {
     "data": {
      "image/png": "[encoded data removed]",
      "text/plain": [
       "<Figure size 432x288 with 2 Axes>"
      ]
     },
     "metadata": {
      "needs_background": "light"
     },
     "output_type": "display_data"
    }
   ],
   "source": [
    "DT_model = DecisionTreeClassifier()\n",
    "DT_model.fit(X_train,y_train)\n",
    "y_pred = DT_model.predict(X_test)\n",
    "plot_confusion_matrix(DT_model,X_test,y_test,normalize='all');"
   ]
  },
  {
   "cell_type": "code",
   "execution_count": 30,
   "id": "cc75a532",
   "metadata": {},
   "outputs": [
    {
     "data": {
      "text/plain": [
       "0.8552034849027331"
      ]
     },
     "execution_count": 30,
     "metadata": {},
     "output_type": "execute_result"
    }
   ],
   "source": [
    "cross_val_score(DT_model, X, y, cv=10).mean()"
   ]
  },
  {
   "cell_type": "code",
   "execution_count": 31,
   "id": "63390198",
   "metadata": {},
   "outputs": [
    {
     "data": {
      "text/html": [
       "<div>\n",
       "<style scoped>\n",
       "    .dataframe tbody tr th:only-of-type {\n",
       "        vertical-align: middle;\n",
       "    }\n",
       "\n",
       "    .dataframe tbody tr th {\n",
       "        vertical-align: top;\n",
       "    }\n",
       "\n",
       "    .dataframe thead th {\n",
       "        text-align: right;\n",
       "    }\n",
       "</style>\n",
       "<table border=\"1\" class=\"dataframe\">\n",
       "  <thead>\n",
       "    <tr style=\"text-align: right;\">\n",
       "      <th></th>\n",
       "      <th>Logistic Regression</th>\n",
       "      <th>SVM</th>\n",
       "      <th>Decition Tree</th>\n",
       "    </tr>\n",
       "  </thead>\n",
       "  <tbody>\n",
       "    <tr>\n",
       "      <th>Accuracy</th>\n",
       "      <td>0.950000</td>\n",
       "      <td>0.950000</td>\n",
       "      <td>0.910000</td>\n",
       "    </tr>\n",
       "    <tr>\n",
       "      <th>F1</th>\n",
       "      <td>0.974359</td>\n",
       "      <td>0.974359</td>\n",
       "      <td>0.954974</td>\n",
       "    </tr>\n",
       "    <tr>\n",
       "      <th>Precision</th>\n",
       "      <td>1.000000</td>\n",
       "      <td>1.000000</td>\n",
       "      <td>0.960000</td>\n",
       "    </tr>\n",
       "    <tr>\n",
       "      <th>Sensitivity</th>\n",
       "      <td>0.950000</td>\n",
       "      <td>0.950000</td>\n",
       "      <td>0.950000</td>\n",
       "    </tr>\n",
       "    <tr>\n",
       "      <th>Specificity</th>\n",
       "      <td>0.170000</td>\n",
       "      <td>NaN</td>\n",
       "      <td>0.110000</td>\n",
       "    </tr>\n",
       "  </tbody>\n",
       "</table>\n",
       "</div>"
      ],
      "text/plain": [
       "             Logistic Regression       SVM  Decition Tree\n",
       "Accuracy                0.950000  0.950000       0.910000\n",
       "F1                      0.974359  0.974359       0.954974\n",
       "Precision               1.000000  1.000000       0.960000\n",
       "Sensitivity             0.950000  0.950000       0.950000\n",
       "Specificity             0.170000       NaN       0.110000"
      ]
     },
     "execution_count": 31,
     "metadata": {},
     "output_type": "execute_result"
    }
   ],
   "source": [
    "df_metrics_method_1 = df_metrics_method_1.merge(calculate_metrics(\"Decition Tree\",y_test, y_pred), left_index=True, right_index=True)\n",
    "df_metrics_method_1"
   ]
  },
  {
   "cell_type": "markdown",
   "id": "a81bfd83",
   "metadata": {},
   "source": [
    "**-----------------------------------------------------------------------------------------------------------------------------------------------------------------------------------**"
   ]
  },
  {
   "cell_type": "markdown",
   "id": "8b114d73",
   "metadata": {},
   "source": [
    "**4) Random Forests**"
   ]
  },
  {
   "cell_type": "code",
   "execution_count": 32,
   "id": "2f57b58f",
   "metadata": {
    "scrolled": true
   },
   "outputs": [
    {
     "data": {
      "image/png": "[encoded data removed]",
      "text/plain": [
       "<Figure size 432x288 with 2 Axes>"
      ]
     },
     "metadata": {
      "needs_background": "light"
     },
     "output_type": "display_data"
    }
   ],
   "source": [
    "RF_model = RandomForestClassifier(n_estimators=1100)\n",
    "RF_model.fit(X_train,y_train)\n",
    "y_pred = RF_model.predict(X_test)\n",
    "plot_confusion_matrix(RF_model,X_test,y_test,normalize='all');"
   ]
  },
  {
   "cell_type": "code",
   "execution_count": 33,
   "id": "22f2a872",
   "metadata": {},
   "outputs": [
    {
     "data": {
      "text/plain": [
       "0.9191482106627111"
      ]
     },
     "execution_count": 33,
     "metadata": {},
     "output_type": "execute_result"
    }
   ],
   "source": [
    "cross_val_score(RF_model, X, y, cv=10).mean()"
   ]
  },
  {
   "cell_type": "code",
   "execution_count": 34,
   "id": "7bdf4371",
   "metadata": {},
   "outputs": [
    {
     "data": {
      "text/html": [
       "<div>\n",
       "<style scoped>\n",
       "    .dataframe tbody tr th:only-of-type {\n",
       "        vertical-align: middle;\n",
       "    }\n",
       "\n",
       "    .dataframe tbody tr th {\n",
       "        vertical-align: top;\n",
       "    }\n",
       "\n",
       "    .dataframe thead th {\n",
       "        text-align: right;\n",
       "    }\n",
       "</style>\n",
       "<table border=\"1\" class=\"dataframe\">\n",
       "  <thead>\n",
       "    <tr style=\"text-align: right;\">\n",
       "      <th></th>\n",
       "      <th>Logistic Regression</th>\n",
       "      <th>SVM</th>\n",
       "      <th>Decition Tree</th>\n",
       "      <th>Random Forest</th>\n",
       "    </tr>\n",
       "  </thead>\n",
       "  <tbody>\n",
       "    <tr>\n",
       "      <th>Accuracy</th>\n",
       "      <td>0.950000</td>\n",
       "      <td>0.950000</td>\n",
       "      <td>0.910000</td>\n",
       "      <td>0.930000</td>\n",
       "    </tr>\n",
       "    <tr>\n",
       "      <th>F1</th>\n",
       "      <td>0.974359</td>\n",
       "      <td>0.974359</td>\n",
       "      <td>0.954974</td>\n",
       "      <td>0.964767</td>\n",
       "    </tr>\n",
       "    <tr>\n",
       "      <th>Precision</th>\n",
       "      <td>1.000000</td>\n",
       "      <td>1.000000</td>\n",
       "      <td>0.960000</td>\n",
       "      <td>0.980000</td>\n",
       "    </tr>\n",
       "    <tr>\n",
       "      <th>Sensitivity</th>\n",
       "      <td>0.950000</td>\n",
       "      <td>0.950000</td>\n",
       "      <td>0.950000</td>\n",
       "      <td>0.950000</td>\n",
       "    </tr>\n",
       "    <tr>\n",
       "      <th>Specificity</th>\n",
       "      <td>0.170000</td>\n",
       "      <td>NaN</td>\n",
       "      <td>0.110000</td>\n",
       "      <td>0.030000</td>\n",
       "    </tr>\n",
       "  </tbody>\n",
       "</table>\n",
       "</div>"
      ],
      "text/plain": [
       "             Logistic Regression       SVM  Decition Tree  Random Forest\n",
       "Accuracy                0.950000  0.950000       0.910000       0.930000\n",
       "F1                      0.974359  0.974359       0.954974       0.964767\n",
       "Precision               1.000000  1.000000       0.960000       0.980000\n",
       "Sensitivity             0.950000  0.950000       0.950000       0.950000\n",
       "Specificity             0.170000       NaN       0.110000       0.030000"
      ]
     },
     "execution_count": 34,
     "metadata": {},
     "output_type": "execute_result"
    }
   ],
   "source": [
    "df_metrics_method_1 = df_metrics_method_1.merge(calculate_metrics(\"Random Forest\",y_test, y_pred), left_index=True, right_index=True)\n",
    "df_metrics_method_1"
   ]
  },
  {
   "cell_type": "markdown",
   "id": "6d0a7499",
   "metadata": {},
   "source": [
    "**-----------------------------------------------------------------------------------------------------------------------------------------------------------------------------------**"
   ]
  },
  {
   "cell_type": "markdown",
   "id": "20bdc760",
   "metadata": {},
   "source": [
    "**5) Naive Bayes**"
   ]
  },
  {
   "cell_type": "code",
   "execution_count": 35,
   "id": "eece73f1",
   "metadata": {},
   "outputs": [
    {
     "data": {
      "image/png": "[encoded data removed]",
      "text/plain": [
       "<Figure size 432x288 with 2 Axes>"
      ]
     },
     "metadata": {
      "needs_background": "light"
     },
     "output_type": "display_data"
    }
   ],
   "source": [
    "NB_model = GaussianNB()\n",
    "NB_model.fit(X_train, y_train)\n",
    "y_pred = NB_model.predict(X_test)\n",
    "plot_confusion_matrix(NB_model,X_test,y_test,normalize='all');"
   ]
  },
  {
   "cell_type": "code",
   "execution_count": 36,
   "id": "1cb7afbc",
   "metadata": {},
   "outputs": [
    {
     "data": {
      "text/plain": [
       "0.287631493700237"
      ]
     },
     "execution_count": 36,
     "metadata": {},
     "output_type": "execute_result"
    }
   ],
   "source": [
    "cross_val_score(NB_model, X, y, cv=10).mean()"
   ]
  },
  {
   "cell_type": "code",
   "execution_count": 37,
   "id": "e897b747",
   "metadata": {},
   "outputs": [
    {
     "data": {
      "text/html": [
       "<div>\n",
       "<style scoped>\n",
       "    .dataframe tbody tr th:only-of-type {\n",
       "        vertical-align: middle;\n",
       "    }\n",
       "\n",
       "    .dataframe tbody tr th {\n",
       "        vertical-align: top;\n",
       "    }\n",
       "\n",
       "    .dataframe thead th {\n",
       "        text-align: right;\n",
       "    }\n",
       "</style>\n",
       "<table border=\"1\" class=\"dataframe\">\n",
       "  <thead>\n",
       "    <tr style=\"text-align: right;\">\n",
       "      <th></th>\n",
       "      <th>Logistic Regression</th>\n",
       "      <th>SVM</th>\n",
       "      <th>Decition Tree</th>\n",
       "      <th>Random Forest</th>\n",
       "      <th>Naive Bays</th>\n",
       "    </tr>\n",
       "  </thead>\n",
       "  <tbody>\n",
       "    <tr>\n",
       "      <th>Accuracy</th>\n",
       "      <td>0.950000</td>\n",
       "      <td>0.950000</td>\n",
       "      <td>0.910000</td>\n",
       "      <td>0.930000</td>\n",
       "      <td>0.080000</td>\n",
       "    </tr>\n",
       "    <tr>\n",
       "      <th>F1</th>\n",
       "      <td>0.974359</td>\n",
       "      <td>0.974359</td>\n",
       "      <td>0.954974</td>\n",
       "      <td>0.964767</td>\n",
       "      <td>0.058218</td>\n",
       "    </tr>\n",
       "    <tr>\n",
       "      <th>Precision</th>\n",
       "      <td>1.000000</td>\n",
       "      <td>1.000000</td>\n",
       "      <td>0.960000</td>\n",
       "      <td>0.980000</td>\n",
       "      <td>0.030000</td>\n",
       "    </tr>\n",
       "    <tr>\n",
       "      <th>Sensitivity</th>\n",
       "      <td>0.950000</td>\n",
       "      <td>0.950000</td>\n",
       "      <td>0.950000</td>\n",
       "      <td>0.950000</td>\n",
       "      <td>0.980000</td>\n",
       "    </tr>\n",
       "    <tr>\n",
       "      <th>Specificity</th>\n",
       "      <td>0.170000</td>\n",
       "      <td>NaN</td>\n",
       "      <td>0.110000</td>\n",
       "      <td>0.030000</td>\n",
       "      <td>0.050000</td>\n",
       "    </tr>\n",
       "  </tbody>\n",
       "</table>\n",
       "</div>"
      ],
      "text/plain": [
       "             Logistic Regression       SVM  Decition Tree  Random Forest  \\\n",
       "Accuracy                0.950000  0.950000       0.910000       0.930000   \n",
       "F1                      0.974359  0.974359       0.954974       0.964767   \n",
       "Precision               1.000000  1.000000       0.960000       0.980000   \n",
       "Sensitivity             0.950000  0.950000       0.950000       0.950000   \n",
       "Specificity             0.170000       NaN       0.110000       0.030000   \n",
       "\n",
       "             Naive Bays  \n",
       "Accuracy       0.080000  \n",
       "F1             0.058218  \n",
       "Precision      0.030000  \n",
       "Sensitivity    0.980000  \n",
       "Specificity    0.050000  "
      ]
     },
     "execution_count": 37,
     "metadata": {},
     "output_type": "execute_result"
    }
   ],
   "source": [
    "df_metrics_method_1 = df_metrics_method_1.merge(calculate_metrics(\"Naive Bays\",y_test, y_pred), left_index=True, right_index=True)\n",
    "df_metrics_method_1"
   ]
  },
  {
   "cell_type": "markdown",
   "id": "e65f34e8",
   "metadata": {},
   "source": [
    "# Method 2: Dropping the Smoking-Status column"
   ]
  },
  {
   "cell_type": "code",
   "execution_count": 38,
   "id": "07ac210b",
   "metadata": {},
   "outputs": [],
   "source": [
    "mask = (df['Weight Condition'] =='Unknown')\n",
    "df_method2 = df.drop(df[mask].index).drop('Smoking Status',axis=1)"
   ]
  },
  {
   "cell_type": "code",
   "execution_count": 39,
   "id": "62e442ee",
   "metadata": {},
   "outputs": [],
   "source": [
    "cols=df_method2.select_dtypes(include=['object']).columns\n",
    "Encoded_df = pd.get_dummies(df_method2[cols])"
   ]
  },
  {
   "cell_type": "code",
   "execution_count": 40,
   "id": "db3f03ee",
   "metadata": {},
   "outputs": [
    {
     "data": {
      "text/html": [
       "<div>\n",
       "<style scoped>\n",
       "    .dataframe tbody tr th:only-of-type {\n",
       "        vertical-align: middle;\n",
       "    }\n",
       "\n",
       "    .dataframe tbody tr th {\n",
       "        vertical-align: top;\n",
       "    }\n",
       "\n",
       "    .dataframe thead th {\n",
       "        text-align: right;\n",
       "    }\n",
       "</style>\n",
       "<table border=\"1\" class=\"dataframe\">\n",
       "  <thead>\n",
       "    <tr style=\"text-align: right;\">\n",
       "      <th></th>\n",
       "      <th>Work_Type_Govt_job</th>\n",
       "      <th>Work_Type_Never_worked</th>\n",
       "      <th>Work_Type_Private</th>\n",
       "      <th>Work_Type_Self-employed</th>\n",
       "      <th>Work_Type_children</th>\n",
       "      <th>Weight Condition_Normal</th>\n",
       "      <th>Weight Condition_Obese</th>\n",
       "      <th>Weight Condition_Overweight</th>\n",
       "      <th>Weight Condition_Underweight</th>\n",
       "      <th>Glucose Condition_Diabetes</th>\n",
       "      <th>Glucose Condition_Normal</th>\n",
       "      <th>Glucose Condition_Pre-Diabetes</th>\n",
       "      <th>Hypertension</th>\n",
       "      <th>Heart_Disease</th>\n",
       "      <th>Ever_Married</th>\n",
       "      <th>Age-Group</th>\n",
       "      <th>is_Urban</th>\n",
       "      <th>Stroke_Status</th>\n",
       "    </tr>\n",
       "  </thead>\n",
       "  <tbody>\n",
       "    <tr>\n",
       "      <th>0</th>\n",
       "      <td>0</td>\n",
       "      <td>0</td>\n",
       "      <td>1</td>\n",
       "      <td>0</td>\n",
       "      <td>0</td>\n",
       "      <td>0</td>\n",
       "      <td>1</td>\n",
       "      <td>0</td>\n",
       "      <td>0</td>\n",
       "      <td>0</td>\n",
       "      <td>1</td>\n",
       "      <td>0</td>\n",
       "      <td>0</td>\n",
       "      <td>0</td>\n",
       "      <td>0</td>\n",
       "      <td>4</td>\n",
       "      <td>0</td>\n",
       "      <td>0</td>\n",
       "    </tr>\n",
       "    <tr>\n",
       "      <th>1</th>\n",
       "      <td>0</td>\n",
       "      <td>0</td>\n",
       "      <td>1</td>\n",
       "      <td>0</td>\n",
       "      <td>0</td>\n",
       "      <td>0</td>\n",
       "      <td>1</td>\n",
       "      <td>0</td>\n",
       "      <td>0</td>\n",
       "      <td>0</td>\n",
       "      <td>1</td>\n",
       "      <td>0</td>\n",
       "      <td>0</td>\n",
       "      <td>0</td>\n",
       "      <td>1</td>\n",
       "      <td>4</td>\n",
       "      <td>1</td>\n",
       "      <td>0</td>\n",
       "    </tr>\n",
       "    <tr>\n",
       "      <th>2</th>\n",
       "      <td>0</td>\n",
       "      <td>0</td>\n",
       "      <td>1</td>\n",
       "      <td>0</td>\n",
       "      <td>0</td>\n",
       "      <td>0</td>\n",
       "      <td>1</td>\n",
       "      <td>0</td>\n",
       "      <td>0</td>\n",
       "      <td>0</td>\n",
       "      <td>1</td>\n",
       "      <td>0</td>\n",
       "      <td>0</td>\n",
       "      <td>0</td>\n",
       "      <td>1</td>\n",
       "      <td>4</td>\n",
       "      <td>1</td>\n",
       "      <td>0</td>\n",
       "    </tr>\n",
       "    <tr>\n",
       "      <th>3</th>\n",
       "      <td>0</td>\n",
       "      <td>0</td>\n",
       "      <td>1</td>\n",
       "      <td>0</td>\n",
       "      <td>0</td>\n",
       "      <td>0</td>\n",
       "      <td>1</td>\n",
       "      <td>0</td>\n",
       "      <td>0</td>\n",
       "      <td>0</td>\n",
       "      <td>1</td>\n",
       "      <td>0</td>\n",
       "      <td>0</td>\n",
       "      <td>0</td>\n",
       "      <td>1</td>\n",
       "      <td>4</td>\n",
       "      <td>0</td>\n",
       "      <td>0</td>\n",
       "    </tr>\n",
       "    <tr>\n",
       "      <th>4</th>\n",
       "      <td>0</td>\n",
       "      <td>0</td>\n",
       "      <td>1</td>\n",
       "      <td>0</td>\n",
       "      <td>0</td>\n",
       "      <td>0</td>\n",
       "      <td>1</td>\n",
       "      <td>0</td>\n",
       "      <td>0</td>\n",
       "      <td>0</td>\n",
       "      <td>1</td>\n",
       "      <td>0</td>\n",
       "      <td>0</td>\n",
       "      <td>0</td>\n",
       "      <td>1</td>\n",
       "      <td>4</td>\n",
       "      <td>1</td>\n",
       "      <td>0</td>\n",
       "    </tr>\n",
       "  </tbody>\n",
       "</table>\n",
       "</div>"
      ],
      "text/plain": [
       "   Work_Type_Govt_job  Work_Type_Never_worked  Work_Type_Private  \\\n",
       "0                   0                       0                  1   \n",
       "1                   0                       0                  1   \n",
       "2                   0                       0                  1   \n",
       "3                   0                       0                  1   \n",
       "4                   0                       0                  1   \n",
       "\n",
       "   Work_Type_Self-employed  Work_Type_children  Weight Condition_Normal  \\\n",
       "0                        0                   0                        0   \n",
       "1                        0                   0                        0   \n",
       "2                        0                   0                        0   \n",
       "3                        0                   0                        0   \n",
       "4                        0                   0                        0   \n",
       "\n",
       "   Weight Condition_Obese  Weight Condition_Overweight  \\\n",
       "0                       1                            0   \n",
       "1                       1                            0   \n",
       "2                       1                            0   \n",
       "3                       1                            0   \n",
       "4                       1                            0   \n",
       "\n",
       "   Weight Condition_Underweight  Glucose Condition_Diabetes  \\\n",
       "0                             0                           0   \n",
       "1                             0                           0   \n",
       "2                             0                           0   \n",
       "3                             0                           0   \n",
       "4                             0                           0   \n",
       "\n",
       "   Glucose Condition_Normal  Glucose Condition_Pre-Diabetes  Hypertension  \\\n",
       "0                         1                               0             0   \n",
       "1                         1                               0             0   \n",
       "2                         1                               0             0   \n",
       "3                         1                               0             0   \n",
       "4                         1                               0             0   \n",
       "\n",
       "   Heart_Disease  Ever_Married  Age-Group  is_Urban  Stroke_Status  \n",
       "0              0             0          4         0              0  \n",
       "1              0             1          4         1              0  \n",
       "2              0             1          4         1              0  \n",
       "3              0             1          4         0              0  \n",
       "4              0             1          4         1              0  "
      ]
     },
     "execution_count": 40,
     "metadata": {},
     "output_type": "execute_result"
    }
   ],
   "source": [
    "cols=df_method2.select_dtypes(include=['int']).columns\n",
    "Encoded_df = pd.concat([Encoded_df, df_method2[cols]], axis=1)\n",
    "Encoded_df.head()"
   ]
  },
  {
   "cell_type": "code",
   "execution_count": 41,
   "id": "3df35ec9",
   "metadata": {},
   "outputs": [],
   "source": [
    "X = Encoded_df.iloc[:,0:-1]\n",
    "y = Encoded_df.iloc[:,-1]\n",
    "X_train,X_test,y_train,y_test  = train_test_split(X, y, test_size=0.50 ,random_state=1)"
   ]
  },
  {
   "cell_type": "markdown",
   "id": "b4ba295a",
   "metadata": {},
   "source": [
    "**1) Logistic Regression with Cross-Validation**"
   ]
  },
  {
   "cell_type": "code",
   "execution_count": 42,
   "id": "59fe14ca",
   "metadata": {},
   "outputs": [
    {
     "data": {
      "image/png": "[encoded data removed]",
      "text/plain": [
       "<Figure size 720x288 with 1 Axes>"
      ]
     },
     "metadata": {
      "needs_background": "light"
     },
     "output_type": "display_data"
    }
   ],
   "source": [
    "Logistic_CV_model = LogisticRegressionCV(max_iter=5000)\n",
    "Logistic_CV_model.fit(X_train,y_train)\n",
    "coefs = pd.Series(index=X.columns,data=Logistic_CV_model.coef_[0])\n",
    "coefs = coefs.sort_values()\n",
    "plt.figure(figsize=(10,4))\n",
    "sns.barplot(x=coefs.index,y=coefs.values,palette='coolwarm')\n",
    "plt.xticks(rotation=90);"
   ]
  },
  {
   "cell_type": "code",
   "execution_count": 43,
   "id": "613f6df3",
   "metadata": {},
   "outputs": [
    {
     "data": {
      "image/png": "[encoded data removed]",
      "text/plain": [
       "<Figure size 432x288 with 2 Axes>"
      ]
     },
     "metadata": {
      "needs_background": "light"
     },
     "output_type": "display_data"
    }
   ],
   "source": [
    "y_pred = Logistic_CV_model.predict(X_test)\n",
    "plot_confusion_matrix(Logistic_CV_model,X_test,y_test, normalize = 'all');"
   ]
  },
  {
   "cell_type": "code",
   "execution_count": 44,
   "id": "9eaa88d9",
   "metadata": {},
   "outputs": [
    {
     "data": {
      "text/plain": [
       "0.9574167671141776"
      ]
     },
     "execution_count": 44,
     "metadata": {},
     "output_type": "execute_result"
    }
   ],
   "source": [
    "cross_val_score(Logistic_CV_model, X, y, cv=10).mean()"
   ]
  },
  {
   "cell_type": "code",
   "execution_count": 45,
   "id": "12196d74",
   "metadata": {},
   "outputs": [
    {
     "data": {
      "text/html": [
       "<div>\n",
       "<style scoped>\n",
       "    .dataframe tbody tr th:only-of-type {\n",
       "        vertical-align: middle;\n",
       "    }\n",
       "\n",
       "    .dataframe tbody tr th {\n",
       "        vertical-align: top;\n",
       "    }\n",
       "\n",
       "    .dataframe thead th {\n",
       "        text-align: right;\n",
       "    }\n",
       "</style>\n",
       "<table border=\"1\" class=\"dataframe\">\n",
       "  <thead>\n",
       "    <tr style=\"text-align: right;\">\n",
       "      <th></th>\n",
       "      <th>Logistic Regression</th>\n",
       "    </tr>\n",
       "  </thead>\n",
       "  <tbody>\n",
       "    <tr>\n",
       "      <th>Accuracy</th>\n",
       "      <td>0.960000</td>\n",
       "    </tr>\n",
       "    <tr>\n",
       "      <th>F1</th>\n",
       "      <td>0.979592</td>\n",
       "    </tr>\n",
       "    <tr>\n",
       "      <th>Precision</th>\n",
       "      <td>1.000000</td>\n",
       "    </tr>\n",
       "    <tr>\n",
       "      <th>Sensitivity</th>\n",
       "      <td>0.960000</td>\n",
       "    </tr>\n",
       "    <tr>\n",
       "      <th>Specificity</th>\n",
       "      <td>1.000000</td>\n",
       "    </tr>\n",
       "  </tbody>\n",
       "</table>\n",
       "</div>"
      ],
      "text/plain": [
       "             Logistic Regression\n",
       "Accuracy                0.960000\n",
       "F1                      0.979592\n",
       "Precision               1.000000\n",
       "Sensitivity             0.960000\n",
       "Specificity             1.000000"
      ]
     },
     "execution_count": 45,
     "metadata": {},
     "output_type": "execute_result"
    }
   ],
   "source": [
    "df_metrics_method_2 = calculate_metrics(\"Logistic Regression\",y_test, y_pred)\n",
    "df_metrics_method_2"
   ]
  },
  {
   "cell_type": "markdown",
   "id": "3a71f1ac",
   "metadata": {},
   "source": [
    "**-----------------------------------------------------------------------------------------------------------------------------------------------------------------------------------**"
   ]
  },
  {
   "cell_type": "markdown",
   "id": "719290d7",
   "metadata": {},
   "source": [
    "**2) Support Vector Machine**"
   ]
  },
  {
   "cell_type": "code",
   "execution_count": 46,
   "id": "5a90be36",
   "metadata": {},
   "outputs": [
    {
     "data": {
      "image/png": "[encoded data removed]",
      "text/plain": [
       "<Figure size 432x288 with 2 Axes>"
      ]
     },
     "metadata": {
      "needs_background": "light"
     },
     "output_type": "display_data"
    }
   ],
   "source": [
    "svm_model = svm.SVC(kernel='linear')\n",
    "svm_model.fit(X_train, y_train)\n",
    "y_pred = svm_model.predict(X_test)\n",
    "plot_confusion_matrix(svm_model,X_test,y_test, normalize='all');"
   ]
  },
  {
   "cell_type": "code",
   "execution_count": 47,
   "id": "abc779be",
   "metadata": {},
   "outputs": [
    {
     "data": {
      "text/plain": [
       "0.9574167671141776"
      ]
     },
     "execution_count": 47,
     "metadata": {},
     "output_type": "execute_result"
    }
   ],
   "source": [
    "cross_val_score(svm_model, X, y, cv=10).mean()"
   ]
  },
  {
   "cell_type": "code",
   "execution_count": 48,
   "id": "144f6d42",
   "metadata": {},
   "outputs": [
    {
     "name": "stderr",
     "output_type": "stream",
     "text": [
      "C:\\Users\\Admin\\AppData\\Local\\Temp/ipykernel_6116/313925009.py:11: RuntimeWarning: invalid value encountered in longlong_scalars\n",
      "  Specificity      = round(TN/(TN+FP),2)\n"
     ]
    },
    {
     "data": {
      "text/html": [
       "<div>\n",
       "<style scoped>\n",
       "    .dataframe tbody tr th:only-of-type {\n",
       "        vertical-align: middle;\n",
       "    }\n",
       "\n",
       "    .dataframe tbody tr th {\n",
       "        vertical-align: top;\n",
       "    }\n",
       "\n",
       "    .dataframe thead th {\n",
       "        text-align: right;\n",
       "    }\n",
       "</style>\n",
       "<table border=\"1\" class=\"dataframe\">\n",
       "  <thead>\n",
       "    <tr style=\"text-align: right;\">\n",
       "      <th></th>\n",
       "      <th>Logistic Regression</th>\n",
       "      <th>SVM</th>\n",
       "    </tr>\n",
       "  </thead>\n",
       "  <tbody>\n",
       "    <tr>\n",
       "      <th>Accuracy</th>\n",
       "      <td>0.960000</td>\n",
       "      <td>0.960000</td>\n",
       "    </tr>\n",
       "    <tr>\n",
       "      <th>F1</th>\n",
       "      <td>0.979592</td>\n",
       "      <td>0.979592</td>\n",
       "    </tr>\n",
       "    <tr>\n",
       "      <th>Precision</th>\n",
       "      <td>1.000000</td>\n",
       "      <td>1.000000</td>\n",
       "    </tr>\n",
       "    <tr>\n",
       "      <th>Sensitivity</th>\n",
       "      <td>0.960000</td>\n",
       "      <td>0.960000</td>\n",
       "    </tr>\n",
       "    <tr>\n",
       "      <th>Specificity</th>\n",
       "      <td>1.000000</td>\n",
       "      <td>NaN</td>\n",
       "    </tr>\n",
       "  </tbody>\n",
       "</table>\n",
       "</div>"
      ],
      "text/plain": [
       "             Logistic Regression       SVM\n",
       "Accuracy                0.960000  0.960000\n",
       "F1                      0.979592  0.979592\n",
       "Precision               1.000000  1.000000\n",
       "Sensitivity             0.960000  0.960000\n",
       "Specificity             1.000000       NaN"
      ]
     },
     "execution_count": 48,
     "metadata": {},
     "output_type": "execute_result"
    }
   ],
   "source": [
    "df_metrics_method_2 = df_metrics_method_2.merge(calculate_metrics(\"SVM\",y_test, y_pred), left_index=True, right_index=True)\n",
    "df_metrics_method_2"
   ]
  },
  {
   "cell_type": "markdown",
   "id": "10fc091a",
   "metadata": {},
   "source": [
    "**-----------------------------------------------------------------------------------------------------------------------------------------------------------------------------------**"
   ]
  },
  {
   "cell_type": "markdown",
   "id": "655410d4",
   "metadata": {},
   "source": [
    "**3) Decision Tree**"
   ]
  },
  {
   "cell_type": "code",
   "execution_count": 49,
   "id": "aaa05d83",
   "metadata": {},
   "outputs": [
    {
     "data": {
      "image/png": "[encoded data removed]",
      "text/plain": [
       "<Figure size 432x288 with 2 Axes>"
      ]
     },
     "metadata": {
      "needs_background": "light"
     },
     "output_type": "display_data"
    }
   ],
   "source": [
    "DT_model = DecisionTreeClassifier()\n",
    "DT_model.fit(X_train,y_train)\n",
    "y_pred = DT_model.predict(X_test)\n",
    "plot_confusion_matrix(DT_model,X_test,y_test,normalize='all');"
   ]
  },
  {
   "cell_type": "code",
   "execution_count": 50,
   "id": "18ef6776",
   "metadata": {},
   "outputs": [
    {
     "data": {
      "text/plain": [
       "0.7493757014007232"
      ]
     },
     "execution_count": 50,
     "metadata": {},
     "output_type": "execute_result"
    }
   ],
   "source": [
    "cross_val_score(DT_model, X, y, cv=10).mean()"
   ]
  },
  {
   "cell_type": "code",
   "execution_count": 51,
   "id": "ac35d82b",
   "metadata": {},
   "outputs": [
    {
     "data": {
      "text/html": [
       "<div>\n",
       "<style scoped>\n",
       "    .dataframe tbody tr th:only-of-type {\n",
       "        vertical-align: middle;\n",
       "    }\n",
       "\n",
       "    .dataframe tbody tr th {\n",
       "        vertical-align: top;\n",
       "    }\n",
       "\n",
       "    .dataframe thead th {\n",
       "        text-align: right;\n",
       "    }\n",
       "</style>\n",
       "<table border=\"1\" class=\"dataframe\">\n",
       "  <thead>\n",
       "    <tr style=\"text-align: right;\">\n",
       "      <th></th>\n",
       "      <th>Logistic Regression</th>\n",
       "      <th>SVM</th>\n",
       "      <th>Decition Tree</th>\n",
       "    </tr>\n",
       "  </thead>\n",
       "  <tbody>\n",
       "    <tr>\n",
       "      <th>Accuracy</th>\n",
       "      <td>0.960000</td>\n",
       "      <td>0.960000</td>\n",
       "      <td>0.940000</td>\n",
       "    </tr>\n",
       "    <tr>\n",
       "      <th>F1</th>\n",
       "      <td>0.979592</td>\n",
       "      <td>0.979592</td>\n",
       "      <td>0.964974</td>\n",
       "    </tr>\n",
       "    <tr>\n",
       "      <th>Precision</th>\n",
       "      <td>1.000000</td>\n",
       "      <td>1.000000</td>\n",
       "      <td>0.970000</td>\n",
       "    </tr>\n",
       "    <tr>\n",
       "      <th>Sensitivity</th>\n",
       "      <td>0.960000</td>\n",
       "      <td>0.960000</td>\n",
       "      <td>0.960000</td>\n",
       "    </tr>\n",
       "    <tr>\n",
       "      <th>Specificity</th>\n",
       "      <td>1.000000</td>\n",
       "      <td>NaN</td>\n",
       "      <td>0.130000</td>\n",
       "    </tr>\n",
       "  </tbody>\n",
       "</table>\n",
       "</div>"
      ],
      "text/plain": [
       "             Logistic Regression       SVM  Decition Tree\n",
       "Accuracy                0.960000  0.960000       0.940000\n",
       "F1                      0.979592  0.979592       0.964974\n",
       "Precision               1.000000  1.000000       0.970000\n",
       "Sensitivity             0.960000  0.960000       0.960000\n",
       "Specificity             1.000000       NaN       0.130000"
      ]
     },
     "execution_count": 51,
     "metadata": {},
     "output_type": "execute_result"
    }
   ],
   "source": [
    "df_metrics_method_2 = df_metrics_method_2.merge(calculate_metrics(\"Decition Tree\",y_test, y_pred), left_index=True, right_index=True)\n",
    "df_metrics_method_2"
   ]
  },
  {
   "cell_type": "markdown",
   "id": "2ce0e9da",
   "metadata": {},
   "source": [
    "**-----------------------------------------------------------------------------------------------------------------------------------------------------------------------------------**"
   ]
  },
  {
   "cell_type": "markdown",
   "id": "2694310a",
   "metadata": {},
   "source": [
    "**4) Random Forests**"
   ]
  },
  {
   "cell_type": "code",
   "execution_count": 52,
   "id": "a48c43cc",
   "metadata": {},
   "outputs": [
    {
     "data": {
      "image/png": "[encoded data removed]",
      "text/plain": [
       "<Figure size 432x288 with 2 Axes>"
      ]
     },
     "metadata": {
      "needs_background": "light"
     },
     "output_type": "display_data"
    }
   ],
   "source": [
    "RF_model = RandomForestClassifier(n_estimators=1100)\n",
    "RF_model.fit(X_train,y_train)\n",
    "y_pred = RF_model.predict(X_test)\n",
    "plot_confusion_matrix(RF_model,X_test,y_test,normalize='all');"
   ]
  },
  {
   "cell_type": "code",
   "execution_count": 53,
   "id": "131efa09",
   "metadata": {},
   "outputs": [
    {
     "data": {
      "text/plain": [
       "0.8252204996051373"
      ]
     },
     "execution_count": 53,
     "metadata": {},
     "output_type": "execute_result"
    }
   ],
   "source": [
    "cross_val_score(RF_model, X, y, cv=10).mean()"
   ]
  },
  {
   "cell_type": "code",
   "execution_count": 54,
   "id": "fb693be9",
   "metadata": {},
   "outputs": [
    {
     "data": {
      "text/html": [
       "<div>\n",
       "<style scoped>\n",
       "    .dataframe tbody tr th:only-of-type {\n",
       "        vertical-align: middle;\n",
       "    }\n",
       "\n",
       "    .dataframe tbody tr th {\n",
       "        vertical-align: top;\n",
       "    }\n",
       "\n",
       "    .dataframe thead th {\n",
       "        text-align: right;\n",
       "    }\n",
       "</style>\n",
       "<table border=\"1\" class=\"dataframe\">\n",
       "  <thead>\n",
       "    <tr style=\"text-align: right;\">\n",
       "      <th></th>\n",
       "      <th>Logistic Regression</th>\n",
       "      <th>SVM</th>\n",
       "      <th>Decition Tree</th>\n",
       "      <th>Random Forest</th>\n",
       "    </tr>\n",
       "  </thead>\n",
       "  <tbody>\n",
       "    <tr>\n",
       "      <th>Accuracy</th>\n",
       "      <td>0.960000</td>\n",
       "      <td>0.960000</td>\n",
       "      <td>0.940000</td>\n",
       "      <td>0.950000</td>\n",
       "    </tr>\n",
       "    <tr>\n",
       "      <th>F1</th>\n",
       "      <td>0.979592</td>\n",
       "      <td>0.979592</td>\n",
       "      <td>0.964974</td>\n",
       "      <td>0.974769</td>\n",
       "    </tr>\n",
       "    <tr>\n",
       "      <th>Precision</th>\n",
       "      <td>1.000000</td>\n",
       "      <td>1.000000</td>\n",
       "      <td>0.970000</td>\n",
       "      <td>0.990000</td>\n",
       "    </tr>\n",
       "    <tr>\n",
       "      <th>Sensitivity</th>\n",
       "      <td>0.960000</td>\n",
       "      <td>0.960000</td>\n",
       "      <td>0.960000</td>\n",
       "      <td>0.960000</td>\n",
       "    </tr>\n",
       "    <tr>\n",
       "      <th>Specificity</th>\n",
       "      <td>1.000000</td>\n",
       "      <td>NaN</td>\n",
       "      <td>0.130000</td>\n",
       "      <td>0.110000</td>\n",
       "    </tr>\n",
       "  </tbody>\n",
       "</table>\n",
       "</div>"
      ],
      "text/plain": [
       "             Logistic Regression       SVM  Decition Tree  Random Forest\n",
       "Accuracy                0.960000  0.960000       0.940000       0.950000\n",
       "F1                      0.979592  0.979592       0.964974       0.974769\n",
       "Precision               1.000000  1.000000       0.970000       0.990000\n",
       "Sensitivity             0.960000  0.960000       0.960000       0.960000\n",
       "Specificity             1.000000       NaN       0.130000       0.110000"
      ]
     },
     "execution_count": 54,
     "metadata": {},
     "output_type": "execute_result"
    }
   ],
   "source": [
    "df_metrics_method_2 = df_metrics_method_2.merge(calculate_metrics(\"Random Forest\",y_test, y_pred), left_index=True, right_index=True)\n",
    "df_metrics_method_2"
   ]
  },
  {
   "cell_type": "markdown",
   "id": "b3e52be0",
   "metadata": {},
   "source": [
    "**-----------------------------------------------------------------------------------------------------------------------------------------------------------------------------------**"
   ]
  },
  {
   "cell_type": "markdown",
   "id": "f931bd7c",
   "metadata": {},
   "source": [
    "**5) Naive Bayes**"
   ]
  },
  {
   "cell_type": "code",
   "execution_count": 55,
   "id": "bbf29a08",
   "metadata": {},
   "outputs": [
    {
     "data": {
      "image/png": "[encoded data removed]",
      "text/plain": [
       "<Figure size 432x288 with 2 Axes>"
      ]
     },
     "metadata": {
      "needs_background": "light"
     },
     "output_type": "display_data"
    }
   ],
   "source": [
    "NB_model = GaussianNB()\n",
    "NB_model.fit(X_train, y_train)\n",
    "y_pred = NB_model.predict(X_test)\n",
    "plot_confusion_matrix(NB_model,X_test,y_test,normalize='all');"
   ]
  },
  {
   "cell_type": "code",
   "execution_count": 56,
   "id": "8e0cad0b",
   "metadata": {},
   "outputs": [
    {
     "data": {
      "text/plain": [
       "0.3898142067417598"
      ]
     },
     "execution_count": 56,
     "metadata": {},
     "output_type": "execute_result"
    }
   ],
   "source": [
    "cross_val_score(NB_model, X, y, cv=10).mean()"
   ]
  },
  {
   "cell_type": "code",
   "execution_count": 57,
   "id": "b47d58fa",
   "metadata": {
    "scrolled": true
   },
   "outputs": [
    {
     "data": {
      "text/html": [
       "<div>\n",
       "<style scoped>\n",
       "    .dataframe tbody tr th:only-of-type {\n",
       "        vertical-align: middle;\n",
       "    }\n",
       "\n",
       "    .dataframe tbody tr th {\n",
       "        vertical-align: top;\n",
       "    }\n",
       "\n",
       "    .dataframe thead th {\n",
       "        text-align: right;\n",
       "    }\n",
       "</style>\n",
       "<table border=\"1\" class=\"dataframe\">\n",
       "  <thead>\n",
       "    <tr style=\"text-align: right;\">\n",
       "      <th></th>\n",
       "      <th>Logistic Regression</th>\n",
       "      <th>SVM</th>\n",
       "      <th>Decition Tree</th>\n",
       "      <th>Random Forest</th>\n",
       "      <th>Naive Bays</th>\n",
       "    </tr>\n",
       "  </thead>\n",
       "  <tbody>\n",
       "    <tr>\n",
       "      <th>Accuracy</th>\n",
       "      <td>0.960000</td>\n",
       "      <td>0.960000</td>\n",
       "      <td>0.940000</td>\n",
       "      <td>0.950000</td>\n",
       "      <td>0.360000</td>\n",
       "    </tr>\n",
       "    <tr>\n",
       "      <th>F1</th>\n",
       "      <td>0.979592</td>\n",
       "      <td>0.979592</td>\n",
       "      <td>0.964974</td>\n",
       "      <td>0.974769</td>\n",
       "      <td>0.507463</td>\n",
       "    </tr>\n",
       "    <tr>\n",
       "      <th>Precision</th>\n",
       "      <td>1.000000</td>\n",
       "      <td>1.000000</td>\n",
       "      <td>0.970000</td>\n",
       "      <td>0.990000</td>\n",
       "      <td>0.340000</td>\n",
       "    </tr>\n",
       "    <tr>\n",
       "      <th>Sensitivity</th>\n",
       "      <td>0.960000</td>\n",
       "      <td>0.960000</td>\n",
       "      <td>0.960000</td>\n",
       "      <td>0.960000</td>\n",
       "      <td>1.000000</td>\n",
       "    </tr>\n",
       "    <tr>\n",
       "      <th>Specificity</th>\n",
       "      <td>1.000000</td>\n",
       "      <td>NaN</td>\n",
       "      <td>0.130000</td>\n",
       "      <td>0.110000</td>\n",
       "      <td>0.060000</td>\n",
       "    </tr>\n",
       "  </tbody>\n",
       "</table>\n",
       "</div>"
      ],
      "text/plain": [
       "             Logistic Regression       SVM  Decition Tree  Random Forest  \\\n",
       "Accuracy                0.960000  0.960000       0.940000       0.950000   \n",
       "F1                      0.979592  0.979592       0.964974       0.974769   \n",
       "Precision               1.000000  1.000000       0.970000       0.990000   \n",
       "Sensitivity             0.960000  0.960000       0.960000       0.960000   \n",
       "Specificity             1.000000       NaN       0.130000       0.110000   \n",
       "\n",
       "             Naive Bays  \n",
       "Accuracy       0.360000  \n",
       "F1             0.507463  \n",
       "Precision      0.340000  \n",
       "Sensitivity    1.000000  \n",
       "Specificity    0.060000  "
      ]
     },
     "execution_count": 57,
     "metadata": {},
     "output_type": "execute_result"
    }
   ],
   "source": [
    "df_metrics_method_2 = df_metrics_method_2.merge(calculate_metrics(\"Naive Bays\",y_test, y_pred), left_index=True, right_index=True)\n",
    "df_metrics_method_2"
   ]
  },
  {
   "cell_type": "code",
   "execution_count": 58,
   "id": "ba7ff10a",
   "metadata": {},
   "outputs": [
    {
     "data": {
      "text/html": [
       "<div>\n",
       "<style scoped>\n",
       "    .dataframe tbody tr th:only-of-type {\n",
       "        vertical-align: middle;\n",
       "    }\n",
       "\n",
       "    .dataframe tbody tr th {\n",
       "        vertical-align: top;\n",
       "    }\n",
       "\n",
       "    .dataframe thead th {\n",
       "        text-align: right;\n",
       "    }\n",
       "</style>\n",
       "<table border=\"1\" class=\"dataframe\">\n",
       "  <thead>\n",
       "    <tr style=\"text-align: right;\">\n",
       "      <th></th>\n",
       "      <th>Logistic Regression</th>\n",
       "      <th>SVM</th>\n",
       "      <th>Decition Tree</th>\n",
       "      <th>Random Forest</th>\n",
       "      <th>Naive Bays</th>\n",
       "    </tr>\n",
       "  </thead>\n",
       "  <tbody>\n",
       "    <tr>\n",
       "      <th>Accuracy</th>\n",
       "      <td>1.000000</td>\n",
       "      <td>1.000000</td>\n",
       "      <td>3.000000</td>\n",
       "      <td>2.000000</td>\n",
       "      <td>28.000000</td>\n",
       "    </tr>\n",
       "    <tr>\n",
       "      <th>F1</th>\n",
       "      <td>0.523286</td>\n",
       "      <td>0.523286</td>\n",
       "      <td>1.000027</td>\n",
       "      <td>1.000239</td>\n",
       "      <td>44.924486</td>\n",
       "    </tr>\n",
       "    <tr>\n",
       "      <th>Precision</th>\n",
       "      <td>0.000000</td>\n",
       "      <td>0.000000</td>\n",
       "      <td>1.000000</td>\n",
       "      <td>1.000000</td>\n",
       "      <td>31.000000</td>\n",
       "    </tr>\n",
       "    <tr>\n",
       "      <th>Sensitivity</th>\n",
       "      <td>1.000000</td>\n",
       "      <td>1.000000</td>\n",
       "      <td>1.000000</td>\n",
       "      <td>1.000000</td>\n",
       "      <td>2.000000</td>\n",
       "    </tr>\n",
       "    <tr>\n",
       "      <th>Specificity</th>\n",
       "      <td>83.000000</td>\n",
       "      <td>NaN</td>\n",
       "      <td>2.000000</td>\n",
       "      <td>8.000000</td>\n",
       "      <td>1.000000</td>\n",
       "    </tr>\n",
       "  </tbody>\n",
       "</table>\n",
       "</div>"
      ],
      "text/plain": [
       "             Logistic Regression       SVM  Decition Tree  Random Forest  \\\n",
       "Accuracy                1.000000  1.000000       3.000000       2.000000   \n",
       "F1                      0.523286  0.523286       1.000027       1.000239   \n",
       "Precision               0.000000  0.000000       1.000000       1.000000   \n",
       "Sensitivity             1.000000  1.000000       1.000000       1.000000   \n",
       "Specificity            83.000000       NaN       2.000000       8.000000   \n",
       "\n",
       "             Naive Bays  \n",
       "Accuracy      28.000000  \n",
       "F1            44.924486  \n",
       "Precision     31.000000  \n",
       "Sensitivity    2.000000  \n",
       "Specificity    1.000000  "
      ]
     },
     "execution_count": 58,
     "metadata": {},
     "output_type": "execute_result"
    }
   ],
   "source": [
    "difference = df_metrics_method_2 - df_metrics_method_1\n",
    "difference*100"
   ]
  },
  {
   "cell_type": "code",
   "execution_count": 61,
   "id": "1b9633b5",
   "metadata": {},
   "outputs": [],
   "source": [
    "# from sklearn import svm, tree\n",
    "\n",
    "# fig = plt.figure(figsize=(25,20))\n",
    "# _ = tree.plot_tree(DT_model, \n",
    "# #                    feature_names=iris.feature_names,  \n",
    "# #                    class_names=iris.target_names,\n",
    "#                    filled=True)"
   ]
  },
  {
   "cell_type": "markdown",
   "id": "3d87a29e",
   "metadata": {},
   "source": [
    "# Bonus: Glucose"
   ]
  },
  {
   "cell_type": "code",
   "execution_count": 62,
   "id": "fcc2eb4a",
   "metadata": {},
   "outputs": [],
   "source": [
    "df = pd.read_excel('DataFromPowerBI.xlsx')\n"
   ]
  },
  {
   "cell_type": "code",
   "execution_count": 63,
   "id": "1c25635a",
   "metadata": {},
   "outputs": [
    {
     "data": {
      "text/plain": [
       "Index(['Gender', 'Age', 'Hypertension', 'Heart_Disease', 'Ever_Married',\n",
       "       'Work_Type', 'Residence_type', 'AVG_Glucose_Level', 'BMI',\n",
       "       'Smoking Status', 'Age_Interval', 'Weight Condition',\n",
       "       'Glucose Condition', 'Age-Group', 'is_Urban', 'Stroke_Status'],\n",
       "      dtype='object')"
      ]
     },
     "execution_count": 63,
     "metadata": {},
     "output_type": "execute_result"
    }
   ],
   "source": [
    "df.columns"
   ]
  },
  {
   "cell_type": "code",
   "execution_count": 64,
   "id": "ba12c29a",
   "metadata": {},
   "outputs": [],
   "source": [
    "df = df.drop(['Age','Age_Interval','BMI','Residence_type','Gender'],axis=1)"
   ]
  },
  {
   "cell_type": "code",
   "execution_count": 74,
   "id": "82c296fc",
   "metadata": {},
   "outputs": [],
   "source": [
    "df['Glucose'] = pd.cut(df['AVG_Glucose_Level'],22)"
   ]
  },
  {
   "cell_type": "code",
   "execution_count": 76,
   "id": "ece3c3b5",
   "metadata": {},
   "outputs": [],
   "source": [
    "mask = (df['Weight Condition'] =='Unknown')\n",
    "df = df.drop(df[mask].index).drop('Smoking Status',axis=1)"
   ]
  }
 ],
 "metadata": {
  "kernelspec": {
   "display_name": "Python 3 (ipykernel)",
   "language": "python",
   "name": "python3"
  },
  "language_info": {
   "codemirror_mode": {
    "name": "ipython",
    "version": 3
   },
   "file_extension": ".py",
   "mimetype": "text/x-python",
   "name": "python",
   "nbconvert_exporter": "python",
   "pygments_lexer": "ipython3",
   "version": "3.9.7"
  }
 },
 "nbformat": 4,
 "nbformat_minor": 5
}
