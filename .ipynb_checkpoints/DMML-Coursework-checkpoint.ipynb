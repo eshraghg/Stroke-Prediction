{
 "cells": [
  {
   "cell_type": "code",
   "execution_count": 177,
   "id": "bab6b366",
   "metadata": {},
   "outputs": [],
   "source": [
    "%reset -f\n",
    "import pandas as pd\n",
    "import numpy as np\n",
    "import seaborn as sns\n",
    "import matplotlib.pyplot as plt\n",
    "from sklearn.preprocessing import OneHotEncoder\n",
    "from sklearn.feature_selection import SelectKBest, f_classif\n",
    "from sklearn.model_selection import train_test_split, cross_val_score\n",
    "# from imblearn.over_sampling import SMOTE\n",
    "from sklearn.linear_model import LogisticRegressionCV\n",
    "from sklearn.ensemble import RandomForestClassifier\n",
    "# from xgboost import XGBClassifier\n",
    "\n",
    "from sklearn.metrics import confusion_matrix,classification_report,plot_confusion_matrix\n",
    "from sklearn import svm, tree\n",
    "from sklearn.tree import DecisionTreeClassifier\n",
    "from sklearn.ensemble import RandomForestClassifier\n",
    "from sklearn.naive_bayes import GaussianNB\n",
    "import joblib"
   ]
  },
  {
   "cell_type": "code",
   "execution_count": 178,
   "id": "ceec11ea",
   "metadata": {
    "scrolled": false
   },
   "outputs": [
    {
     "data": {
      "text/html": [
       "<div>\n",
       "<style scoped>\n",
       "    .dataframe tbody tr th:only-of-type {\n",
       "        vertical-align: middle;\n",
       "    }\n",
       "\n",
       "    .dataframe tbody tr th {\n",
       "        vertical-align: top;\n",
       "    }\n",
       "\n",
       "    .dataframe thead th {\n",
       "        text-align: right;\n",
       "    }\n",
       "</style>\n",
       "<table border=\"1\" class=\"dataframe\">\n",
       "  <thead>\n",
       "    <tr style=\"text-align: right;\">\n",
       "      <th></th>\n",
       "      <th>Gender</th>\n",
       "      <th>Age</th>\n",
       "      <th>Hypertension</th>\n",
       "      <th>Heart_Disease</th>\n",
       "      <th>Ever_Married</th>\n",
       "      <th>Work_Type</th>\n",
       "      <th>Residence_type</th>\n",
       "      <th>AVG_Glucose_Level</th>\n",
       "      <th>BMI</th>\n",
       "      <th>Smoking Status</th>\n",
       "      <th>Age_Interval</th>\n",
       "      <th>Weight Condition</th>\n",
       "      <th>Glucose Condition</th>\n",
       "      <th>Age-Group</th>\n",
       "      <th>is_Urban</th>\n",
       "      <th>Stroke_Status</th>\n",
       "    </tr>\n",
       "  </thead>\n",
       "  <tbody>\n",
       "    <tr>\n",
       "      <th>0</th>\n",
       "      <td>Male</td>\n",
       "      <td>35.0</td>\n",
       "      <td>0</td>\n",
       "      <td>0</td>\n",
       "      <td>0</td>\n",
       "      <td>Private</td>\n",
       "      <td>Rural</td>\n",
       "      <td>85.37</td>\n",
       "      <td>33.0</td>\n",
       "      <td>never smoked</td>\n",
       "      <td>30-40</td>\n",
       "      <td>Obese</td>\n",
       "      <td>Normal</td>\n",
       "      <td>4</td>\n",
       "      <td>0</td>\n",
       "      <td>0</td>\n",
       "    </tr>\n",
       "    <tr>\n",
       "      <th>1</th>\n",
       "      <td>Male</td>\n",
       "      <td>34.0</td>\n",
       "      <td>0</td>\n",
       "      <td>0</td>\n",
       "      <td>1</td>\n",
       "      <td>Private</td>\n",
       "      <td>Urban</td>\n",
       "      <td>80.81</td>\n",
       "      <td>33.2</td>\n",
       "      <td>never smoked</td>\n",
       "      <td>30-40</td>\n",
       "      <td>Obese</td>\n",
       "      <td>Normal</td>\n",
       "      <td>4</td>\n",
       "      <td>1</td>\n",
       "      <td>0</td>\n",
       "    </tr>\n",
       "    <tr>\n",
       "      <th>2</th>\n",
       "      <td>Female</td>\n",
       "      <td>31.0</td>\n",
       "      <td>0</td>\n",
       "      <td>0</td>\n",
       "      <td>1</td>\n",
       "      <td>Private</td>\n",
       "      <td>Urban</td>\n",
       "      <td>98.99</td>\n",
       "      <td>31.2</td>\n",
       "      <td>never smoked</td>\n",
       "      <td>30-40</td>\n",
       "      <td>Obese</td>\n",
       "      <td>Normal</td>\n",
       "      <td>4</td>\n",
       "      <td>1</td>\n",
       "      <td>0</td>\n",
       "    </tr>\n",
       "  </tbody>\n",
       "</table>\n",
       "</div>"
      ],
      "text/plain": [
       "   Gender   Age  Hypertension  Heart_Disease  Ever_Married Work_Type  \\\n",
       "0    Male  35.0             0              0             0   Private   \n",
       "1    Male  34.0             0              0             1   Private   \n",
       "2  Female  31.0             0              0             1   Private   \n",
       "\n",
       "  Residence_type  AVG_Glucose_Level   BMI Smoking Status Age_Interval  \\\n",
       "0          Rural              85.37  33.0   never smoked        30-40   \n",
       "1          Urban              80.81  33.2   never smoked        30-40   \n",
       "2          Urban              98.99  31.2   never smoked        30-40   \n",
       "\n",
       "  Weight Condition Glucose Condition  Age-Group  is_Urban  Stroke_Status  \n",
       "0            Obese            Normal          4         0              0  \n",
       "1            Obese            Normal          4         1              0  \n",
       "2            Obese            Normal          4         1              0  "
      ]
     },
     "execution_count": 178,
     "metadata": {},
     "output_type": "execute_result"
    }
   ],
   "source": [
    "df = pd.read_excel('DataFromPowerBI.xlsx')\n",
    "df.head(3)"
   ]
  },
  {
   "cell_type": "code",
   "execution_count": 179,
   "id": "c7671476",
   "metadata": {},
   "outputs": [],
   "source": [
    "df = df.drop(['Age','Age_Interval','BMI','AVG_Glucose_Level','Residence_type','Gender'],axis=1)"
   ]
  },
  {
   "cell_type": "code",
   "execution_count": 180,
   "id": "6d040869",
   "metadata": {
    "scrolled": false
   },
   "outputs": [
    {
     "name": "stdout",
     "output_type": "stream",
     "text": [
      "<class 'pandas.core.frame.DataFrame'>\n",
      "RangeIndex: 5109 entries, 0 to 5108\n",
      "Data columns (total 10 columns):\n",
      " #   Column             Non-Null Count  Dtype \n",
      "---  ------             --------------  ----- \n",
      " 0   Hypertension       5109 non-null   int64 \n",
      " 1   Heart_Disease      5109 non-null   int64 \n",
      " 2   Ever_Married       5109 non-null   int64 \n",
      " 3   Work_Type          5109 non-null   object\n",
      " 4   Smoking Status     5109 non-null   object\n",
      " 5   Weight Condition   5109 non-null   object\n",
      " 6   Glucose Condition  5109 non-null   object\n",
      " 7   Age-Group          5109 non-null   int64 \n",
      " 8   is_Urban           5109 non-null   int64 \n",
      " 9   Stroke_Status      5109 non-null   int64 \n",
      "dtypes: int64(6), object(4)\n",
      "memory usage: 399.3+ KB\n"
     ]
    }
   ],
   "source": [
    "df.info()"
   ]
  },
  {
   "cell_type": "code",
   "execution_count": 181,
   "id": "bad97c8a",
   "metadata": {},
   "outputs": [
    {
     "data": {
      "text/html": [
       "<div>\n",
       "<style scoped>\n",
       "    .dataframe tbody tr th:only-of-type {\n",
       "        vertical-align: middle;\n",
       "    }\n",
       "\n",
       "    .dataframe tbody tr th {\n",
       "        vertical-align: top;\n",
       "    }\n",
       "\n",
       "    .dataframe thead th {\n",
       "        text-align: right;\n",
       "    }\n",
       "</style>\n",
       "<table border=\"1\" class=\"dataframe\">\n",
       "  <thead>\n",
       "    <tr style=\"text-align: right;\">\n",
       "      <th></th>\n",
       "      <th>count</th>\n",
       "      <th>mean</th>\n",
       "      <th>std</th>\n",
       "      <th>min</th>\n",
       "      <th>25%</th>\n",
       "      <th>50%</th>\n",
       "      <th>75%</th>\n",
       "      <th>max</th>\n",
       "    </tr>\n",
       "  </thead>\n",
       "  <tbody>\n",
       "    <tr>\n",
       "      <th>Hypertension</th>\n",
       "      <td>5109.0</td>\n",
       "      <td>0.097475</td>\n",
       "      <td>0.296633</td>\n",
       "      <td>0.0</td>\n",
       "      <td>0.0</td>\n",
       "      <td>0.0</td>\n",
       "      <td>0.0</td>\n",
       "      <td>1.0</td>\n",
       "    </tr>\n",
       "    <tr>\n",
       "      <th>Heart_Disease</th>\n",
       "      <td>5109.0</td>\n",
       "      <td>0.054022</td>\n",
       "      <td>0.226084</td>\n",
       "      <td>0.0</td>\n",
       "      <td>0.0</td>\n",
       "      <td>0.0</td>\n",
       "      <td>0.0</td>\n",
       "      <td>1.0</td>\n",
       "    </tr>\n",
       "    <tr>\n",
       "      <th>Ever_Married</th>\n",
       "      <td>5109.0</td>\n",
       "      <td>0.656293</td>\n",
       "      <td>0.474991</td>\n",
       "      <td>0.0</td>\n",
       "      <td>0.0</td>\n",
       "      <td>1.0</td>\n",
       "      <td>1.0</td>\n",
       "      <td>1.0</td>\n",
       "    </tr>\n",
       "    <tr>\n",
       "      <th>Age-Group</th>\n",
       "      <td>5109.0</td>\n",
       "      <td>4.883735</td>\n",
       "      <td>2.264384</td>\n",
       "      <td>1.0</td>\n",
       "      <td>3.0</td>\n",
       "      <td>5.0</td>\n",
       "      <td>7.0</td>\n",
       "      <td>9.0</td>\n",
       "    </tr>\n",
       "    <tr>\n",
       "      <th>is_Urban</th>\n",
       "      <td>5109.0</td>\n",
       "      <td>0.508123</td>\n",
       "      <td>0.499983</td>\n",
       "      <td>0.0</td>\n",
       "      <td>0.0</td>\n",
       "      <td>1.0</td>\n",
       "      <td>1.0</td>\n",
       "      <td>1.0</td>\n",
       "    </tr>\n",
       "    <tr>\n",
       "      <th>Stroke_Status</th>\n",
       "      <td>5109.0</td>\n",
       "      <td>0.048738</td>\n",
       "      <td>0.215340</td>\n",
       "      <td>0.0</td>\n",
       "      <td>0.0</td>\n",
       "      <td>0.0</td>\n",
       "      <td>0.0</td>\n",
       "      <td>1.0</td>\n",
       "    </tr>\n",
       "  </tbody>\n",
       "</table>\n",
       "</div>"
      ],
      "text/plain": [
       "                count      mean       std  min  25%  50%  75%  max\n",
       "Hypertension   5109.0  0.097475  0.296633  0.0  0.0  0.0  0.0  1.0\n",
       "Heart_Disease  5109.0  0.054022  0.226084  0.0  0.0  0.0  0.0  1.0\n",
       "Ever_Married   5109.0  0.656293  0.474991  0.0  0.0  1.0  1.0  1.0\n",
       "Age-Group      5109.0  4.883735  2.264384  1.0  3.0  5.0  7.0  9.0\n",
       "is_Urban       5109.0  0.508123  0.499983  0.0  0.0  1.0  1.0  1.0\n",
       "Stroke_Status  5109.0  0.048738  0.215340  0.0  0.0  0.0  0.0  1.0"
      ]
     },
     "execution_count": 181,
     "metadata": {},
     "output_type": "execute_result"
    }
   ],
   "source": [
    "df.describe().T"
   ]
  },
  {
   "cell_type": "code",
   "execution_count": 182,
   "id": "4e806404",
   "metadata": {
    "scrolled": false
   },
   "outputs": [
    {
     "data": {
      "text/html": [
       "<div>\n",
       "<style scoped>\n",
       "    .dataframe tbody tr th:only-of-type {\n",
       "        vertical-align: middle;\n",
       "    }\n",
       "\n",
       "    .dataframe tbody tr th {\n",
       "        vertical-align: top;\n",
       "    }\n",
       "\n",
       "    .dataframe thead th {\n",
       "        text-align: right;\n",
       "    }\n",
       "</style>\n",
       "<table border=\"1\" class=\"dataframe\">\n",
       "  <thead>\n",
       "    <tr style=\"text-align: right;\">\n",
       "      <th></th>\n",
       "      <th>count</th>\n",
       "      <th>unique</th>\n",
       "      <th>top</th>\n",
       "      <th>freq</th>\n",
       "    </tr>\n",
       "  </thead>\n",
       "  <tbody>\n",
       "    <tr>\n",
       "      <th>Work_Type</th>\n",
       "      <td>5109</td>\n",
       "      <td>5</td>\n",
       "      <td>Private</td>\n",
       "      <td>2924</td>\n",
       "    </tr>\n",
       "    <tr>\n",
       "      <th>Smoking Status</th>\n",
       "      <td>5109</td>\n",
       "      <td>4</td>\n",
       "      <td>never smoked</td>\n",
       "      <td>1892</td>\n",
       "    </tr>\n",
       "    <tr>\n",
       "      <th>Weight Condition</th>\n",
       "      <td>5109</td>\n",
       "      <td>5</td>\n",
       "      <td>Obese</td>\n",
       "      <td>1920</td>\n",
       "    </tr>\n",
       "    <tr>\n",
       "      <th>Glucose Condition</th>\n",
       "      <td>5109</td>\n",
       "      <td>3</td>\n",
       "      <td>Normal</td>\n",
       "      <td>3131</td>\n",
       "    </tr>\n",
       "  </tbody>\n",
       "</table>\n",
       "</div>"
      ],
      "text/plain": [
       "                  count unique           top  freq\n",
       "Work_Type          5109      5       Private  2924\n",
       "Smoking Status     5109      4  never smoked  1892\n",
       "Weight Condition   5109      5         Obese  1920\n",
       "Glucose Condition  5109      3        Normal  3131"
      ]
     },
     "execution_count": 182,
     "metadata": {},
     "output_type": "execute_result"
    }
   ],
   "source": [
    "df.describe(include = 'object').T"
   ]
  },
  {
   "cell_type": "code",
   "execution_count": 183,
   "id": "686c4095",
   "metadata": {
    "scrolled": true
   },
   "outputs": [
    {
     "data": {
      "text/plain": [
       "never smoked       1892\n",
       "Unknown            1544\n",
       "formerly smoked     884\n",
       "smokes              789\n",
       "Name: Smoking Status, dtype: int64"
      ]
     },
     "execution_count": 183,
     "metadata": {},
     "output_type": "execute_result"
    }
   ],
   "source": [
    "df['Smoking Status'].value_counts()"
   ]
  },
  {
   "cell_type": "code",
   "execution_count": 184,
   "id": "a5252842",
   "metadata": {
    "scrolled": true
   },
   "outputs": [
    {
     "data": {
      "text/plain": [
       "Obese          1920\n",
       "Overweight     1409\n",
       "Normal         1242\n",
       "Underweight     337\n",
       "Unknown         201\n",
       "Name: Weight Condition, dtype: int64"
      ]
     },
     "execution_count": 184,
     "metadata": {},
     "output_type": "execute_result"
    }
   ],
   "source": [
    "df['Weight Condition'].value_counts()"
   ]
  },
  {
   "cell_type": "markdown",
   "id": "c9d3f2b1",
   "metadata": {},
   "source": [
    "Assumption: Age group 1 has never smoked:"
   ]
  },
  {
   "cell_type": "code",
   "execution_count": 185,
   "id": "41002829",
   "metadata": {},
   "outputs": [
    {
     "data": {
      "text/plain": [
       "never smoked       2364\n",
       "Unknown            1072\n",
       "formerly smoked     884\n",
       "smokes              789\n",
       "Name: Smoking Status, dtype: int64"
      ]
     },
     "execution_count": 185,
     "metadata": {},
     "output_type": "execute_result"
    }
   ],
   "source": [
    "mask = (df['Smoking Status'] == 'Unknown') & (df['Age-Group']==1)\n",
    "df.loc[mask,'Smoking Status'] = 'never smoked'\n",
    "df['Smoking Status'].value_counts()"
   ]
  },
  {
   "cell_type": "markdown",
   "id": "7d263043",
   "metadata": {},
   "source": [
    "# Method 1: Remove rows containing missing values"
   ]
  },
  {
   "cell_type": "code",
   "execution_count": 186,
   "id": "1baac905",
   "metadata": {},
   "outputs": [],
   "source": [
    "mask = (df['Weight Condition'] =='Unknown') | (df['Smoking Status'] =='Unknown')\n",
    "df_method1 = df.drop(df[mask].index)"
   ]
  },
  {
   "cell_type": "code",
   "execution_count": 187,
   "id": "cb7fb322",
   "metadata": {
    "scrolled": false
   },
   "outputs": [],
   "source": [
    "cols=df_method1.select_dtypes(include=['object']).columns"
   ]
  },
  {
   "cell_type": "code",
   "execution_count": 188,
   "id": "56f411b2",
   "metadata": {
    "scrolled": true
   },
   "outputs": [
    {
     "data": {
      "text/html": [
       "<div>\n",
       "<style scoped>\n",
       "    .dataframe tbody tr th:only-of-type {\n",
       "        vertical-align: middle;\n",
       "    }\n",
       "\n",
       "    .dataframe tbody tr th {\n",
       "        vertical-align: top;\n",
       "    }\n",
       "\n",
       "    .dataframe thead th {\n",
       "        text-align: right;\n",
       "    }\n",
       "</style>\n",
       "<table border=\"1\" class=\"dataframe\">\n",
       "  <thead>\n",
       "    <tr style=\"text-align: right;\">\n",
       "      <th></th>\n",
       "      <th>Work_Type_Govt_job</th>\n",
       "      <th>Work_Type_Never_worked</th>\n",
       "      <th>Work_Type_Private</th>\n",
       "      <th>Work_Type_Self-employed</th>\n",
       "      <th>Work_Type_children</th>\n",
       "      <th>Smoking Status_formerly smoked</th>\n",
       "      <th>Smoking Status_never smoked</th>\n",
       "      <th>Smoking Status_smokes</th>\n",
       "      <th>Weight Condition_Normal</th>\n",
       "      <th>Weight Condition_Obese</th>\n",
       "      <th>...</th>\n",
       "      <th>Weight Condition_Underweight</th>\n",
       "      <th>Glucose Condition_Diabetes</th>\n",
       "      <th>Glucose Condition_Normal</th>\n",
       "      <th>Glucose Condition_Pre-Diabetes</th>\n",
       "      <th>Hypertension</th>\n",
       "      <th>Heart_Disease</th>\n",
       "      <th>Ever_Married</th>\n",
       "      <th>Age-Group</th>\n",
       "      <th>is_Urban</th>\n",
       "      <th>Stroke_Status</th>\n",
       "    </tr>\n",
       "  </thead>\n",
       "  <tbody>\n",
       "    <tr>\n",
       "      <th>0</th>\n",
       "      <td>0</td>\n",
       "      <td>0</td>\n",
       "      <td>1</td>\n",
       "      <td>0</td>\n",
       "      <td>0</td>\n",
       "      <td>0</td>\n",
       "      <td>1</td>\n",
       "      <td>0</td>\n",
       "      <td>0</td>\n",
       "      <td>1</td>\n",
       "      <td>...</td>\n",
       "      <td>0</td>\n",
       "      <td>0</td>\n",
       "      <td>1</td>\n",
       "      <td>0</td>\n",
       "      <td>0</td>\n",
       "      <td>0</td>\n",
       "      <td>0</td>\n",
       "      <td>4</td>\n",
       "      <td>0</td>\n",
       "      <td>0</td>\n",
       "    </tr>\n",
       "    <tr>\n",
       "      <th>1</th>\n",
       "      <td>0</td>\n",
       "      <td>0</td>\n",
       "      <td>1</td>\n",
       "      <td>0</td>\n",
       "      <td>0</td>\n",
       "      <td>0</td>\n",
       "      <td>1</td>\n",
       "      <td>0</td>\n",
       "      <td>0</td>\n",
       "      <td>1</td>\n",
       "      <td>...</td>\n",
       "      <td>0</td>\n",
       "      <td>0</td>\n",
       "      <td>1</td>\n",
       "      <td>0</td>\n",
       "      <td>0</td>\n",
       "      <td>0</td>\n",
       "      <td>1</td>\n",
       "      <td>4</td>\n",
       "      <td>1</td>\n",
       "      <td>0</td>\n",
       "    </tr>\n",
       "    <tr>\n",
       "      <th>2</th>\n",
       "      <td>0</td>\n",
       "      <td>0</td>\n",
       "      <td>1</td>\n",
       "      <td>0</td>\n",
       "      <td>0</td>\n",
       "      <td>0</td>\n",
       "      <td>1</td>\n",
       "      <td>0</td>\n",
       "      <td>0</td>\n",
       "      <td>1</td>\n",
       "      <td>...</td>\n",
       "      <td>0</td>\n",
       "      <td>0</td>\n",
       "      <td>1</td>\n",
       "      <td>0</td>\n",
       "      <td>0</td>\n",
       "      <td>0</td>\n",
       "      <td>1</td>\n",
       "      <td>4</td>\n",
       "      <td>1</td>\n",
       "      <td>0</td>\n",
       "    </tr>\n",
       "    <tr>\n",
       "      <th>3</th>\n",
       "      <td>0</td>\n",
       "      <td>0</td>\n",
       "      <td>1</td>\n",
       "      <td>0</td>\n",
       "      <td>0</td>\n",
       "      <td>0</td>\n",
       "      <td>1</td>\n",
       "      <td>0</td>\n",
       "      <td>0</td>\n",
       "      <td>1</td>\n",
       "      <td>...</td>\n",
       "      <td>0</td>\n",
       "      <td>0</td>\n",
       "      <td>1</td>\n",
       "      <td>0</td>\n",
       "      <td>0</td>\n",
       "      <td>0</td>\n",
       "      <td>1</td>\n",
       "      <td>4</td>\n",
       "      <td>0</td>\n",
       "      <td>0</td>\n",
       "    </tr>\n",
       "    <tr>\n",
       "      <th>4</th>\n",
       "      <td>0</td>\n",
       "      <td>0</td>\n",
       "      <td>1</td>\n",
       "      <td>0</td>\n",
       "      <td>0</td>\n",
       "      <td>0</td>\n",
       "      <td>1</td>\n",
       "      <td>0</td>\n",
       "      <td>0</td>\n",
       "      <td>1</td>\n",
       "      <td>...</td>\n",
       "      <td>0</td>\n",
       "      <td>0</td>\n",
       "      <td>1</td>\n",
       "      <td>0</td>\n",
       "      <td>0</td>\n",
       "      <td>0</td>\n",
       "      <td>1</td>\n",
       "      <td>4</td>\n",
       "      <td>1</td>\n",
       "      <td>0</td>\n",
       "    </tr>\n",
       "  </tbody>\n",
       "</table>\n",
       "<p>5 rows × 21 columns</p>\n",
       "</div>"
      ],
      "text/plain": [
       "   Work_Type_Govt_job  Work_Type_Never_worked  Work_Type_Private  \\\n",
       "0                   0                       0                  1   \n",
       "1                   0                       0                  1   \n",
       "2                   0                       0                  1   \n",
       "3                   0                       0                  1   \n",
       "4                   0                       0                  1   \n",
       "\n",
       "   Work_Type_Self-employed  Work_Type_children  \\\n",
       "0                        0                   0   \n",
       "1                        0                   0   \n",
       "2                        0                   0   \n",
       "3                        0                   0   \n",
       "4                        0                   0   \n",
       "\n",
       "   Smoking Status_formerly smoked  Smoking Status_never smoked  \\\n",
       "0                               0                            1   \n",
       "1                               0                            1   \n",
       "2                               0                            1   \n",
       "3                               0                            1   \n",
       "4                               0                            1   \n",
       "\n",
       "   Smoking Status_smokes  Weight Condition_Normal  Weight Condition_Obese  \\\n",
       "0                      0                        0                       1   \n",
       "1                      0                        0                       1   \n",
       "2                      0                        0                       1   \n",
       "3                      0                        0                       1   \n",
       "4                      0                        0                       1   \n",
       "\n",
       "   ...  Weight Condition_Underweight  Glucose Condition_Diabetes  \\\n",
       "0  ...                             0                           0   \n",
       "1  ...                             0                           0   \n",
       "2  ...                             0                           0   \n",
       "3  ...                             0                           0   \n",
       "4  ...                             0                           0   \n",
       "\n",
       "   Glucose Condition_Normal  Glucose Condition_Pre-Diabetes  Hypertension  \\\n",
       "0                         1                               0             0   \n",
       "1                         1                               0             0   \n",
       "2                         1                               0             0   \n",
       "3                         1                               0             0   \n",
       "4                         1                               0             0   \n",
       "\n",
       "   Heart_Disease  Ever_Married  Age-Group  is_Urban  Stroke_Status  \n",
       "0              0             0          4         0              0  \n",
       "1              0             1          4         1              0  \n",
       "2              0             1          4         1              0  \n",
       "3              0             1          4         0              0  \n",
       "4              0             1          4         1              0  \n",
       "\n",
       "[5 rows x 21 columns]"
      ]
     },
     "execution_count": 188,
     "metadata": {},
     "output_type": "execute_result"
    }
   ],
   "source": [
    "Encoded_df = pd.get_dummies(df_method1[cols])\n",
    "cols=df_method1.select_dtypes(include=['int']).columns\n",
    "Encoded_df = pd.concat([Encoded_df, df_method1[cols]], axis=1)\n",
    "Encoded_df.head()"
   ]
  },
  {
   "cell_type": "markdown",
   "id": "5c6572fc",
   "metadata": {},
   "source": [
    "To avoid dummy encoding trap, the redundant columns should be dropped:"
   ]
  },
  {
   "cell_type": "code",
   "execution_count": 189,
   "id": "ada7a212",
   "metadata": {},
   "outputs": [
    {
     "data": {
      "text/plain": [
       "Index(['Work_Type_Govt_job', 'Work_Type_Never_worked', 'Work_Type_Private',\n",
       "       'Work_Type_Self-employed', 'Work_Type_children',\n",
       "       'Smoking Status_formerly smoked', 'Smoking Status_never smoked',\n",
       "       'Smoking Status_smokes', 'Weight Condition_Normal',\n",
       "       'Weight Condition_Obese', 'Weight Condition_Overweight',\n",
       "       'Weight Condition_Underweight', 'Glucose Condition_Diabetes',\n",
       "       'Glucose Condition_Normal', 'Glucose Condition_Pre-Diabetes',\n",
       "       'Hypertension', 'Heart_Disease', 'Ever_Married', 'Age-Group',\n",
       "       'is_Urban', 'Stroke_Status'],\n",
       "      dtype='object')"
      ]
     },
     "execution_count": 189,
     "metadata": {},
     "output_type": "execute_result"
    }
   ],
   "source": [
    "Encoded_df.columns"
   ]
  },
  {
   "cell_type": "code",
   "execution_count": 190,
   "id": "546a75bc",
   "metadata": {},
   "outputs": [],
   "source": [
    "Encoded_df = Encoded_df.drop(['Work_Type_Never_worked','Smoking Status_never smoked','Weight Condition_Normal','Glucose Condition_Normal'],axis=1)"
   ]
  },
  {
   "cell_type": "code",
   "execution_count": 191,
   "id": "51334534",
   "metadata": {
    "scrolled": false
   },
   "outputs": [
    {
     "data": {
      "image/png": "[encoded data removed]",
      "text/plain": [
       "<Figure size 720x504 with 2 Axes>"
      ]
     },
     "metadata": {
      "needs_background": "light"
     },
     "output_type": "display_data"
    }
   ],
   "source": [
    "plt.figure(figsize=(10,7))\n",
    "sns.heatmap(Encoded_df.corr(),annot=True,fmt='.2');"
   ]
  },
  {
   "cell_type": "code",
   "execution_count": 192,
   "id": "315e1e86",
   "metadata": {},
   "outputs": [
    {
     "data": {
      "text/plain": [
       "Work_Type_children               -0.087152\n",
       "Weight Condition_Underweight     -0.058084\n",
       "Glucose Condition_Pre-Diabetes   -0.029367\n",
       "Work_Type_Govt_job               -0.002967\n",
       "is_Urban                          0.005031\n",
       "Smoking Status_smokes             0.015131\n",
       "Work_Type_Private                 0.017293\n",
       "Weight Condition_Overweight       0.034177\n",
       "Weight Condition_Obese            0.035909\n",
       "Smoking Status_formerly smoked    0.054402\n",
       "Work_Type_Self-employed           0.062469\n",
       "Ever_Married                      0.102949\n",
       "Glucose Condition_Diabetes        0.130013\n",
       "Heart_Disease                     0.143976\n",
       "Hypertension                      0.152148\n",
       "Age-Group                         0.235945\n",
       "Stroke_Status                     1.000000\n",
       "Name: Stroke_Status, dtype: float64"
      ]
     },
     "execution_count": 192,
     "metadata": {},
     "output_type": "execute_result"
    }
   ],
   "source": [
    "Encoded_df.corr()['Stroke_Status'].sort_values()"
   ]
  },
  {
   "cell_type": "code",
   "execution_count": 193,
   "id": "a1d520b0",
   "metadata": {
    "scrolled": false
   },
   "outputs": [
    {
     "data": {
      "text/html": [
       "<div>\n",
       "<style scoped>\n",
       "    .dataframe tbody tr th:only-of-type {\n",
       "        vertical-align: middle;\n",
       "    }\n",
       "\n",
       "    .dataframe tbody tr th {\n",
       "        vertical-align: top;\n",
       "    }\n",
       "\n",
       "    .dataframe thead th {\n",
       "        text-align: right;\n",
       "    }\n",
       "</style>\n",
       "<table border=\"1\" class=\"dataframe\">\n",
       "  <thead>\n",
       "    <tr style=\"text-align: right;\">\n",
       "      <th></th>\n",
       "      <th>Attribute</th>\n",
       "      <th>Score</th>\n",
       "    </tr>\n",
       "  </thead>\n",
       "  <tbody>\n",
       "    <tr>\n",
       "      <th>14</th>\n",
       "      <td>Age-Group</td>\n",
       "      <td>228.851227</td>\n",
       "    </tr>\n",
       "    <tr>\n",
       "      <th>11</th>\n",
       "      <td>Hypertension</td>\n",
       "      <td>91.994539</td>\n",
       "    </tr>\n",
       "    <tr>\n",
       "      <th>12</th>\n",
       "      <td>Heart_Disease</td>\n",
       "      <td>82.174140</td>\n",
       "    </tr>\n",
       "    <tr>\n",
       "      <th>9</th>\n",
       "      <td>Glucose Condition_Diabetes</td>\n",
       "      <td>66.747241</td>\n",
       "    </tr>\n",
       "    <tr>\n",
       "      <th>13</th>\n",
       "      <td>Ever_Married</td>\n",
       "      <td>41.583935</td>\n",
       "    </tr>\n",
       "    <tr>\n",
       "      <th>3</th>\n",
       "      <td>Work_Type_children</td>\n",
       "      <td>29.711022</td>\n",
       "    </tr>\n",
       "    <tr>\n",
       "      <th>2</th>\n",
       "      <td>Work_Type_Self-employed</td>\n",
       "      <td>15.208221</td>\n",
       "    </tr>\n",
       "    <tr>\n",
       "      <th>8</th>\n",
       "      <td>Weight Condition_Underweight</td>\n",
       "      <td>13.141392</td>\n",
       "    </tr>\n",
       "    <tr>\n",
       "      <th>4</th>\n",
       "      <td>Smoking Status_formerly smoked</td>\n",
       "      <td>11.523078</td>\n",
       "    </tr>\n",
       "    <tr>\n",
       "      <th>6</th>\n",
       "      <td>Weight Condition_Obese</td>\n",
       "      <td>5.012042</td>\n",
       "    </tr>\n",
       "    <tr>\n",
       "      <th>7</th>\n",
       "      <td>Weight Condition_Overweight</td>\n",
       "      <td>4.539802</td>\n",
       "    </tr>\n",
       "    <tr>\n",
       "      <th>10</th>\n",
       "      <td>Glucose Condition_Pre-Diabetes</td>\n",
       "      <td>3.350737</td>\n",
       "    </tr>\n",
       "    <tr>\n",
       "      <th>1</th>\n",
       "      <td>Work_Type_Private</td>\n",
       "      <td>1.161205</td>\n",
       "    </tr>\n",
       "    <tr>\n",
       "      <th>5</th>\n",
       "      <td>Smoking Status_smokes</td>\n",
       "      <td>0.889000</td>\n",
       "    </tr>\n",
       "    <tr>\n",
       "      <th>15</th>\n",
       "      <td>is_Urban</td>\n",
       "      <td>0.098265</td>\n",
       "    </tr>\n",
       "    <tr>\n",
       "      <th>0</th>\n",
       "      <td>Work_Type_Govt_job</td>\n",
       "      <td>0.034163</td>\n",
       "    </tr>\n",
       "  </tbody>\n",
       "</table>\n",
       "</div>"
      ],
      "text/plain": [
       "                         Attribute       Score\n",
       "14                       Age-Group  228.851227\n",
       "11                    Hypertension   91.994539\n",
       "12                   Heart_Disease   82.174140\n",
       "9       Glucose Condition_Diabetes   66.747241\n",
       "13                    Ever_Married   41.583935\n",
       "3               Work_Type_children   29.711022\n",
       "2          Work_Type_Self-employed   15.208221\n",
       "8     Weight Condition_Underweight   13.141392\n",
       "4   Smoking Status_formerly smoked   11.523078\n",
       "6           Weight Condition_Obese    5.012042\n",
       "7      Weight Condition_Overweight    4.539802\n",
       "10  Glucose Condition_Pre-Diabetes    3.350737\n",
       "1                Work_Type_Private    1.161205\n",
       "5            Smoking Status_smokes    0.889000\n",
       "15                        is_Urban    0.098265\n",
       "0               Work_Type_Govt_job    0.034163"
      ]
     },
     "execution_count": 193,
     "metadata": {},
     "output_type": "execute_result"
    }
   ],
   "source": [
    "classifier = SelectKBest(score_func=f_classif,k=5)\n",
    "fits = classifier.fit(Encoded_df.drop('Stroke_Status',axis=1),Encoded_df['Stroke_Status'])\n",
    "x=pd.DataFrame(fits.scores_)\n",
    "columns = pd.DataFrame(Encoded_df.drop('Stroke_Status',axis=1).columns)\n",
    "fscores = pd.concat([columns,x],axis=1)\n",
    "fscores.columns = ['Attribute','Score']\n",
    "fscores.sort_values(by='Score',ascending=False)"
   ]
  },
  {
   "cell_type": "code",
   "execution_count": 194,
   "id": "9420af61",
   "metadata": {},
   "outputs": [],
   "source": [
    "# train_x,test_x,train_y,test_y=train_test_split(df[cols],df['stroke'],random_state=1255,test_size=0.25)\n",
    "# #Splitting data\n"
   ]
  },
  {
   "cell_type": "code",
   "execution_count": 195,
   "id": "f18f2381",
   "metadata": {},
   "outputs": [],
   "source": [
    "# smote=SMOTE()\n",
    "# train_x,train_y=smote.fit_resample(train_x,train_y)\n",
    "# test_x,test_y=smote.fit_resample(test_x,test_y)"
   ]
  },
  {
   "cell_type": "code",
   "execution_count": 196,
   "id": "83eba1e5",
   "metadata": {},
   "outputs": [],
   "source": [
    "# xgc=XGBClassifier(objective='binary:logistic',n_estimators=100000,max_depth=5,learning_rate=0.001,n_jobs=-1)\n",
    "# xgc.fit(train_x,train_y)\n",
    "# predict=xgc.predict(test_x)\n",
    "# print('Accuracy --> ',accuracy_score(predict,test_y))\n",
    "# print('F1 Score --> ',f1_score(predict,test_y))\n",
    "# print('Classification Report  --> \\n',classification_report(predict,test_y))"
   ]
  },
  {
   "cell_type": "markdown",
   "id": "ef469de0",
   "metadata": {},
   "source": [
    "It seemed like both BMI and Age were positively correlated, though the association was not strong.\n",
    "Older patient was more likely to suffer a stroke than a younger patient.\n",
    "Higher BMI does not increase the stroke risk.\n",
    "Diabetes is one of the risk factors for stroke occurrence and prediabetes patients have an increased risk of stroke.\n",
    "Higher proportion of patients who suffered from hypertension or heart disease experienced a stroke, all else being equal.\n",
    "Regardless of patient’s gender, and where they stayed, they have the same likelihood to experience stroke\n",
    "Work type variable was highly associated with age.\n",
    "Marital status variable was highly associated with age"
   ]
  },
  {
   "cell_type": "markdown",
   "id": "ffb3245b",
   "metadata": {},
   "source": [
    "**Defining  Metrics**"
   ]
  },
  {
   "cell_type": "code",
   "execution_count": 197,
   "id": "5adfb4c6",
   "metadata": {},
   "outputs": [],
   "source": [
    "# Defining function for calculating Metrics\n",
    "\n",
    "def calculate_metrics(model_name,y_test, y_pred):\n",
    "    cm = confusion_matrix(y_test,y_pred)\n",
    "    TP = cm[0,0]\n",
    "    FP = cm[0,1]\n",
    "    FN = cm[1,0]\n",
    "    TN = cm[1,1]\n",
    "    \n",
    "    Sensitivity      = round(TP/(TP+FN),2)\n",
    "    Specificity      = round(TN/(TN+FP),2)\n",
    "    Precision        = round(TP/(TP+FP),2)\n",
    "    Accuracy         = round((TP+TN)/(TP+FP+FN+TN),2)\n",
    "    F1               = (2*Sensitivity*Precision)/(Sensitivity+Precision)\n",
    "             \n",
    "    return pd.DataFrame({f'{model_name}':{\n",
    "        'Sensitivity': Sensitivity,\n",
    "        'Specificity': Specificity,\n",
    "        'Precision'  : Precision,\n",
    "        'Accuracy'   : Accuracy,\n",
    "        'F1'         : F1\n",
    "    }})"
   ]
  },
  {
   "cell_type": "markdown",
   "id": "5f7d45f4",
   "metadata": {},
   "source": [
    "**Defining Train and Test Splits**"
   ]
  },
  {
   "cell_type": "code",
   "execution_count": 198,
   "id": "9b1db523",
   "metadata": {},
   "outputs": [],
   "source": [
    "X = Encoded_df.iloc[:,0:-1]\n",
    "y = Encoded_df.iloc[:,-1]\n",
    "X_train,X_test,y_train,y_test  = train_test_split(X, y, test_size=0.50 ,random_state=1)"
   ]
  },
  {
   "cell_type": "markdown",
   "id": "277da177",
   "metadata": {},
   "source": [
    "**1) Logistic Regression with Cross-Validation**"
   ]
  },
  {
   "cell_type": "code",
   "execution_count": 199,
   "id": "444ca1f6",
   "metadata": {
    "scrolled": false
   },
   "outputs": [
    {
     "data": {
      "image/png": "[encoded data removed]",
      "text/plain": [
       "<Figure size 720x288 with 1 Axes>"
      ]
     },
     "metadata": {
      "needs_background": "light"
     },
     "output_type": "display_data"
    }
   ],
   "source": [
    "Logistic_CV_model = LogisticRegressionCV(max_iter=5000)\n",
    "Logistic_CV_model.fit(X_train,y_train)\n",
    "coefs = pd.Series(index=X.columns,data=Logistic_CV_model.coef_[0])\n",
    "coefs = coefs.sort_values()\n",
    "plt.figure(figsize=(10,4))\n",
    "sns.barplot(x=coefs.index,y=coefs.values,palette='coolwarm')\n",
    "plt.xticks(rotation=90);"
   ]
  },
  {
   "cell_type": "markdown",
   "id": "417ed60b",
   "metadata": {},
   "source": [
    "BONUS: CHECK CONDITION BOUNDARY FOR POSITIVE EFFECT ON STROKE"
   ]
  },
  {
   "cell_type": "code",
   "execution_count": 200,
   "id": "e320214d",
   "metadata": {},
   "outputs": [
    {
     "data": {
      "image/png": "[encoded data removed]",
      "text/plain": [
       "<Figure size 432x288 with 2 Axes>"
      ]
     },
     "metadata": {
      "needs_background": "light"
     },
     "output_type": "display_data"
    }
   ],
   "source": [
    "y_pred = Logistic_CV_model.predict(X_test)\n",
    "plot_confusion_matrix(Logistic_CV_model,X_test,y_test, normalize = 'all');"
   ]
  },
  {
   "cell_type": "code",
   "execution_count": 201,
   "id": "14e85cfd",
   "metadata": {},
   "outputs": [
    {
     "data": {
      "text/plain": [
       "0.9536559510243023"
      ]
     },
     "execution_count": 201,
     "metadata": {},
     "output_type": "execute_result"
    }
   ],
   "source": [
    "cross_val_score(Logistic_CV_model, X, y, cv=10).mean()"
   ]
  },
  {
   "cell_type": "code",
   "execution_count": 202,
   "id": "3cd72bdd",
   "metadata": {},
   "outputs": [
    {
     "data": {
      "text/html": [
       "<div>\n",
       "<style scoped>\n",
       "    .dataframe tbody tr th:only-of-type {\n",
       "        vertical-align: middle;\n",
       "    }\n",
       "\n",
       "    .dataframe tbody tr th {\n",
       "        vertical-align: top;\n",
       "    }\n",
       "\n",
       "    .dataframe thead th {\n",
       "        text-align: right;\n",
       "    }\n",
       "</style>\n",
       "<table border=\"1\" class=\"dataframe\">\n",
       "  <thead>\n",
       "    <tr style=\"text-align: right;\">\n",
       "      <th></th>\n",
       "      <th>Logistic Regression</th>\n",
       "    </tr>\n",
       "  </thead>\n",
       "  <tbody>\n",
       "    <tr>\n",
       "      <th>Accuracy</th>\n",
       "      <td>0.950000</td>\n",
       "    </tr>\n",
       "    <tr>\n",
       "      <th>F1</th>\n",
       "      <td>0.979592</td>\n",
       "    </tr>\n",
       "    <tr>\n",
       "      <th>Precision</th>\n",
       "      <td>1.000000</td>\n",
       "    </tr>\n",
       "    <tr>\n",
       "      <th>Sensitivity</th>\n",
       "      <td>0.960000</td>\n",
       "    </tr>\n",
       "    <tr>\n",
       "      <th>Specificity</th>\n",
       "      <td>0.400000</td>\n",
       "    </tr>\n",
       "  </tbody>\n",
       "</table>\n",
       "</div>"
      ],
      "text/plain": [
       "             Logistic Regression\n",
       "Accuracy                0.950000\n",
       "F1                      0.979592\n",
       "Precision               1.000000\n",
       "Sensitivity             0.960000\n",
       "Specificity             0.400000"
      ]
     },
     "execution_count": 202,
     "metadata": {},
     "output_type": "execute_result"
    }
   ],
   "source": [
    "df_metrics_method_1 = calculate_metrics(\"Logistic Regression\",y_test, y_pred)\n",
    "df_metrics_method_1"
   ]
  },
  {
   "cell_type": "markdown",
   "id": "e26f0dfb",
   "metadata": {},
   "source": [
    "**-----------------------------------------------------------------------------------------------------------------------------------------------------------------------------------**"
   ]
  },
  {
   "cell_type": "markdown",
   "id": "a8459f7f",
   "metadata": {},
   "source": [
    "**2) Support Vector Machine**"
   ]
  },
  {
   "cell_type": "code",
   "execution_count": 203,
   "id": "eeacbb01",
   "metadata": {
    "scrolled": true
   },
   "outputs": [
    {
     "data": {
      "image/png": "[encoded data removed]",
      "text/plain": [
       "<Figure size 432x288 with 2 Axes>"
      ]
     },
     "metadata": {
      "needs_background": "light"
     },
     "output_type": "display_data"
    }
   ],
   "source": [
    "svm_model = svm.SVC(kernel='linear')\n",
    "svm_model.fit(X_train, y_train)\n",
    "y_pred = svm_model.predict(X_test)\n",
    "plot_confusion_matrix(svm_model,X_test,y_test, normalize='all');"
   ]
  },
  {
   "cell_type": "code",
   "execution_count": 204,
   "id": "49d1df67",
   "metadata": {},
   "outputs": [
    {
     "data": {
      "text/plain": [
       "0.9536559510243023"
      ]
     },
     "execution_count": 204,
     "metadata": {},
     "output_type": "execute_result"
    }
   ],
   "source": [
    "cross_val_score(svm_model, X, y, cv=10).mean()"
   ]
  },
  {
   "cell_type": "code",
   "execution_count": 205,
   "id": "42e4d511",
   "metadata": {},
   "outputs": [
    {
     "name": "stderr",
     "output_type": "stream",
     "text": [
      "C:\\Users\\Admin\\AppData\\Local\\Temp/ipykernel_8164/313925009.py:11: RuntimeWarning: invalid value encountered in longlong_scalars\n",
      "  Specificity      = round(TN/(TN+FP),2)\n"
     ]
    },
    {
     "data": {
      "text/html": [
       "<div>\n",
       "<style scoped>\n",
       "    .dataframe tbody tr th:only-of-type {\n",
       "        vertical-align: middle;\n",
       "    }\n",
       "\n",
       "    .dataframe tbody tr th {\n",
       "        vertical-align: top;\n",
       "    }\n",
       "\n",
       "    .dataframe thead th {\n",
       "        text-align: right;\n",
       "    }\n",
       "</style>\n",
       "<table border=\"1\" class=\"dataframe\">\n",
       "  <thead>\n",
       "    <tr style=\"text-align: right;\">\n",
       "      <th></th>\n",
       "      <th>Logistic Regression</th>\n",
       "      <th>SVM</th>\n",
       "    </tr>\n",
       "  </thead>\n",
       "  <tbody>\n",
       "    <tr>\n",
       "      <th>Accuracy</th>\n",
       "      <td>0.950000</td>\n",
       "      <td>0.960000</td>\n",
       "    </tr>\n",
       "    <tr>\n",
       "      <th>F1</th>\n",
       "      <td>0.979592</td>\n",
       "      <td>0.979592</td>\n",
       "    </tr>\n",
       "    <tr>\n",
       "      <th>Precision</th>\n",
       "      <td>1.000000</td>\n",
       "      <td>1.000000</td>\n",
       "    </tr>\n",
       "    <tr>\n",
       "      <th>Sensitivity</th>\n",
       "      <td>0.960000</td>\n",
       "      <td>0.960000</td>\n",
       "    </tr>\n",
       "    <tr>\n",
       "      <th>Specificity</th>\n",
       "      <td>0.400000</td>\n",
       "      <td>NaN</td>\n",
       "    </tr>\n",
       "  </tbody>\n",
       "</table>\n",
       "</div>"
      ],
      "text/plain": [
       "             Logistic Regression       SVM\n",
       "Accuracy                0.950000  0.960000\n",
       "F1                      0.979592  0.979592\n",
       "Precision               1.000000  1.000000\n",
       "Sensitivity             0.960000  0.960000\n",
       "Specificity             0.400000       NaN"
      ]
     },
     "execution_count": 205,
     "metadata": {},
     "output_type": "execute_result"
    }
   ],
   "source": [
    "df_metrics_method_1 = df_metrics_method_1.merge(calculate_metrics(\"SVM\",y_test, y_pred), left_index=True, right_index=True)\n",
    "df_metrics_method_1"
   ]
  },
  {
   "cell_type": "markdown",
   "id": "ba08f800",
   "metadata": {},
   "source": [
    "**-----------------------------------------------------------------------------------------------------------------------------------------------------------------------------------**"
   ]
  },
  {
   "cell_type": "markdown",
   "id": "2c1bb8bc",
   "metadata": {},
   "source": [
    "**3) Decision Tree**"
   ]
  },
  {
   "cell_type": "code",
   "execution_count": 206,
   "id": "a0b99eec",
   "metadata": {
    "scrolled": false
   },
   "outputs": [
    {
     "data": {
      "image/png": "[encoded data removed]",
      "text/plain": [
       "<Figure size 432x288 with 2 Axes>"
      ]
     },
     "metadata": {
      "needs_background": "light"
     },
     "output_type": "display_data"
    }
   ],
   "source": [
    "DT_model = DecisionTreeClassifier()\n",
    "DT_model.fit(X_train,y_train)\n",
    "y_pred = DT_model.predict(X_test)\n",
    "plot_confusion_matrix(DT_model,X_test,y_test,normalize='all');"
   ]
  },
  {
   "cell_type": "code",
   "execution_count": 207,
   "id": "cc75a532",
   "metadata": {},
   "outputs": [
    {
     "data": {
      "text/plain": [
       "0.7600806985927437"
      ]
     },
     "execution_count": 207,
     "metadata": {},
     "output_type": "execute_result"
    }
   ],
   "source": [
    "cross_val_score(DT_model, X, y, cv=10).mean()"
   ]
  },
  {
   "cell_type": "code",
   "execution_count": 208,
   "id": "63390198",
   "metadata": {},
   "outputs": [
    {
     "data": {
      "text/html": [
       "<div>\n",
       "<style scoped>\n",
       "    .dataframe tbody tr th:only-of-type {\n",
       "        vertical-align: middle;\n",
       "    }\n",
       "\n",
       "    .dataframe tbody tr th {\n",
       "        vertical-align: top;\n",
       "    }\n",
       "\n",
       "    .dataframe thead th {\n",
       "        text-align: right;\n",
       "    }\n",
       "</style>\n",
       "<table border=\"1\" class=\"dataframe\">\n",
       "  <thead>\n",
       "    <tr style=\"text-align: right;\">\n",
       "      <th></th>\n",
       "      <th>Logistic Regression</th>\n",
       "      <th>SVM</th>\n",
       "      <th>Decition Tree</th>\n",
       "    </tr>\n",
       "  </thead>\n",
       "  <tbody>\n",
       "    <tr>\n",
       "      <th>Accuracy</th>\n",
       "      <td>0.950000</td>\n",
       "      <td>0.960000</td>\n",
       "      <td>0.93</td>\n",
       "    </tr>\n",
       "    <tr>\n",
       "      <th>F1</th>\n",
       "      <td>0.979592</td>\n",
       "      <td>0.979592</td>\n",
       "      <td>0.96</td>\n",
       "    </tr>\n",
       "    <tr>\n",
       "      <th>Precision</th>\n",
       "      <td>1.000000</td>\n",
       "      <td>1.000000</td>\n",
       "      <td>0.96</td>\n",
       "    </tr>\n",
       "    <tr>\n",
       "      <th>Sensitivity</th>\n",
       "      <td>0.960000</td>\n",
       "      <td>0.960000</td>\n",
       "      <td>0.96</td>\n",
       "    </tr>\n",
       "    <tr>\n",
       "      <th>Specificity</th>\n",
       "      <td>0.400000</td>\n",
       "      <td>NaN</td>\n",
       "      <td>0.13</td>\n",
       "    </tr>\n",
       "  </tbody>\n",
       "</table>\n",
       "</div>"
      ],
      "text/plain": [
       "             Logistic Regression       SVM  Decition Tree\n",
       "Accuracy                0.950000  0.960000           0.93\n",
       "F1                      0.979592  0.979592           0.96\n",
       "Precision               1.000000  1.000000           0.96\n",
       "Sensitivity             0.960000  0.960000           0.96\n",
       "Specificity             0.400000       NaN           0.13"
      ]
     },
     "execution_count": 208,
     "metadata": {},
     "output_type": "execute_result"
    }
   ],
   "source": [
    "df_metrics_method_1 = df_metrics_method_1.merge(calculate_metrics(\"Decition Tree\",y_test, y_pred), left_index=True, right_index=True)\n",
    "df_metrics_method_1"
   ]
  },
  {
   "cell_type": "markdown",
   "id": "a81bfd83",
   "metadata": {},
   "source": [
    "**-----------------------------------------------------------------------------------------------------------------------------------------------------------------------------------**"
   ]
  },
  {
   "cell_type": "markdown",
   "id": "8b114d73",
   "metadata": {},
   "source": [
    "**4) Random Forests**"
   ]
  },
  {
   "cell_type": "code",
   "execution_count": 209,
   "id": "2f57b58f",
   "metadata": {
    "scrolled": true
   },
   "outputs": [
    {
     "data": {
      "image/png": "[encoded data removed]",
      "text/plain": [
       "<Figure size 432x288 with 2 Axes>"
      ]
     },
     "metadata": {
      "needs_background": "light"
     },
     "output_type": "display_data"
    }
   ],
   "source": [
    "RF_model = RandomForestClassifier(n_estimators=1100)\n",
    "RF_model.fit(X_train,y_train)\n",
    "y_pred = RF_model.predict(X_test)\n",
    "plot_confusion_matrix(RF_model,X_test,y_test,normalize='all');"
   ]
  },
  {
   "cell_type": "code",
   "execution_count": 210,
   "id": "22f2a872",
   "metadata": {},
   "outputs": [
    {
     "data": {
      "text/plain": [
       "0.8694822834123977"
      ]
     },
     "execution_count": 210,
     "metadata": {},
     "output_type": "execute_result"
    }
   ],
   "source": [
    "cross_val_score(RF_model, X, y, cv=10).mean()"
   ]
  },
  {
   "cell_type": "code",
   "execution_count": 211,
   "id": "7bdf4371",
   "metadata": {},
   "outputs": [
    {
     "data": {
      "text/html": [
       "<div>\n",
       "<style scoped>\n",
       "    .dataframe tbody tr th:only-of-type {\n",
       "        vertical-align: middle;\n",
       "    }\n",
       "\n",
       "    .dataframe tbody tr th {\n",
       "        vertical-align: top;\n",
       "    }\n",
       "\n",
       "    .dataframe thead th {\n",
       "        text-align: right;\n",
       "    }\n",
       "</style>\n",
       "<table border=\"1\" class=\"dataframe\">\n",
       "  <thead>\n",
       "    <tr style=\"text-align: right;\">\n",
       "      <th></th>\n",
       "      <th>Logistic Regression</th>\n",
       "      <th>SVM</th>\n",
       "      <th>Decition Tree</th>\n",
       "      <th>Random Forest</th>\n",
       "    </tr>\n",
       "  </thead>\n",
       "  <tbody>\n",
       "    <tr>\n",
       "      <th>Accuracy</th>\n",
       "      <td>0.950000</td>\n",
       "      <td>0.960000</td>\n",
       "      <td>0.93</td>\n",
       "      <td>0.940000</td>\n",
       "    </tr>\n",
       "    <tr>\n",
       "      <th>F1</th>\n",
       "      <td>0.979592</td>\n",
       "      <td>0.979592</td>\n",
       "      <td>0.96</td>\n",
       "      <td>0.969897</td>\n",
       "    </tr>\n",
       "    <tr>\n",
       "      <th>Precision</th>\n",
       "      <td>1.000000</td>\n",
       "      <td>1.000000</td>\n",
       "      <td>0.96</td>\n",
       "      <td>0.980000</td>\n",
       "    </tr>\n",
       "    <tr>\n",
       "      <th>Sensitivity</th>\n",
       "      <td>0.960000</td>\n",
       "      <td>0.960000</td>\n",
       "      <td>0.96</td>\n",
       "      <td>0.960000</td>\n",
       "    </tr>\n",
       "    <tr>\n",
       "      <th>Specificity</th>\n",
       "      <td>0.400000</td>\n",
       "      <td>NaN</td>\n",
       "      <td>0.13</td>\n",
       "      <td>0.150000</td>\n",
       "    </tr>\n",
       "  </tbody>\n",
       "</table>\n",
       "</div>"
      ],
      "text/plain": [
       "             Logistic Regression       SVM  Decition Tree  Random Forest\n",
       "Accuracy                0.950000  0.960000           0.93       0.940000\n",
       "F1                      0.979592  0.979592           0.96       0.969897\n",
       "Precision               1.000000  1.000000           0.96       0.980000\n",
       "Sensitivity             0.960000  0.960000           0.96       0.960000\n",
       "Specificity             0.400000       NaN           0.13       0.150000"
      ]
     },
     "execution_count": 211,
     "metadata": {},
     "output_type": "execute_result"
    }
   ],
   "source": [
    "df_metrics_method_1 = df_metrics_method_1.merge(calculate_metrics(\"Random Forest\",y_test, y_pred), left_index=True, right_index=True)\n",
    "df_metrics_method_1"
   ]
  },
  {
   "cell_type": "markdown",
   "id": "6d0a7499",
   "metadata": {},
   "source": [
    "**-----------------------------------------------------------------------------------------------------------------------------------------------------------------------------------**"
   ]
  },
  {
   "cell_type": "markdown",
   "id": "20bdc760",
   "metadata": {},
   "source": [
    "**5) Naive Bayes**"
   ]
  },
  {
   "cell_type": "code",
   "execution_count": 212,
   "id": "eece73f1",
   "metadata": {},
   "outputs": [
    {
     "data": {
      "image/png": "[encoded data removed]",
      "text/plain": [
       "<Figure size 432x288 with 2 Axes>"
      ]
     },
     "metadata": {
      "needs_background": "light"
     },
     "output_type": "display_data"
    }
   ],
   "source": [
    "NB_model = GaussianNB()\n",
    "NB_model.fit(X_train, y_train)\n",
    "y_pred = NB_model.predict(X_test)\n",
    "plot_confusion_matrix(NB_model,X_test,y_test,normalize='all');"
   ]
  },
  {
   "cell_type": "code",
   "execution_count": 213,
   "id": "1cb7afbc",
   "metadata": {},
   "outputs": [
    {
     "data": {
      "text/plain": [
       "0.33433599236742373"
      ]
     },
     "execution_count": 213,
     "metadata": {},
     "output_type": "execute_result"
    }
   ],
   "source": [
    "cross_val_score(NB_model, X, y, cv=10).mean()"
   ]
  },
  {
   "cell_type": "code",
   "execution_count": 214,
   "id": "e897b747",
   "metadata": {},
   "outputs": [
    {
     "data": {
      "text/html": [
       "<div>\n",
       "<style scoped>\n",
       "    .dataframe tbody tr th:only-of-type {\n",
       "        vertical-align: middle;\n",
       "    }\n",
       "\n",
       "    .dataframe tbody tr th {\n",
       "        vertical-align: top;\n",
       "    }\n",
       "\n",
       "    .dataframe thead th {\n",
       "        text-align: right;\n",
       "    }\n",
       "</style>\n",
       "<table border=\"1\" class=\"dataframe\">\n",
       "  <thead>\n",
       "    <tr style=\"text-align: right;\">\n",
       "      <th></th>\n",
       "      <th>Logistic Regression</th>\n",
       "      <th>SVM</th>\n",
       "      <th>Decition Tree</th>\n",
       "      <th>Random Forest</th>\n",
       "      <th>Naive Bays</th>\n",
       "    </tr>\n",
       "  </thead>\n",
       "  <tbody>\n",
       "    <tr>\n",
       "      <th>Accuracy</th>\n",
       "      <td>0.950000</td>\n",
       "      <td>0.960000</td>\n",
       "      <td>0.93</td>\n",
       "      <td>0.940000</td>\n",
       "      <td>0.330000</td>\n",
       "    </tr>\n",
       "    <tr>\n",
       "      <th>F1</th>\n",
       "      <td>0.979592</td>\n",
       "      <td>0.979592</td>\n",
       "      <td>0.96</td>\n",
       "      <td>0.969897</td>\n",
       "      <td>0.461538</td>\n",
       "    </tr>\n",
       "    <tr>\n",
       "      <th>Precision</th>\n",
       "      <td>1.000000</td>\n",
       "      <td>1.000000</td>\n",
       "      <td>0.96</td>\n",
       "      <td>0.980000</td>\n",
       "      <td>0.300000</td>\n",
       "    </tr>\n",
       "    <tr>\n",
       "      <th>Sensitivity</th>\n",
       "      <td>0.960000</td>\n",
       "      <td>0.960000</td>\n",
       "      <td>0.96</td>\n",
       "      <td>0.960000</td>\n",
       "      <td>1.000000</td>\n",
       "    </tr>\n",
       "    <tr>\n",
       "      <th>Specificity</th>\n",
       "      <td>0.400000</td>\n",
       "      <td>NaN</td>\n",
       "      <td>0.13</td>\n",
       "      <td>0.150000</td>\n",
       "      <td>0.060000</td>\n",
       "    </tr>\n",
       "  </tbody>\n",
       "</table>\n",
       "</div>"
      ],
      "text/plain": [
       "             Logistic Regression       SVM  Decition Tree  Random Forest  \\\n",
       "Accuracy                0.950000  0.960000           0.93       0.940000   \n",
       "F1                      0.979592  0.979592           0.96       0.969897   \n",
       "Precision               1.000000  1.000000           0.96       0.980000   \n",
       "Sensitivity             0.960000  0.960000           0.96       0.960000   \n",
       "Specificity             0.400000       NaN           0.13       0.150000   \n",
       "\n",
       "             Naive Bays  \n",
       "Accuracy       0.330000  \n",
       "F1             0.461538  \n",
       "Precision      0.300000  \n",
       "Sensitivity    1.000000  \n",
       "Specificity    0.060000  "
      ]
     },
     "execution_count": 214,
     "metadata": {},
     "output_type": "execute_result"
    }
   ],
   "source": [
    "df_metrics_method_1 = df_metrics_method_1.merge(calculate_metrics(\"Naive Bays\",y_test, y_pred), left_index=True, right_index=True)\n",
    "df_metrics_method_1"
   ]
  },
  {
   "cell_type": "markdown",
   "id": "e65f34e8",
   "metadata": {},
   "source": [
    "# Method 2: Dropping the Smoking-Status column"
   ]
  },
  {
   "cell_type": "code",
   "execution_count": 215,
   "id": "07ac210b",
   "metadata": {},
   "outputs": [],
   "source": [
    "mask = (df['Weight Condition'] =='Unknown')\n",
    "df_method2 = df.drop(df[mask].index).drop('Smoking Status',axis=1)"
   ]
  },
  {
   "cell_type": "code",
   "execution_count": 216,
   "id": "62e442ee",
   "metadata": {},
   "outputs": [],
   "source": [
    "cols=df_method2.select_dtypes(include=['object']).columns\n",
    "Encoded_df = pd.get_dummies(df_method2[cols])"
   ]
  },
  {
   "cell_type": "code",
   "execution_count": 217,
   "id": "db3f03ee",
   "metadata": {},
   "outputs": [
    {
     "data": {
      "text/html": [
       "<div>\n",
       "<style scoped>\n",
       "    .dataframe tbody tr th:only-of-type {\n",
       "        vertical-align: middle;\n",
       "    }\n",
       "\n",
       "    .dataframe tbody tr th {\n",
       "        vertical-align: top;\n",
       "    }\n",
       "\n",
       "    .dataframe thead th {\n",
       "        text-align: right;\n",
       "    }\n",
       "</style>\n",
       "<table border=\"1\" class=\"dataframe\">\n",
       "  <thead>\n",
       "    <tr style=\"text-align: right;\">\n",
       "      <th></th>\n",
       "      <th>Work_Type_Govt_job</th>\n",
       "      <th>Work_Type_Never_worked</th>\n",
       "      <th>Work_Type_Private</th>\n",
       "      <th>Work_Type_Self-employed</th>\n",
       "      <th>Work_Type_children</th>\n",
       "      <th>Weight Condition_Normal</th>\n",
       "      <th>Weight Condition_Obese</th>\n",
       "      <th>Weight Condition_Overweight</th>\n",
       "      <th>Weight Condition_Underweight</th>\n",
       "      <th>Glucose Condition_Diabetes</th>\n",
       "      <th>Glucose Condition_Normal</th>\n",
       "      <th>Glucose Condition_Pre-Diabetes</th>\n",
       "      <th>Hypertension</th>\n",
       "      <th>Heart_Disease</th>\n",
       "      <th>Ever_Married</th>\n",
       "      <th>Age-Group</th>\n",
       "      <th>is_Urban</th>\n",
       "      <th>Stroke_Status</th>\n",
       "    </tr>\n",
       "  </thead>\n",
       "  <tbody>\n",
       "    <tr>\n",
       "      <th>0</th>\n",
       "      <td>0</td>\n",
       "      <td>0</td>\n",
       "      <td>1</td>\n",
       "      <td>0</td>\n",
       "      <td>0</td>\n",
       "      <td>0</td>\n",
       "      <td>1</td>\n",
       "      <td>0</td>\n",
       "      <td>0</td>\n",
       "      <td>0</td>\n",
       "      <td>1</td>\n",
       "      <td>0</td>\n",
       "      <td>0</td>\n",
       "      <td>0</td>\n",
       "      <td>0</td>\n",
       "      <td>4</td>\n",
       "      <td>0</td>\n",
       "      <td>0</td>\n",
       "    </tr>\n",
       "    <tr>\n",
       "      <th>1</th>\n",
       "      <td>0</td>\n",
       "      <td>0</td>\n",
       "      <td>1</td>\n",
       "      <td>0</td>\n",
       "      <td>0</td>\n",
       "      <td>0</td>\n",
       "      <td>1</td>\n",
       "      <td>0</td>\n",
       "      <td>0</td>\n",
       "      <td>0</td>\n",
       "      <td>1</td>\n",
       "      <td>0</td>\n",
       "      <td>0</td>\n",
       "      <td>0</td>\n",
       "      <td>1</td>\n",
       "      <td>4</td>\n",
       "      <td>1</td>\n",
       "      <td>0</td>\n",
       "    </tr>\n",
       "    <tr>\n",
       "      <th>2</th>\n",
       "      <td>0</td>\n",
       "      <td>0</td>\n",
       "      <td>1</td>\n",
       "      <td>0</td>\n",
       "      <td>0</td>\n",
       "      <td>0</td>\n",
       "      <td>1</td>\n",
       "      <td>0</td>\n",
       "      <td>0</td>\n",
       "      <td>0</td>\n",
       "      <td>1</td>\n",
       "      <td>0</td>\n",
       "      <td>0</td>\n",
       "      <td>0</td>\n",
       "      <td>1</td>\n",
       "      <td>4</td>\n",
       "      <td>1</td>\n",
       "      <td>0</td>\n",
       "    </tr>\n",
       "    <tr>\n",
       "      <th>3</th>\n",
       "      <td>0</td>\n",
       "      <td>0</td>\n",
       "      <td>1</td>\n",
       "      <td>0</td>\n",
       "      <td>0</td>\n",
       "      <td>0</td>\n",
       "      <td>1</td>\n",
       "      <td>0</td>\n",
       "      <td>0</td>\n",
       "      <td>0</td>\n",
       "      <td>1</td>\n",
       "      <td>0</td>\n",
       "      <td>0</td>\n",
       "      <td>0</td>\n",
       "      <td>1</td>\n",
       "      <td>4</td>\n",
       "      <td>0</td>\n",
       "      <td>0</td>\n",
       "    </tr>\n",
       "    <tr>\n",
       "      <th>4</th>\n",
       "      <td>0</td>\n",
       "      <td>0</td>\n",
       "      <td>1</td>\n",
       "      <td>0</td>\n",
       "      <td>0</td>\n",
       "      <td>0</td>\n",
       "      <td>1</td>\n",
       "      <td>0</td>\n",
       "      <td>0</td>\n",
       "      <td>0</td>\n",
       "      <td>1</td>\n",
       "      <td>0</td>\n",
       "      <td>0</td>\n",
       "      <td>0</td>\n",
       "      <td>1</td>\n",
       "      <td>4</td>\n",
       "      <td>1</td>\n",
       "      <td>0</td>\n",
       "    </tr>\n",
       "  </tbody>\n",
       "</table>\n",
       "</div>"
      ],
      "text/plain": [
       "   Work_Type_Govt_job  Work_Type_Never_worked  Work_Type_Private  \\\n",
       "0                   0                       0                  1   \n",
       "1                   0                       0                  1   \n",
       "2                   0                       0                  1   \n",
       "3                   0                       0                  1   \n",
       "4                   0                       0                  1   \n",
       "\n",
       "   Work_Type_Self-employed  Work_Type_children  Weight Condition_Normal  \\\n",
       "0                        0                   0                        0   \n",
       "1                        0                   0                        0   \n",
       "2                        0                   0                        0   \n",
       "3                        0                   0                        0   \n",
       "4                        0                   0                        0   \n",
       "\n",
       "   Weight Condition_Obese  Weight Condition_Overweight  \\\n",
       "0                       1                            0   \n",
       "1                       1                            0   \n",
       "2                       1                            0   \n",
       "3                       1                            0   \n",
       "4                       1                            0   \n",
       "\n",
       "   Weight Condition_Underweight  Glucose Condition_Diabetes  \\\n",
       "0                             0                           0   \n",
       "1                             0                           0   \n",
       "2                             0                           0   \n",
       "3                             0                           0   \n",
       "4                             0                           0   \n",
       "\n",
       "   Glucose Condition_Normal  Glucose Condition_Pre-Diabetes  Hypertension  \\\n",
       "0                         1                               0             0   \n",
       "1                         1                               0             0   \n",
       "2                         1                               0             0   \n",
       "3                         1                               0             0   \n",
       "4                         1                               0             0   \n",
       "\n",
       "   Heart_Disease  Ever_Married  Age-Group  is_Urban  Stroke_Status  \n",
       "0              0             0          4         0              0  \n",
       "1              0             1          4         1              0  \n",
       "2              0             1          4         1              0  \n",
       "3              0             1          4         0              0  \n",
       "4              0             1          4         1              0  "
      ]
     },
     "execution_count": 217,
     "metadata": {},
     "output_type": "execute_result"
    }
   ],
   "source": [
    "cols=df_method2.select_dtypes(include=['int']).columns\n",
    "Encoded_df = pd.concat([Encoded_df, df_method2[cols]], axis=1)\n",
    "Encoded_df.head()"
   ]
  },
  {
   "cell_type": "code",
   "execution_count": 218,
   "id": "3df35ec9",
   "metadata": {},
   "outputs": [],
   "source": [
    "X = Encoded_df.iloc[:,0:-1]\n",
    "y = Encoded_df.iloc[:,-1]\n",
    "X_train,X_test,y_train,y_test  = train_test_split(X, y, test_size=0.50 ,random_state=1)"
   ]
  },
  {
   "cell_type": "markdown",
   "id": "b4ba295a",
   "metadata": {},
   "source": [
    "**1) Logistic Regression with Cross-Validation**"
   ]
  },
  {
   "cell_type": "code",
   "execution_count": 219,
   "id": "59fe14ca",
   "metadata": {},
   "outputs": [
    {
     "data": {
      "image/png": "[encoded data removed]",
      "text/plain": [
       "<Figure size 720x288 with 1 Axes>"
      ]
     },
     "metadata": {
      "needs_background": "light"
     },
     "output_type": "display_data"
    }
   ],
   "source": [
    "Logistic_CV_model = LogisticRegressionCV(max_iter=5000)\n",
    "Logistic_CV_model.fit(X_train,y_train)\n",
    "coefs = pd.Series(index=X.columns,data=Logistic_CV_model.coef_[0])\n",
    "coefs = coefs.sort_values()\n",
    "plt.figure(figsize=(10,4))\n",
    "sns.barplot(x=coefs.index,y=coefs.values,palette='coolwarm')\n",
    "plt.xticks(rotation=90);"
   ]
  },
  {
   "cell_type": "code",
   "execution_count": 220,
   "id": "613f6df3",
   "metadata": {},
   "outputs": [
    {
     "data": {
      "image/png": "[encoded data removed]",
      "text/plain": [
       "<Figure size 432x288 with 2 Axes>"
      ]
     },
     "metadata": {
      "needs_background": "light"
     },
     "output_type": "display_data"
    }
   ],
   "source": [
    "y_pred = Logistic_CV_model.predict(X_test)\n",
    "plot_confusion_matrix(Logistic_CV_model,X_test,y_test, normalize = 'all');"
   ]
  },
  {
   "cell_type": "code",
   "execution_count": 221,
   "id": "9eaa88d9",
   "metadata": {},
   "outputs": [
    {
     "data": {
      "text/plain": [
       "0.9574167671141776"
      ]
     },
     "execution_count": 221,
     "metadata": {},
     "output_type": "execute_result"
    }
   ],
   "source": [
    "cross_val_score(Logistic_CV_model, X, y, cv=10).mean()"
   ]
  },
  {
   "cell_type": "code",
   "execution_count": 222,
   "id": "12196d74",
   "metadata": {},
   "outputs": [
    {
     "data": {
      "text/html": [
       "<div>\n",
       "<style scoped>\n",
       "    .dataframe tbody tr th:only-of-type {\n",
       "        vertical-align: middle;\n",
       "    }\n",
       "\n",
       "    .dataframe tbody tr th {\n",
       "        vertical-align: top;\n",
       "    }\n",
       "\n",
       "    .dataframe thead th {\n",
       "        text-align: right;\n",
       "    }\n",
       "</style>\n",
       "<table border=\"1\" class=\"dataframe\">\n",
       "  <thead>\n",
       "    <tr style=\"text-align: right;\">\n",
       "      <th></th>\n",
       "      <th>Logistic Regression</th>\n",
       "    </tr>\n",
       "  </thead>\n",
       "  <tbody>\n",
       "    <tr>\n",
       "      <th>Accuracy</th>\n",
       "      <td>0.960000</td>\n",
       "    </tr>\n",
       "    <tr>\n",
       "      <th>F1</th>\n",
       "      <td>0.979592</td>\n",
       "    </tr>\n",
       "    <tr>\n",
       "      <th>Precision</th>\n",
       "      <td>1.000000</td>\n",
       "    </tr>\n",
       "    <tr>\n",
       "      <th>Sensitivity</th>\n",
       "      <td>0.960000</td>\n",
       "    </tr>\n",
       "    <tr>\n",
       "      <th>Specificity</th>\n",
       "      <td>1.000000</td>\n",
       "    </tr>\n",
       "  </tbody>\n",
       "</table>\n",
       "</div>"
      ],
      "text/plain": [
       "             Logistic Regression\n",
       "Accuracy                0.960000\n",
       "F1                      0.979592\n",
       "Precision               1.000000\n",
       "Sensitivity             0.960000\n",
       "Specificity             1.000000"
      ]
     },
     "execution_count": 222,
     "metadata": {},
     "output_type": "execute_result"
    }
   ],
   "source": [
    "df_metrics_method_2 = calculate_metrics(\"Logistic Regression\",y_test, y_pred)\n",
    "df_metrics_method_2"
   ]
  },
  {
   "cell_type": "markdown",
   "id": "3a71f1ac",
   "metadata": {},
   "source": [
    "**-----------------------------------------------------------------------------------------------------------------------------------------------------------------------------------**"
   ]
  },
  {
   "cell_type": "markdown",
   "id": "719290d7",
   "metadata": {},
   "source": [
    "**2) Support Vector Machine**"
   ]
  },
  {
   "cell_type": "code",
   "execution_count": 223,
   "id": "5a90be36",
   "metadata": {},
   "outputs": [
    {
     "data": {
      "image/png": "[encoded data removed]",
      "text/plain": [
       "<Figure size 432x288 with 2 Axes>"
      ]
     },
     "metadata": {
      "needs_background": "light"
     },
     "output_type": "display_data"
    }
   ],
   "source": [
    "svm_model = svm.SVC(kernel='linear')\n",
    "svm_model.fit(X_train, y_train)\n",
    "y_pred = svm_model.predict(X_test)\n",
    "plot_confusion_matrix(svm_model,X_test,y_test, normalize='all');"
   ]
  },
  {
   "cell_type": "code",
   "execution_count": 224,
   "id": "abc779be",
   "metadata": {},
   "outputs": [
    {
     "data": {
      "text/plain": [
       "0.9574167671141776"
      ]
     },
     "execution_count": 224,
     "metadata": {},
     "output_type": "execute_result"
    }
   ],
   "source": [
    "cross_val_score(svm_model, X, y, cv=10).mean()"
   ]
  },
  {
   "cell_type": "code",
   "execution_count": 225,
   "id": "144f6d42",
   "metadata": {},
   "outputs": [
    {
     "name": "stderr",
     "output_type": "stream",
     "text": [
      "C:\\Users\\Admin\\AppData\\Local\\Temp/ipykernel_8164/313925009.py:11: RuntimeWarning: invalid value encountered in longlong_scalars\n",
      "  Specificity      = round(TN/(TN+FP),2)\n"
     ]
    },
    {
     "data": {
      "text/html": [
       "<div>\n",
       "<style scoped>\n",
       "    .dataframe tbody tr th:only-of-type {\n",
       "        vertical-align: middle;\n",
       "    }\n",
       "\n",
       "    .dataframe tbody tr th {\n",
       "        vertical-align: top;\n",
       "    }\n",
       "\n",
       "    .dataframe thead th {\n",
       "        text-align: right;\n",
       "    }\n",
       "</style>\n",
       "<table border=\"1\" class=\"dataframe\">\n",
       "  <thead>\n",
       "    <tr style=\"text-align: right;\">\n",
       "      <th></th>\n",
       "      <th>Logistic Regression</th>\n",
       "      <th>SVM</th>\n",
       "    </tr>\n",
       "  </thead>\n",
       "  <tbody>\n",
       "    <tr>\n",
       "      <th>Accuracy</th>\n",
       "      <td>0.960000</td>\n",
       "      <td>0.960000</td>\n",
       "    </tr>\n",
       "    <tr>\n",
       "      <th>F1</th>\n",
       "      <td>0.979592</td>\n",
       "      <td>0.979592</td>\n",
       "    </tr>\n",
       "    <tr>\n",
       "      <th>Precision</th>\n",
       "      <td>1.000000</td>\n",
       "      <td>1.000000</td>\n",
       "    </tr>\n",
       "    <tr>\n",
       "      <th>Sensitivity</th>\n",
       "      <td>0.960000</td>\n",
       "      <td>0.960000</td>\n",
       "    </tr>\n",
       "    <tr>\n",
       "      <th>Specificity</th>\n",
       "      <td>1.000000</td>\n",
       "      <td>NaN</td>\n",
       "    </tr>\n",
       "  </tbody>\n",
       "</table>\n",
       "</div>"
      ],
      "text/plain": [
       "             Logistic Regression       SVM\n",
       "Accuracy                0.960000  0.960000\n",
       "F1                      0.979592  0.979592\n",
       "Precision               1.000000  1.000000\n",
       "Sensitivity             0.960000  0.960000\n",
       "Specificity             1.000000       NaN"
      ]
     },
     "execution_count": 225,
     "metadata": {},
     "output_type": "execute_result"
    }
   ],
   "source": [
    "df_metrics_method_2 = df_metrics_method_2.merge(calculate_metrics(\"SVM\",y_test, y_pred), left_index=True, right_index=True)\n",
    "df_metrics_method_2"
   ]
  },
  {
   "cell_type": "markdown",
   "id": "10fc091a",
   "metadata": {},
   "source": [
    "**-----------------------------------------------------------------------------------------------------------------------------------------------------------------------------------**"
   ]
  },
  {
   "cell_type": "markdown",
   "id": "655410d4",
   "metadata": {},
   "source": [
    "**3) Decision Tree**"
   ]
  },
  {
   "cell_type": "code",
   "execution_count": 226,
   "id": "aaa05d83",
   "metadata": {},
   "outputs": [
    {
     "data": {
      "image/png": "[encoded data removed]",
      "text/plain": [
       "<Figure size 432x288 with 2 Axes>"
      ]
     },
     "metadata": {
      "needs_background": "light"
     },
     "output_type": "display_data"
    }
   ],
   "source": [
    "DT_model = DecisionTreeClassifier()\n",
    "DT_model.fit(X_train,y_train)\n",
    "y_pred = DT_model.predict(X_test)\n",
    "plot_confusion_matrix(DT_model,X_test,y_test,normalize='all');"
   ]
  },
  {
   "cell_type": "code",
   "execution_count": 227,
   "id": "18ef6776",
   "metadata": {},
   "outputs": [
    {
     "data": {
      "text/plain": [
       "0.7510050293029635"
      ]
     },
     "execution_count": 227,
     "metadata": {},
     "output_type": "execute_result"
    }
   ],
   "source": [
    "cross_val_score(DT_model, X, y, cv=10).mean()"
   ]
  },
  {
   "cell_type": "code",
   "execution_count": 228,
   "id": "ac35d82b",
   "metadata": {},
   "outputs": [
    {
     "data": {
      "text/html": [
       "<div>\n",
       "<style scoped>\n",
       "    .dataframe tbody tr th:only-of-type {\n",
       "        vertical-align: middle;\n",
       "    }\n",
       "\n",
       "    .dataframe tbody tr th {\n",
       "        vertical-align: top;\n",
       "    }\n",
       "\n",
       "    .dataframe thead th {\n",
       "        text-align: right;\n",
       "    }\n",
       "</style>\n",
       "<table border=\"1\" class=\"dataframe\">\n",
       "  <thead>\n",
       "    <tr style=\"text-align: right;\">\n",
       "      <th></th>\n",
       "      <th>Logistic Regression</th>\n",
       "      <th>SVM</th>\n",
       "      <th>Decition Tree</th>\n",
       "    </tr>\n",
       "  </thead>\n",
       "  <tbody>\n",
       "    <tr>\n",
       "      <th>Accuracy</th>\n",
       "      <td>0.960000</td>\n",
       "      <td>0.960000</td>\n",
       "      <td>0.940000</td>\n",
       "    </tr>\n",
       "    <tr>\n",
       "      <th>F1</th>\n",
       "      <td>0.979592</td>\n",
       "      <td>0.979592</td>\n",
       "      <td>0.964974</td>\n",
       "    </tr>\n",
       "    <tr>\n",
       "      <th>Precision</th>\n",
       "      <td>1.000000</td>\n",
       "      <td>1.000000</td>\n",
       "      <td>0.970000</td>\n",
       "    </tr>\n",
       "    <tr>\n",
       "      <th>Sensitivity</th>\n",
       "      <td>0.960000</td>\n",
       "      <td>0.960000</td>\n",
       "      <td>0.960000</td>\n",
       "    </tr>\n",
       "    <tr>\n",
       "      <th>Specificity</th>\n",
       "      <td>1.000000</td>\n",
       "      <td>NaN</td>\n",
       "      <td>0.120000</td>\n",
       "    </tr>\n",
       "  </tbody>\n",
       "</table>\n",
       "</div>"
      ],
      "text/plain": [
       "             Logistic Regression       SVM  Decition Tree\n",
       "Accuracy                0.960000  0.960000       0.940000\n",
       "F1                      0.979592  0.979592       0.964974\n",
       "Precision               1.000000  1.000000       0.970000\n",
       "Sensitivity             0.960000  0.960000       0.960000\n",
       "Specificity             1.000000       NaN       0.120000"
      ]
     },
     "execution_count": 228,
     "metadata": {},
     "output_type": "execute_result"
    }
   ],
   "source": [
    "df_metrics_method_2 = df_metrics_method_2.merge(calculate_metrics(\"Decition Tree\",y_test, y_pred), left_index=True, right_index=True)\n",
    "df_metrics_method_2"
   ]
  },
  {
   "cell_type": "markdown",
   "id": "2ce0e9da",
   "metadata": {},
   "source": [
    "**-----------------------------------------------------------------------------------------------------------------------------------------------------------------------------------**"
   ]
  },
  {
   "cell_type": "markdown",
   "id": "2694310a",
   "metadata": {},
   "source": [
    "**4) Random Forests**"
   ]
  },
  {
   "cell_type": "code",
   "execution_count": 229,
   "id": "a48c43cc",
   "metadata": {},
   "outputs": [
    {
     "data": {
      "image/png": "[encoded data removed]",
      "text/plain": [
       "<Figure size 432x288 with 2 Axes>"
      ]
     },
     "metadata": {
      "needs_background": "light"
     },
     "output_type": "display_data"
    }
   ],
   "source": [
    "RF_model = RandomForestClassifier(n_estimators=1100)\n",
    "RF_model.fit(X_train,y_train)\n",
    "y_pred = RF_model.predict(X_test)\n",
    "plot_confusion_matrix(RF_model,X_test,y_test,normalize='all');"
   ]
  },
  {
   "cell_type": "code",
   "execution_count": 230,
   "id": "131efa09",
   "metadata": {},
   "outputs": [
    {
     "data": {
      "text/plain": [
       "0.8231817615029717"
      ]
     },
     "execution_count": 230,
     "metadata": {},
     "output_type": "execute_result"
    }
   ],
   "source": [
    "cross_val_score(RF_model, X, y, cv=10).mean()"
   ]
  },
  {
   "cell_type": "code",
   "execution_count": 231,
   "id": "fb693be9",
   "metadata": {},
   "outputs": [
    {
     "data": {
      "text/html": [
       "<div>\n",
       "<style scoped>\n",
       "    .dataframe tbody tr th:only-of-type {\n",
       "        vertical-align: middle;\n",
       "    }\n",
       "\n",
       "    .dataframe tbody tr th {\n",
       "        vertical-align: top;\n",
       "    }\n",
       "\n",
       "    .dataframe thead th {\n",
       "        text-align: right;\n",
       "    }\n",
       "</style>\n",
       "<table border=\"1\" class=\"dataframe\">\n",
       "  <thead>\n",
       "    <tr style=\"text-align: right;\">\n",
       "      <th></th>\n",
       "      <th>Logistic Regression</th>\n",
       "      <th>SVM</th>\n",
       "      <th>Decition Tree</th>\n",
       "      <th>Random Forest</th>\n",
       "    </tr>\n",
       "  </thead>\n",
       "  <tbody>\n",
       "    <tr>\n",
       "      <th>Accuracy</th>\n",
       "      <td>0.960000</td>\n",
       "      <td>0.960000</td>\n",
       "      <td>0.940000</td>\n",
       "      <td>0.950000</td>\n",
       "    </tr>\n",
       "    <tr>\n",
       "      <th>F1</th>\n",
       "      <td>0.979592</td>\n",
       "      <td>0.979592</td>\n",
       "      <td>0.964974</td>\n",
       "      <td>0.974769</td>\n",
       "    </tr>\n",
       "    <tr>\n",
       "      <th>Precision</th>\n",
       "      <td>1.000000</td>\n",
       "      <td>1.000000</td>\n",
       "      <td>0.970000</td>\n",
       "      <td>0.990000</td>\n",
       "    </tr>\n",
       "    <tr>\n",
       "      <th>Sensitivity</th>\n",
       "      <td>0.960000</td>\n",
       "      <td>0.960000</td>\n",
       "      <td>0.960000</td>\n",
       "      <td>0.960000</td>\n",
       "    </tr>\n",
       "    <tr>\n",
       "      <th>Specificity</th>\n",
       "      <td>1.000000</td>\n",
       "      <td>NaN</td>\n",
       "      <td>0.120000</td>\n",
       "      <td>0.100000</td>\n",
       "    </tr>\n",
       "  </tbody>\n",
       "</table>\n",
       "</div>"
      ],
      "text/plain": [
       "             Logistic Regression       SVM  Decition Tree  Random Forest\n",
       "Accuracy                0.960000  0.960000       0.940000       0.950000\n",
       "F1                      0.979592  0.979592       0.964974       0.974769\n",
       "Precision               1.000000  1.000000       0.970000       0.990000\n",
       "Sensitivity             0.960000  0.960000       0.960000       0.960000\n",
       "Specificity             1.000000       NaN       0.120000       0.100000"
      ]
     },
     "execution_count": 231,
     "metadata": {},
     "output_type": "execute_result"
    }
   ],
   "source": [
    "df_metrics_method_2 = df_metrics_method_2.merge(calculate_metrics(\"Random Forest\",y_test, y_pred), left_index=True, right_index=True)\n",
    "df_metrics_method_2"
   ]
  },
  {
   "cell_type": "markdown",
   "id": "b3e52be0",
   "metadata": {},
   "source": [
    "**-----------------------------------------------------------------------------------------------------------------------------------------------------------------------------------**"
   ]
  },
  {
   "cell_type": "markdown",
   "id": "f931bd7c",
   "metadata": {},
   "source": [
    "**5) Naive Bayes**"
   ]
  },
  {
   "cell_type": "code",
   "execution_count": 232,
   "id": "bbf29a08",
   "metadata": {},
   "outputs": [
    {
     "data": {
      "image/png": "[encoded data removed]",
      "text/plain": [
       "<Figure size 432x288 with 2 Axes>"
      ]
     },
     "metadata": {
      "needs_background": "light"
     },
     "output_type": "display_data"
    }
   ],
   "source": [
    "NB_model = GaussianNB()\n",
    "NB_model.fit(X_train, y_train)\n",
    "y_pred = NB_model.predict(X_test)\n",
    "plot_confusion_matrix(NB_model,X_test,y_test,normalize='all');"
   ]
  },
  {
   "cell_type": "code",
   "execution_count": 233,
   "id": "8e0cad0b",
   "metadata": {},
   "outputs": [
    {
     "data": {
      "text/plain": [
       "0.3898142067417598"
      ]
     },
     "execution_count": 233,
     "metadata": {},
     "output_type": "execute_result"
    }
   ],
   "source": [
    "cross_val_score(NB_model, X, y, cv=10).mean()"
   ]
  },
  {
   "cell_type": "code",
   "execution_count": 234,
   "id": "b47d58fa",
   "metadata": {
    "scrolled": true
   },
   "outputs": [
    {
     "data": {
      "text/html": [
       "<div>\n",
       "<style scoped>\n",
       "    .dataframe tbody tr th:only-of-type {\n",
       "        vertical-align: middle;\n",
       "    }\n",
       "\n",
       "    .dataframe tbody tr th {\n",
       "        vertical-align: top;\n",
       "    }\n",
       "\n",
       "    .dataframe thead th {\n",
       "        text-align: right;\n",
       "    }\n",
       "</style>\n",
       "<table border=\"1\" class=\"dataframe\">\n",
       "  <thead>\n",
       "    <tr style=\"text-align: right;\">\n",
       "      <th></th>\n",
       "      <th>Logistic Regression</th>\n",
       "      <th>SVM</th>\n",
       "      <th>Decition Tree</th>\n",
       "      <th>Random Forest</th>\n",
       "      <th>Naive Bays</th>\n",
       "    </tr>\n",
       "  </thead>\n",
       "  <tbody>\n",
       "    <tr>\n",
       "      <th>Accuracy</th>\n",
       "      <td>0.960000</td>\n",
       "      <td>0.960000</td>\n",
       "      <td>0.940000</td>\n",
       "      <td>0.950000</td>\n",
       "      <td>0.360000</td>\n",
       "    </tr>\n",
       "    <tr>\n",
       "      <th>F1</th>\n",
       "      <td>0.979592</td>\n",
       "      <td>0.979592</td>\n",
       "      <td>0.964974</td>\n",
       "      <td>0.974769</td>\n",
       "      <td>0.507463</td>\n",
       "    </tr>\n",
       "    <tr>\n",
       "      <th>Precision</th>\n",
       "      <td>1.000000</td>\n",
       "      <td>1.000000</td>\n",
       "      <td>0.970000</td>\n",
       "      <td>0.990000</td>\n",
       "      <td>0.340000</td>\n",
       "    </tr>\n",
       "    <tr>\n",
       "      <th>Sensitivity</th>\n",
       "      <td>0.960000</td>\n",
       "      <td>0.960000</td>\n",
       "      <td>0.960000</td>\n",
       "      <td>0.960000</td>\n",
       "      <td>1.000000</td>\n",
       "    </tr>\n",
       "    <tr>\n",
       "      <th>Specificity</th>\n",
       "      <td>1.000000</td>\n",
       "      <td>NaN</td>\n",
       "      <td>0.120000</td>\n",
       "      <td>0.100000</td>\n",
       "      <td>0.060000</td>\n",
       "    </tr>\n",
       "  </tbody>\n",
       "</table>\n",
       "</div>"
      ],
      "text/plain": [
       "             Logistic Regression       SVM  Decition Tree  Random Forest  \\\n",
       "Accuracy                0.960000  0.960000       0.940000       0.950000   \n",
       "F1                      0.979592  0.979592       0.964974       0.974769   \n",
       "Precision               1.000000  1.000000       0.970000       0.990000   \n",
       "Sensitivity             0.960000  0.960000       0.960000       0.960000   \n",
       "Specificity             1.000000       NaN       0.120000       0.100000   \n",
       "\n",
       "             Naive Bays  \n",
       "Accuracy       0.360000  \n",
       "F1             0.507463  \n",
       "Precision      0.340000  \n",
       "Sensitivity    1.000000  \n",
       "Specificity    0.060000  "
      ]
     },
     "execution_count": 234,
     "metadata": {},
     "output_type": "execute_result"
    }
   ],
   "source": [
    "df_metrics_method_2 = df_metrics_method_2.merge(calculate_metrics(\"Naive Bays\",y_test, y_pred), left_index=True, right_index=True)\n",
    "df_metrics_method_2"
   ]
  },
  {
   "cell_type": "code",
   "execution_count": 235,
   "id": "ba7ff10a",
   "metadata": {},
   "outputs": [
    {
     "data": {
      "text/html": [
       "<div>\n",
       "<style scoped>\n",
       "    .dataframe tbody tr th:only-of-type {\n",
       "        vertical-align: middle;\n",
       "    }\n",
       "\n",
       "    .dataframe tbody tr th {\n",
       "        vertical-align: top;\n",
       "    }\n",
       "\n",
       "    .dataframe thead th {\n",
       "        text-align: right;\n",
       "    }\n",
       "</style>\n",
       "<table border=\"1\" class=\"dataframe\">\n",
       "  <thead>\n",
       "    <tr style=\"text-align: right;\">\n",
       "      <th></th>\n",
       "      <th>Logistic Regression</th>\n",
       "      <th>SVM</th>\n",
       "      <th>Decition Tree</th>\n",
       "      <th>Random Forest</th>\n",
       "      <th>Naive Bays</th>\n",
       "    </tr>\n",
       "  </thead>\n",
       "  <tbody>\n",
       "    <tr>\n",
       "      <th>Accuracy</th>\n",
       "      <td>1.0</td>\n",
       "      <td>0.0</td>\n",
       "      <td>1.000000</td>\n",
       "      <td>1.000000</td>\n",
       "      <td>3.000000</td>\n",
       "    </tr>\n",
       "    <tr>\n",
       "      <th>F1</th>\n",
       "      <td>0.0</td>\n",
       "      <td>0.0</td>\n",
       "      <td>0.497409</td>\n",
       "      <td>0.487232</td>\n",
       "      <td>4.592423</td>\n",
       "    </tr>\n",
       "    <tr>\n",
       "      <th>Precision</th>\n",
       "      <td>0.0</td>\n",
       "      <td>0.0</td>\n",
       "      <td>1.000000</td>\n",
       "      <td>1.000000</td>\n",
       "      <td>4.000000</td>\n",
       "    </tr>\n",
       "    <tr>\n",
       "      <th>Sensitivity</th>\n",
       "      <td>0.0</td>\n",
       "      <td>0.0</td>\n",
       "      <td>0.000000</td>\n",
       "      <td>0.000000</td>\n",
       "      <td>0.000000</td>\n",
       "    </tr>\n",
       "    <tr>\n",
       "      <th>Specificity</th>\n",
       "      <td>60.0</td>\n",
       "      <td>NaN</td>\n",
       "      <td>-1.000000</td>\n",
       "      <td>-5.000000</td>\n",
       "      <td>0.000000</td>\n",
       "    </tr>\n",
       "  </tbody>\n",
       "</table>\n",
       "</div>"
      ],
      "text/plain": [
       "             Logistic Regression  SVM  Decition Tree  Random Forest  \\\n",
       "Accuracy                     1.0  0.0       1.000000       1.000000   \n",
       "F1                           0.0  0.0       0.497409       0.487232   \n",
       "Precision                    0.0  0.0       1.000000       1.000000   \n",
       "Sensitivity                  0.0  0.0       0.000000       0.000000   \n",
       "Specificity                 60.0  NaN      -1.000000      -5.000000   \n",
       "\n",
       "             Naive Bays  \n",
       "Accuracy       3.000000  \n",
       "F1             4.592423  \n",
       "Precision      4.000000  \n",
       "Sensitivity    0.000000  \n",
       "Specificity    0.000000  "
      ]
     },
     "execution_count": 235,
     "metadata": {},
     "output_type": "execute_result"
    }
   ],
   "source": [
    "difference = df_metrics_method_2 - df_metrics_method_1\n",
    "difference*100"
   ]
  },
  {
   "cell_type": "code",
   "execution_count": 236,
   "id": "52d8ac2a",
   "metadata": {},
   "outputs": [],
   "source": [
    "# from sklearn import svm, tree\n",
    "\n",
    "# fig = plt.figure(figsize=(25,20))\n",
    "# _ = tree.plot_tree(DT_model, \n",
    "# #                    feature_names=iris.feature_names,  \n",
    "# #                    class_names=iris.target_names,\n",
    "#                    filled=True)"
   ]
  },
  {
   "cell_type": "markdown",
   "id": "08dcdc6d",
   "metadata": {},
   "source": [
    "# Bonus: Glucose"
   ]
  },
  {
   "cell_type": "code",
   "execution_count": 237,
   "id": "f9f9f9d6",
   "metadata": {},
   "outputs": [],
   "source": [
    "df_b = pd.read_excel('DataFromPowerBI.xlsx')"
   ]
  },
  {
   "cell_type": "code",
   "execution_count": 238,
   "id": "5f025676",
   "metadata": {},
   "outputs": [],
   "source": [
    "df_b = df_b.drop(['Age','Age_Interval','BMI','Residence_type','Gender','Glucose Condition'],axis=1)"
   ]
  },
  {
   "cell_type": "code",
   "execution_count": 239,
   "id": "7a665360",
   "metadata": {},
   "outputs": [],
   "source": [
    "df_b['Glucose'] = pd.cut(df_b['AVG_Glucose_Level'],25)\n",
    "df_b['Glucose'] = df_b['Glucose'].astype('object')"
   ]
  },
  {
   "cell_type": "code",
   "execution_count": 240,
   "id": "572062dc",
   "metadata": {},
   "outputs": [],
   "source": [
    "# mask = (df_b['Weight Condition'] =='Unknown')\n",
    "# df_b = df_b.drop(df_b[mask].index).drop('Smoking Status',axis=1)"
   ]
  },
  {
   "cell_type": "code",
   "execution_count": 241,
   "id": "1eed7ab4",
   "metadata": {},
   "outputs": [],
   "source": [
    "cols=df_b.select_dtypes(include=['object']).columns\n",
    "Encoded_df_b = pd.get_dummies(df_b[cols])"
   ]
  },
  {
   "cell_type": "code",
   "execution_count": 242,
   "id": "38bb89e3",
   "metadata": {
    "scrolled": true
   },
   "outputs": [],
   "source": [
    "cols=df_b.select_dtypes(include=['int']).columns\n",
    "Encoded_df_b = pd.concat([Encoded_df_b, df_b[cols]], axis=1)\n",
    "Encoded_df_b = Encoded_df_b.drop(['Work_Type_Never_worked','Weight Condition_Normal'],axis=1)"
   ]
  },
  {
   "cell_type": "code",
   "execution_count": 243,
   "id": "b06041cb",
   "metadata": {},
   "outputs": [
    {
     "data": {
      "text/plain": [
       "Glucose_(81.114, 89.779]     -0.038214\n",
       "Glucose_(89.779, 98.444]     -0.023912\n",
       "Glucose_(107.109, 115.774]   -0.019125\n",
       "Glucose_(63.785, 72.45]      -0.018418\n",
       "Glucose_(115.774, 124.438]   -0.014622\n",
       "Glucose_(150.433, 159.098]   -0.014203\n",
       "Glucose_(141.768, 150.433]   -0.012796\n",
       "Glucose_(72.45, 81.114]      -0.012581\n",
       "Glucose_(98.444, 107.109]    -0.012146\n",
       "Glucose_(54.903, 63.785]     -0.011978\n",
       "Glucose_(124.438, 133.103]   -0.011830\n",
       "Glucose_(254.41, 263.075]     0.014026\n",
       "Glucose_(176.427, 185.092]    0.023551\n",
       "Glucose_(167.762, 176.427]    0.025284\n",
       "Glucose_(159.098, 167.762]    0.028900\n",
       "Glucose_(219.751, 228.416]    0.037350\n",
       "Glucose_(202.422, 211.086]    0.039179\n",
       "Glucose_(263.075, 271.74]     0.040766\n",
       "Glucose_(228.416, 237.081]    0.042073\n",
       "Glucose_(245.746, 254.41]     0.042290\n",
       "Glucose_(237.081, 245.746]    0.046138\n",
       "Glucose_(185.092, 193.757]    0.046858\n",
       "Glucose_(211.086, 219.751]    0.051992\n",
       "Glucose_(193.757, 202.422]    0.067757\n",
       "Name: Stroke_Status, dtype: float64"
      ]
     },
     "execution_count": 243,
     "metadata": {},
     "output_type": "execute_result"
    }
   ],
   "source": [
    "mask = (Encoded_df_b.corr().index.str.startswith('Glucose_')) & (abs(Encoded_df_b.corr()['Stroke_Status'])>0.01)\n",
    "Encoded_df_b.corr()['Stroke_Status'].loc[mask].sort_values()\n"
   ]
  },
  {
   "cell_type": "code",
   "execution_count": 244,
   "id": "209db6e7",
   "metadata": {},
   "outputs": [
    {
     "name": "stdout",
     "output_type": "stream",
     "text": [
      "Requirement already satisfied: mlxtend in c:\\programdata\\anaconda3\\lib\\site-packages (0.19.0)\n",
      "Requirement already satisfied: scipy>=1.2.1 in c:\\programdata\\anaconda3\\lib\\site-packages (from mlxtend) (1.7.1)\n",
      "Requirement already satisfied: setuptools in c:\\programdata\\anaconda3\\lib\\site-packages (from mlxtend) (58.0.4)\n",
      "Requirement already satisfied: matplotlib>=3.0.0 in c:\\programdata\\anaconda3\\lib\\site-packages (from mlxtend) (3.4.3)\n",
      "Requirement already satisfied: pandas>=0.24.2 in c:\\programdata\\anaconda3\\lib\\site-packages (from mlxtend) (1.3.4)\n",
      "Requirement already satisfied: numpy>=1.16.2 in c:\\programdata\\anaconda3\\lib\\site-packages (from mlxtend) (1.20.3)\n",
      "Requirement already satisfied: scikit-learn>=0.20.3 in c:\\programdata\\anaconda3\\lib\\site-packages (from mlxtend) (0.24.2)\n",
      "Requirement already satisfied: joblib>=0.13.2 in c:\\programdata\\anaconda3\\lib\\site-packages (from mlxtend) (1.1.0)\n",
      "Requirement already satisfied: kiwisolver>=1.0.1 in c:\\programdata\\anaconda3\\lib\\site-packages (from matplotlib>=3.0.0->mlxtend) (1.3.1)\n",
      "Requirement already satisfied: cycler>=0.10 in c:\\programdata\\anaconda3\\lib\\site-packages (from matplotlib>=3.0.0->mlxtend) (0.10.0)\n",
      "Requirement already satisfied: pillow>=6.2.0 in c:\\programdata\\anaconda3\\lib\\site-packages (from matplotlib>=3.0.0->mlxtend) (8.4.0)\n",
      "Requirement already satisfied: python-dateutil>=2.7 in c:\\programdata\\anaconda3\\lib\\site-packages (from matplotlib>=3.0.0->mlxtend) (2.8.2)\n",
      "Requirement already satisfied: pyparsing>=2.2.1 in c:\\programdata\\anaconda3\\lib\\site-packages (from matplotlib>=3.0.0->mlxtend) (3.0.4)\n",
      "Requirement already satisfied: six in c:\\programdata\\anaconda3\\lib\\site-packages (from cycler>=0.10->matplotlib>=3.0.0->mlxtend) (1.16.0)\n",
      "Requirement already satisfied: pytz>=2017.3 in c:\\programdata\\anaconda3\\lib\\site-packages (from pandas>=0.24.2->mlxtend) (2021.3)\n",
      "Requirement already satisfied: threadpoolctl>=2.0.0 in c:\\programdata\\anaconda3\\lib\\site-packages (from scikit-learn>=0.20.3->mlxtend) (2.2.0)\n"
     ]
    },
    {
     "name": "stderr",
     "output_type": "stream",
     "text": [
      "WARNING: Ignoring invalid distribution -equests (c:\\programdata\\anaconda3\\lib\\site-packages)\n",
      "WARNING: Ignoring invalid distribution -equests (c:\\programdata\\anaconda3\\lib\\site-packages)\n",
      "WARNING: Ignoring invalid distribution -equests (c:\\programdata\\anaconda3\\lib\\site-packages)\n",
      "WARNING: Ignoring invalid distribution -equests (c:\\programdata\\anaconda3\\lib\\site-packages)\n",
      "WARNING: Ignoring invalid distribution -equests (c:\\programdata\\anaconda3\\lib\\site-packages)\n",
      "WARNING: Ignoring invalid distribution -equests (c:\\programdata\\anaconda3\\lib\\site-packages)\n"
     ]
    }
   ],
   "source": [
    "!pip install mlxtend\n",
    "from mlxtend.frequent_patterns import apriori, association_rules"
   ]
  },
  {
   "cell_type": "code",
   "execution_count": 245,
   "id": "7a8280b2",
   "metadata": {},
   "outputs": [],
   "source": [
    "mask = (df['Weight Condition'] =='Unknown')\n",
    "cols = ['Hypertension', 'Heart_Disease', 'Work_Type', 'Smoking Status', 'Weight Condition', 'Glucose Condition', 'Age-Group']\n",
    "df_ap = df.drop(df[mask].index).loc[:,cols]"
   ]
  },
  {
   "cell_type": "code",
   "execution_count": 246,
   "id": "f63e9d49",
   "metadata": {},
   "outputs": [],
   "source": [
    "df_ap['Age-Group'] = df_ap['Age-Group'].astype('object')"
   ]
  },
  {
   "cell_type": "code",
   "execution_count": 247,
   "id": "72c567ae",
   "metadata": {},
   "outputs": [],
   "source": [
    "Encoded_df_ap = pd.get_dummies(df_ap)"
   ]
  },
  {
   "cell_type": "code",
   "execution_count": 248,
   "id": "f09d00cf",
   "metadata": {},
   "outputs": [
    {
     "data": {
      "text/html": [
       "<div>\n",
       "<style scoped>\n",
       "    .dataframe tbody tr th:only-of-type {\n",
       "        vertical-align: middle;\n",
       "    }\n",
       "\n",
       "    .dataframe tbody tr th {\n",
       "        vertical-align: top;\n",
       "    }\n",
       "\n",
       "    .dataframe thead th {\n",
       "        text-align: right;\n",
       "    }\n",
       "</style>\n",
       "<table border=\"1\" class=\"dataframe\">\n",
       "  <thead>\n",
       "    <tr style=\"text-align: right;\">\n",
       "      <th></th>\n",
       "      <th>Hypertension</th>\n",
       "      <th>Heart_Disease</th>\n",
       "      <th>Work_Type_Govt_job</th>\n",
       "      <th>Work_Type_Never_worked</th>\n",
       "      <th>Work_Type_Private</th>\n",
       "      <th>Work_Type_Self-employed</th>\n",
       "      <th>Work_Type_children</th>\n",
       "      <th>Smoking Status_Unknown</th>\n",
       "      <th>Smoking Status_formerly smoked</th>\n",
       "      <th>Smoking Status_never smoked</th>\n",
       "      <th>...</th>\n",
       "      <th>Glucose Condition_Pre-Diabetes</th>\n",
       "      <th>Age-Group_1</th>\n",
       "      <th>Age-Group_2</th>\n",
       "      <th>Age-Group_3</th>\n",
       "      <th>Age-Group_4</th>\n",
       "      <th>Age-Group_5</th>\n",
       "      <th>Age-Group_6</th>\n",
       "      <th>Age-Group_7</th>\n",
       "      <th>Age-Group_8</th>\n",
       "      <th>Age-Group_9</th>\n",
       "    </tr>\n",
       "  </thead>\n",
       "  <tbody>\n",
       "    <tr>\n",
       "      <th>0</th>\n",
       "      <td>0</td>\n",
       "      <td>0</td>\n",
       "      <td>0</td>\n",
       "      <td>0</td>\n",
       "      <td>1</td>\n",
       "      <td>0</td>\n",
       "      <td>0</td>\n",
       "      <td>0</td>\n",
       "      <td>0</td>\n",
       "      <td>1</td>\n",
       "      <td>...</td>\n",
       "      <td>0</td>\n",
       "      <td>0</td>\n",
       "      <td>0</td>\n",
       "      <td>0</td>\n",
       "      <td>1</td>\n",
       "      <td>0</td>\n",
       "      <td>0</td>\n",
       "      <td>0</td>\n",
       "      <td>0</td>\n",
       "      <td>0</td>\n",
       "    </tr>\n",
       "    <tr>\n",
       "      <th>1</th>\n",
       "      <td>0</td>\n",
       "      <td>0</td>\n",
       "      <td>0</td>\n",
       "      <td>0</td>\n",
       "      <td>1</td>\n",
       "      <td>0</td>\n",
       "      <td>0</td>\n",
       "      <td>0</td>\n",
       "      <td>0</td>\n",
       "      <td>1</td>\n",
       "      <td>...</td>\n",
       "      <td>0</td>\n",
       "      <td>0</td>\n",
       "      <td>0</td>\n",
       "      <td>0</td>\n",
       "      <td>1</td>\n",
       "      <td>0</td>\n",
       "      <td>0</td>\n",
       "      <td>0</td>\n",
       "      <td>0</td>\n",
       "      <td>0</td>\n",
       "    </tr>\n",
       "    <tr>\n",
       "      <th>2</th>\n",
       "      <td>0</td>\n",
       "      <td>0</td>\n",
       "      <td>0</td>\n",
       "      <td>0</td>\n",
       "      <td>1</td>\n",
       "      <td>0</td>\n",
       "      <td>0</td>\n",
       "      <td>0</td>\n",
       "      <td>0</td>\n",
       "      <td>1</td>\n",
       "      <td>...</td>\n",
       "      <td>0</td>\n",
       "      <td>0</td>\n",
       "      <td>0</td>\n",
       "      <td>0</td>\n",
       "      <td>1</td>\n",
       "      <td>0</td>\n",
       "      <td>0</td>\n",
       "      <td>0</td>\n",
       "      <td>0</td>\n",
       "      <td>0</td>\n",
       "    </tr>\n",
       "    <tr>\n",
       "      <th>3</th>\n",
       "      <td>0</td>\n",
       "      <td>0</td>\n",
       "      <td>0</td>\n",
       "      <td>0</td>\n",
       "      <td>1</td>\n",
       "      <td>0</td>\n",
       "      <td>0</td>\n",
       "      <td>0</td>\n",
       "      <td>0</td>\n",
       "      <td>1</td>\n",
       "      <td>...</td>\n",
       "      <td>0</td>\n",
       "      <td>0</td>\n",
       "      <td>0</td>\n",
       "      <td>0</td>\n",
       "      <td>1</td>\n",
       "      <td>0</td>\n",
       "      <td>0</td>\n",
       "      <td>0</td>\n",
       "      <td>0</td>\n",
       "      <td>0</td>\n",
       "    </tr>\n",
       "    <tr>\n",
       "      <th>4</th>\n",
       "      <td>0</td>\n",
       "      <td>0</td>\n",
       "      <td>0</td>\n",
       "      <td>0</td>\n",
       "      <td>1</td>\n",
       "      <td>0</td>\n",
       "      <td>0</td>\n",
       "      <td>0</td>\n",
       "      <td>0</td>\n",
       "      <td>1</td>\n",
       "      <td>...</td>\n",
       "      <td>0</td>\n",
       "      <td>0</td>\n",
       "      <td>0</td>\n",
       "      <td>0</td>\n",
       "      <td>1</td>\n",
       "      <td>0</td>\n",
       "      <td>0</td>\n",
       "      <td>0</td>\n",
       "      <td>0</td>\n",
       "      <td>0</td>\n",
       "    </tr>\n",
       "    <tr>\n",
       "      <th>...</th>\n",
       "      <td>...</td>\n",
       "      <td>...</td>\n",
       "      <td>...</td>\n",
       "      <td>...</td>\n",
       "      <td>...</td>\n",
       "      <td>...</td>\n",
       "      <td>...</td>\n",
       "      <td>...</td>\n",
       "      <td>...</td>\n",
       "      <td>...</td>\n",
       "      <td>...</td>\n",
       "      <td>...</td>\n",
       "      <td>...</td>\n",
       "      <td>...</td>\n",
       "      <td>...</td>\n",
       "      <td>...</td>\n",
       "      <td>...</td>\n",
       "      <td>...</td>\n",
       "      <td>...</td>\n",
       "      <td>...</td>\n",
       "      <td>...</td>\n",
       "    </tr>\n",
       "    <tr>\n",
       "      <th>5104</th>\n",
       "      <td>0</td>\n",
       "      <td>0</td>\n",
       "      <td>0</td>\n",
       "      <td>0</td>\n",
       "      <td>0</td>\n",
       "      <td>1</td>\n",
       "      <td>0</td>\n",
       "      <td>0</td>\n",
       "      <td>0</td>\n",
       "      <td>0</td>\n",
       "      <td>...</td>\n",
       "      <td>0</td>\n",
       "      <td>0</td>\n",
       "      <td>0</td>\n",
       "      <td>0</td>\n",
       "      <td>0</td>\n",
       "      <td>0</td>\n",
       "      <td>0</td>\n",
       "      <td>1</td>\n",
       "      <td>0</td>\n",
       "      <td>0</td>\n",
       "    </tr>\n",
       "    <tr>\n",
       "      <th>5105</th>\n",
       "      <td>0</td>\n",
       "      <td>0</td>\n",
       "      <td>0</td>\n",
       "      <td>0</td>\n",
       "      <td>0</td>\n",
       "      <td>1</td>\n",
       "      <td>0</td>\n",
       "      <td>0</td>\n",
       "      <td>0</td>\n",
       "      <td>1</td>\n",
       "      <td>...</td>\n",
       "      <td>0</td>\n",
       "      <td>0</td>\n",
       "      <td>0</td>\n",
       "      <td>0</td>\n",
       "      <td>0</td>\n",
       "      <td>0</td>\n",
       "      <td>0</td>\n",
       "      <td>0</td>\n",
       "      <td>0</td>\n",
       "      <td>1</td>\n",
       "    </tr>\n",
       "    <tr>\n",
       "      <th>5106</th>\n",
       "      <td>0</td>\n",
       "      <td>0</td>\n",
       "      <td>0</td>\n",
       "      <td>0</td>\n",
       "      <td>0</td>\n",
       "      <td>1</td>\n",
       "      <td>0</td>\n",
       "      <td>0</td>\n",
       "      <td>0</td>\n",
       "      <td>1</td>\n",
       "      <td>...</td>\n",
       "      <td>0</td>\n",
       "      <td>0</td>\n",
       "      <td>0</td>\n",
       "      <td>0</td>\n",
       "      <td>0</td>\n",
       "      <td>0</td>\n",
       "      <td>0</td>\n",
       "      <td>1</td>\n",
       "      <td>0</td>\n",
       "      <td>0</td>\n",
       "    </tr>\n",
       "    <tr>\n",
       "      <th>5107</th>\n",
       "      <td>0</td>\n",
       "      <td>0</td>\n",
       "      <td>0</td>\n",
       "      <td>0</td>\n",
       "      <td>0</td>\n",
       "      <td>1</td>\n",
       "      <td>0</td>\n",
       "      <td>0</td>\n",
       "      <td>0</td>\n",
       "      <td>1</td>\n",
       "      <td>...</td>\n",
       "      <td>0</td>\n",
       "      <td>0</td>\n",
       "      <td>0</td>\n",
       "      <td>0</td>\n",
       "      <td>0</td>\n",
       "      <td>1</td>\n",
       "      <td>0</td>\n",
       "      <td>0</td>\n",
       "      <td>0</td>\n",
       "      <td>0</td>\n",
       "    </tr>\n",
       "    <tr>\n",
       "      <th>5108</th>\n",
       "      <td>0</td>\n",
       "      <td>0</td>\n",
       "      <td>0</td>\n",
       "      <td>0</td>\n",
       "      <td>0</td>\n",
       "      <td>1</td>\n",
       "      <td>0</td>\n",
       "      <td>0</td>\n",
       "      <td>0</td>\n",
       "      <td>1</td>\n",
       "      <td>...</td>\n",
       "      <td>0</td>\n",
       "      <td>0</td>\n",
       "      <td>0</td>\n",
       "      <td>1</td>\n",
       "      <td>0</td>\n",
       "      <td>0</td>\n",
       "      <td>0</td>\n",
       "      <td>0</td>\n",
       "      <td>0</td>\n",
       "      <td>0</td>\n",
       "    </tr>\n",
       "  </tbody>\n",
       "</table>\n",
       "<p>4908 rows × 27 columns</p>\n",
       "</div>"
      ],
      "text/plain": [
       "      Hypertension  Heart_Disease  Work_Type_Govt_job  Work_Type_Never_worked  \\\n",
       "0                0              0                   0                       0   \n",
       "1                0              0                   0                       0   \n",
       "2                0              0                   0                       0   \n",
       "3                0              0                   0                       0   \n",
       "4                0              0                   0                       0   \n",
       "...            ...            ...                 ...                     ...   \n",
       "5104             0              0                   0                       0   \n",
       "5105             0              0                   0                       0   \n",
       "5106             0              0                   0                       0   \n",
       "5107             0              0                   0                       0   \n",
       "5108             0              0                   0                       0   \n",
       "\n",
       "      Work_Type_Private  Work_Type_Self-employed  Work_Type_children  \\\n",
       "0                     1                        0                   0   \n",
       "1                     1                        0                   0   \n",
       "2                     1                        0                   0   \n",
       "3                     1                        0                   0   \n",
       "4                     1                        0                   0   \n",
       "...                 ...                      ...                 ...   \n",
       "5104                  0                        1                   0   \n",
       "5105                  0                        1                   0   \n",
       "5106                  0                        1                   0   \n",
       "5107                  0                        1                   0   \n",
       "5108                  0                        1                   0   \n",
       "\n",
       "      Smoking Status_Unknown  Smoking Status_formerly smoked  \\\n",
       "0                          0                               0   \n",
       "1                          0                               0   \n",
       "2                          0                               0   \n",
       "3                          0                               0   \n",
       "4                          0                               0   \n",
       "...                      ...                             ...   \n",
       "5104                       0                               0   \n",
       "5105                       0                               0   \n",
       "5106                       0                               0   \n",
       "5107                       0                               0   \n",
       "5108                       0                               0   \n",
       "\n",
       "      Smoking Status_never smoked  ...  Glucose Condition_Pre-Diabetes  \\\n",
       "0                               1  ...                               0   \n",
       "1                               1  ...                               0   \n",
       "2                               1  ...                               0   \n",
       "3                               1  ...                               0   \n",
       "4                               1  ...                               0   \n",
       "...                           ...  ...                             ...   \n",
       "5104                            0  ...                               0   \n",
       "5105                            1  ...                               0   \n",
       "5106                            1  ...                               0   \n",
       "5107                            1  ...                               0   \n",
       "5108                            1  ...                               0   \n",
       "\n",
       "      Age-Group_1  Age-Group_2  Age-Group_3  Age-Group_4  Age-Group_5  \\\n",
       "0               0            0            0            1            0   \n",
       "1               0            0            0            1            0   \n",
       "2               0            0            0            1            0   \n",
       "3               0            0            0            1            0   \n",
       "4               0            0            0            1            0   \n",
       "...           ...          ...          ...          ...          ...   \n",
       "5104            0            0            0            0            0   \n",
       "5105            0            0            0            0            0   \n",
       "5106            0            0            0            0            0   \n",
       "5107            0            0            0            0            1   \n",
       "5108            0            0            1            0            0   \n",
       "\n",
       "      Age-Group_6  Age-Group_7  Age-Group_8  Age-Group_9  \n",
       "0               0            0            0            0  \n",
       "1               0            0            0            0  \n",
       "2               0            0            0            0  \n",
       "3               0            0            0            0  \n",
       "4               0            0            0            0  \n",
       "...           ...          ...          ...          ...  \n",
       "5104            0            1            0            0  \n",
       "5105            0            0            0            1  \n",
       "5106            0            1            0            0  \n",
       "5107            0            0            0            0  \n",
       "5108            0            0            0            0  \n",
       "\n",
       "[4908 rows x 27 columns]"
      ]
     },
     "execution_count": 248,
     "metadata": {},
     "output_type": "execute_result"
    }
   ],
   "source": [
    "Encoded_df_ap"
   ]
  },
  {
   "cell_type": "code",
   "execution_count": 249,
   "id": "3c4c9508",
   "metadata": {},
   "outputs": [
    {
     "name": "stdout",
     "output_type": "stream",
     "text": [
      "Processing 8 combinations | Sampling itemset size 4 3\n"
     ]
    }
   ],
   "source": [
    "ap = apriori(Encoded_df_ap, min_support = 0.1, use_colnames = True, verbose = 1)"
   ]
  },
  {
   "cell_type": "code",
   "execution_count": 250,
   "id": "de3333cb",
   "metadata": {},
   "outputs": [],
   "source": [
    "df_ap_rules = association_rules(ap, metric = \"confidence\", min_threshold = 0.60)"
   ]
  },
  {
   "cell_type": "code",
   "execution_count": 251,
   "id": "8ee871e4",
   "metadata": {
    "scrolled": false
   },
   "outputs": [
    {
     "data": {
      "text/html": [
       "<div>\n",
       "<style scoped>\n",
       "    .dataframe tbody tr th:only-of-type {\n",
       "        vertical-align: middle;\n",
       "    }\n",
       "\n",
       "    .dataframe tbody tr th {\n",
       "        vertical-align: top;\n",
       "    }\n",
       "\n",
       "    .dataframe thead th {\n",
       "        text-align: right;\n",
       "    }\n",
       "</style>\n",
       "<table border=\"1\" class=\"dataframe\">\n",
       "  <thead>\n",
       "    <tr style=\"text-align: right;\">\n",
       "      <th></th>\n",
       "      <th>antecedents</th>\n",
       "      <th>consequents</th>\n",
       "      <th>antecedent support</th>\n",
       "      <th>consequent support</th>\n",
       "      <th>support</th>\n",
       "      <th>confidence</th>\n",
       "      <th>lift</th>\n",
       "      <th>leverage</th>\n",
       "      <th>conviction</th>\n",
       "    </tr>\n",
       "  </thead>\n",
       "  <tbody>\n",
       "    <tr>\n",
       "      <th>5</th>\n",
       "      <td>(Work_Type_children)</td>\n",
       "      <td>(Smoking Status_never smoked)</td>\n",
       "      <td>0.136716</td>\n",
       "      <td>0.470864</td>\n",
       "      <td>0.104116</td>\n",
       "      <td>0.761550</td>\n",
       "      <td>1.617346</td>\n",
       "      <td>0.039741</td>\n",
       "      <td>2.219065</td>\n",
       "    </tr>\n",
       "    <tr>\n",
       "      <th>0</th>\n",
       "      <td>(Smoking Status_smokes)</td>\n",
       "      <td>(Work_Type_Private)</td>\n",
       "      <td>0.150163</td>\n",
       "      <td>0.572535</td>\n",
       "      <td>0.103504</td>\n",
       "      <td>0.689281</td>\n",
       "      <td>1.203911</td>\n",
       "      <td>0.017531</td>\n",
       "      <td>1.375729</td>\n",
       "    </tr>\n",
       "    <tr>\n",
       "      <th>8</th>\n",
       "      <td>(Weight Condition_Normal)</td>\n",
       "      <td>(Glucose Condition_Normal)</td>\n",
       "      <td>0.253056</td>\n",
       "      <td>0.617359</td>\n",
       "      <td>0.168093</td>\n",
       "      <td>0.664251</td>\n",
       "      <td>1.075955</td>\n",
       "      <td>0.011866</td>\n",
       "      <td>1.139663</td>\n",
       "    </tr>\n",
       "    <tr>\n",
       "      <th>12</th>\n",
       "      <td>(Weight Condition_Obese, Glucose Condition_Nor...</td>\n",
       "      <td>(Work_Type_Private)</td>\n",
       "      <td>0.224124</td>\n",
       "      <td>0.572535</td>\n",
       "      <td>0.148329</td>\n",
       "      <td>0.661818</td>\n",
       "      <td>1.155944</td>\n",
       "      <td>0.020011</td>\n",
       "      <td>1.264010</td>\n",
       "    </tr>\n",
       "    <tr>\n",
       "      <th>6</th>\n",
       "      <td>(Smoking Status_Unknown)</td>\n",
       "      <td>(Glucose Condition_Normal)</td>\n",
       "      <td>0.208639</td>\n",
       "      <td>0.617359</td>\n",
       "      <td>0.136104</td>\n",
       "      <td>0.652344</td>\n",
       "      <td>1.056668</td>\n",
       "      <td>0.007299</td>\n",
       "      <td>1.100629</td>\n",
       "    </tr>\n",
       "    <tr>\n",
       "      <th>1</th>\n",
       "      <td>(Weight Condition_Obese)</td>\n",
       "      <td>(Work_Type_Private)</td>\n",
       "      <td>0.391198</td>\n",
       "      <td>0.572535</td>\n",
       "      <td>0.253056</td>\n",
       "      <td>0.646875</td>\n",
       "      <td>1.129844</td>\n",
       "      <td>0.029082</td>\n",
       "      <td>1.210521</td>\n",
       "    </tr>\n",
       "    <tr>\n",
       "      <th>10</th>\n",
       "      <td>(Weight Condition_Obese, Smoking Status_never ...</td>\n",
       "      <td>(Work_Type_Private)</td>\n",
       "      <td>0.162795</td>\n",
       "      <td>0.572535</td>\n",
       "      <td>0.104523</td>\n",
       "      <td>0.642053</td>\n",
       "      <td>1.121421</td>\n",
       "      <td>0.011317</td>\n",
       "      <td>1.194213</td>\n",
       "    </tr>\n",
       "    <tr>\n",
       "      <th>2</th>\n",
       "      <td>(Weight Condition_Overweight)</td>\n",
       "      <td>(Work_Type_Private)</td>\n",
       "      <td>0.287082</td>\n",
       "      <td>0.572535</td>\n",
       "      <td>0.181133</td>\n",
       "      <td>0.630944</td>\n",
       "      <td>1.102019</td>\n",
       "      <td>0.016768</td>\n",
       "      <td>1.158267</td>\n",
       "    </tr>\n",
       "    <tr>\n",
       "      <th>13</th>\n",
       "      <td>(Weight Condition_Overweight, Glucose Conditio...</td>\n",
       "      <td>(Work_Type_Private)</td>\n",
       "      <td>0.178077</td>\n",
       "      <td>0.572535</td>\n",
       "      <td>0.111247</td>\n",
       "      <td>0.624714</td>\n",
       "      <td>1.091137</td>\n",
       "      <td>0.009292</td>\n",
       "      <td>1.139039</td>\n",
       "    </tr>\n",
       "    <tr>\n",
       "      <th>9</th>\n",
       "      <td>(Weight Condition_Overweight)</td>\n",
       "      <td>(Glucose Condition_Normal)</td>\n",
       "      <td>0.287082</td>\n",
       "      <td>0.617359</td>\n",
       "      <td>0.178077</td>\n",
       "      <td>0.620298</td>\n",
       "      <td>1.004760</td>\n",
       "      <td>0.000844</td>\n",
       "      <td>1.007739</td>\n",
       "    </tr>\n",
       "    <tr>\n",
       "      <th>4</th>\n",
       "      <td>(Age-Group_6)</td>\n",
       "      <td>(Work_Type_Private)</td>\n",
       "      <td>0.164018</td>\n",
       "      <td>0.572535</td>\n",
       "      <td>0.101671</td>\n",
       "      <td>0.619876</td>\n",
       "      <td>1.082687</td>\n",
       "      <td>0.007765</td>\n",
       "      <td>1.124541</td>\n",
       "    </tr>\n",
       "    <tr>\n",
       "      <th>3</th>\n",
       "      <td>(Work_Type_Private)</td>\n",
       "      <td>(Glucose Condition_Normal)</td>\n",
       "      <td>0.572535</td>\n",
       "      <td>0.617359</td>\n",
       "      <td>0.354727</td>\n",
       "      <td>0.619573</td>\n",
       "      <td>1.003585</td>\n",
       "      <td>0.001267</td>\n",
       "      <td>1.005819</td>\n",
       "    </tr>\n",
       "    <tr>\n",
       "      <th>7</th>\n",
       "      <td>(Smoking Status_never smoked)</td>\n",
       "      <td>(Glucose Condition_Normal)</td>\n",
       "      <td>0.470864</td>\n",
       "      <td>0.617359</td>\n",
       "      <td>0.291565</td>\n",
       "      <td>0.619212</td>\n",
       "      <td>1.003002</td>\n",
       "      <td>0.000873</td>\n",
       "      <td>1.004866</td>\n",
       "    </tr>\n",
       "    <tr>\n",
       "      <th>11</th>\n",
       "      <td>(Smoking Status_never smoked, Work_Type_Private)</td>\n",
       "      <td>(Glucose Condition_Normal)</td>\n",
       "      <td>0.242869</td>\n",
       "      <td>0.617359</td>\n",
       "      <td>0.149959</td>\n",
       "      <td>0.617450</td>\n",
       "      <td>1.000146</td>\n",
       "      <td>0.000022</td>\n",
       "      <td>1.000236</td>\n",
       "    </tr>\n",
       "    <tr>\n",
       "      <th>14</th>\n",
       "      <td>(Weight Condition_Overweight, Work_Type_Private)</td>\n",
       "      <td>(Glucose Condition_Normal)</td>\n",
       "      <td>0.181133</td>\n",
       "      <td>0.617359</td>\n",
       "      <td>0.111247</td>\n",
       "      <td>0.614173</td>\n",
       "      <td>0.994839</td>\n",
       "      <td>-0.000577</td>\n",
       "      <td>0.991742</td>\n",
       "    </tr>\n",
       "  </tbody>\n",
       "</table>\n",
       "</div>"
      ],
      "text/plain": [
       "                                          antecedents  \\\n",
       "5                                (Work_Type_children)   \n",
       "0                             (Smoking Status_smokes)   \n",
       "8                           (Weight Condition_Normal)   \n",
       "12  (Weight Condition_Obese, Glucose Condition_Nor...   \n",
       "6                            (Smoking Status_Unknown)   \n",
       "1                            (Weight Condition_Obese)   \n",
       "10  (Weight Condition_Obese, Smoking Status_never ...   \n",
       "2                       (Weight Condition_Overweight)   \n",
       "13  (Weight Condition_Overweight, Glucose Conditio...   \n",
       "9                       (Weight Condition_Overweight)   \n",
       "4                                       (Age-Group_6)   \n",
       "3                                 (Work_Type_Private)   \n",
       "7                       (Smoking Status_never smoked)   \n",
       "11   (Smoking Status_never smoked, Work_Type_Private)   \n",
       "14   (Weight Condition_Overweight, Work_Type_Private)   \n",
       "\n",
       "                      consequents  antecedent support  consequent support  \\\n",
       "5   (Smoking Status_never smoked)            0.136716            0.470864   \n",
       "0             (Work_Type_Private)            0.150163            0.572535   \n",
       "8      (Glucose Condition_Normal)            0.253056            0.617359   \n",
       "12            (Work_Type_Private)            0.224124            0.572535   \n",
       "6      (Glucose Condition_Normal)            0.208639            0.617359   \n",
       "1             (Work_Type_Private)            0.391198            0.572535   \n",
       "10            (Work_Type_Private)            0.162795            0.572535   \n",
       "2             (Work_Type_Private)            0.287082            0.572535   \n",
       "13            (Work_Type_Private)            0.178077            0.572535   \n",
       "9      (Glucose Condition_Normal)            0.287082            0.617359   \n",
       "4             (Work_Type_Private)            0.164018            0.572535   \n",
       "3      (Glucose Condition_Normal)            0.572535            0.617359   \n",
       "7      (Glucose Condition_Normal)            0.470864            0.617359   \n",
       "11     (Glucose Condition_Normal)            0.242869            0.617359   \n",
       "14     (Glucose Condition_Normal)            0.181133            0.617359   \n",
       "\n",
       "     support  confidence      lift  leverage  conviction  \n",
       "5   0.104116    0.761550  1.617346  0.039741    2.219065  \n",
       "0   0.103504    0.689281  1.203911  0.017531    1.375729  \n",
       "8   0.168093    0.664251  1.075955  0.011866    1.139663  \n",
       "12  0.148329    0.661818  1.155944  0.020011    1.264010  \n",
       "6   0.136104    0.652344  1.056668  0.007299    1.100629  \n",
       "1   0.253056    0.646875  1.129844  0.029082    1.210521  \n",
       "10  0.104523    0.642053  1.121421  0.011317    1.194213  \n",
       "2   0.181133    0.630944  1.102019  0.016768    1.158267  \n",
       "13  0.111247    0.624714  1.091137  0.009292    1.139039  \n",
       "9   0.178077    0.620298  1.004760  0.000844    1.007739  \n",
       "4   0.101671    0.619876  1.082687  0.007765    1.124541  \n",
       "3   0.354727    0.619573  1.003585  0.001267    1.005819  \n",
       "7   0.291565    0.619212  1.003002  0.000873    1.004866  \n",
       "11  0.149959    0.617450  1.000146  0.000022    1.000236  \n",
       "14  0.111247    0.614173  0.994839 -0.000577    0.991742  "
      ]
     },
     "execution_count": 251,
     "metadata": {},
     "output_type": "execute_result"
    }
   ],
   "source": [
    "df_ap_rules.sort_values(by='confidence', ascending=False)"
   ]
  }
 ],
 "metadata": {
  "kernelspec": {
   "display_name": "Python 3 (ipykernel)",
   "language": "python",
   "name": "python3"
  },
  "language_info": {
   "codemirror_mode": {
    "name": "ipython",
    "version": 3
   },
   "file_extension": ".py",
   "mimetype": "text/x-python",
   "name": "python",
   "nbconvert_exporter": "python",
   "pygments_lexer": "ipython3",
   "version": "3.9.7"
  }
 },
 "nbformat": 4,
 "nbformat_minor": 5
}
